{
 "cells": [
  {
   "cell_type": "markdown",
   "metadata": {},
   "source": [
    "# Purpose of this notebook\n",
    "\n",
    "Give a brief and not-so-brief introduction of what python notebooks are in the first place, and why they may be useful for you."
   ]
  },
  {
   "cell_type": "markdown",
   "metadata": {},
   "source": [
    "## Introduction by example\n",
    "\n",
    "For a more technical introduction, scroll down. \n",
    "\n",
    "For some exmaples of what you might put in and get out:"
   ]
  },
  {
   "cell_type": "code",
   "execution_count": 6,
   "metadata": {},
   "outputs": [
    {
     "name": "stdout",
     "output_type": "stream",
     "text": [
      "Groene/ADJ  kaas/NOUN  is/AUX  sterk/ADJ  "
     ]
    }
   ],
   "source": [
    "# Topical for this project: Spacy is a NLP package that analyses text into its basic interpretation  (more on it in a separate notebook)\n",
    "# assuming spacy and the mentioned model are already installed...\n",
    "import spacy\n",
    "\n",
    "dutch_parser = spacy.load('nl_core_news_sm')     # load a specific language model,\n",
    "analysed = dutch_parser(\"Groene kaas is sterk\")   # give it a sentence,\n",
    "for token in analysed:                            # have it say (some) of what each piece is.\n",
    "    print('%s/%s  '%(token.text, token.pos_), end='')"
   ]
  },
  {
   "cell_type": "code",
   "execution_count": 9,
   "metadata": {},
   "outputs": [
    {
     "name": "stdout",
     "output_type": "stream",
     "text": [
      "afwijking\n",
      "het derde lid\n",
      "leerlingen\n",
      "een indicatie\n",
      "leerwegondersteunend onderwijs\n",
      "de het samenwerkingsverband\n",
      "zij\n",
      "dit onderwijs\n",
      "een ratio\n",
      "leraar/leerling\n"
     ]
    }
   ],
   "source": [
    "# or, slightly more usefully,\n",
    "analysed = dutch_parser(\"In afwijking van het derde lid geldt voor leerlingen met een indicatie voor leerwegondersteunend onderwijs voor wie de het samenwerkingsverband heeft bepaald dat zij op dit onderwijs zijn aangewezen een ratio leraar/leerling van 1/17,14.\")\n",
    "for nc in analysed.noun_chunks:                            # have it say (some) of what each piece is.\n",
    "    print(nc)"
   ]
  },
  {
   "cell_type": "code",
   "execution_count": 2,
   "metadata": {},
   "outputs": [
    {
     "data": {
      "text/plain": [
       "<matplotlib.axes._subplots.AxesSubplot at 0x7f039b44bd60>"
      ]
     },
     "metadata": {},
     "output_type": "display_data"
    },
    {
     "data": {
      "image/png": "[encoded data removed]",
      "text/plain": [
       "<Figure size 640x480 with 1 Axes>"
      ]
     },
     "metadata": {},
     "output_type": "display_data"
    }
   ],
   "source": [
    "# Notebooks make visualisation easier, of data and of results\n",
    "import matplotlib.pyplot, random\n",
    "\n",
    "fig, ax = matplotlib.pyplot.subplots()\n",
    "ax.plot([1,2,3, 4],\n",
    "        [1,4,12,1])\n",
    "ax.set_title('some data')\n",
    "\n",
    "display(ax)  # display() exists (only) in these notebook environments"
   ]
  },
  {
   "cell_type": "markdown",
   "metadata": {},
   "source": [
    "Also, do a search for '[matplotlib gallery](https://matplotlib.org/stable/gallery/index.html)' to see further plots peope made.\n",
    "\n",
    "Also consider the somewhat more advanced seaborn - and similarly look for '[seaborn gallery](https://seaborn.pydata.org/examples/index.html)'\n"
   ]
  },
  {
   "cell_type": "code",
   "execution_count": 3,
   "metadata": {},
   "outputs": [
    {
     "data": {
      "text/html": [
       "<div>\n",
       "<style scoped>\n",
       "    .dataframe tbody tr th:only-of-type {\n",
       "        vertical-align: middle;\n",
       "    }\n",
       "\n",
       "    .dataframe tbody tr th {\n",
       "        vertical-align: top;\n",
       "    }\n",
       "\n",
       "    .dataframe thead th {\n",
       "        text-align: right;\n",
       "    }\n",
       "</style>\n",
       "<table border=\"1\" class=\"dataframe\">\n",
       "  <thead>\n",
       "    <tr style=\"text-align: right;\">\n",
       "      <th></th>\n",
       "      <th>pickup</th>\n",
       "      <th>dropoff</th>\n",
       "      <th>passengers</th>\n",
       "      <th>distance</th>\n",
       "      <th>fare</th>\n",
       "      <th>tip</th>\n",
       "      <th>tolls</th>\n",
       "      <th>total</th>\n",
       "      <th>color</th>\n",
       "      <th>payment</th>\n",
       "      <th>pickup_zone</th>\n",
       "      <th>dropoff_zone</th>\n",
       "      <th>pickup_borough</th>\n",
       "      <th>dropoff_borough</th>\n",
       "    </tr>\n",
       "  </thead>\n",
       "  <tbody>\n",
       "    <tr>\n",
       "      <th>0</th>\n",
       "      <td>2019-03-23 20:21:09</td>\n",
       "      <td>2019-03-23 20:27:24</td>\n",
       "      <td>1</td>\n",
       "      <td>1.60</td>\n",
       "      <td>7.0</td>\n",
       "      <td>2.15</td>\n",
       "      <td>0.0</td>\n",
       "      <td>12.95</td>\n",
       "      <td>yellow</td>\n",
       "      <td>credit card</td>\n",
       "      <td>Lenox Hill West</td>\n",
       "      <td>UN/Turtle Bay South</td>\n",
       "      <td>Manhattan</td>\n",
       "      <td>Manhattan</td>\n",
       "    </tr>\n",
       "    <tr>\n",
       "      <th>1</th>\n",
       "      <td>2019-03-04 16:11:55</td>\n",
       "      <td>2019-03-04 16:19:00</td>\n",
       "      <td>1</td>\n",
       "      <td>0.79</td>\n",
       "      <td>5.0</td>\n",
       "      <td>0.00</td>\n",
       "      <td>0.0</td>\n",
       "      <td>9.30</td>\n",
       "      <td>yellow</td>\n",
       "      <td>cash</td>\n",
       "      <td>Upper West Side South</td>\n",
       "      <td>Upper West Side South</td>\n",
       "      <td>Manhattan</td>\n",
       "      <td>Manhattan</td>\n",
       "    </tr>\n",
       "    <tr>\n",
       "      <th>2</th>\n",
       "      <td>2019-03-27 17:53:01</td>\n",
       "      <td>2019-03-27 18:00:25</td>\n",
       "      <td>1</td>\n",
       "      <td>1.37</td>\n",
       "      <td>7.5</td>\n",
       "      <td>2.36</td>\n",
       "      <td>0.0</td>\n",
       "      <td>14.16</td>\n",
       "      <td>yellow</td>\n",
       "      <td>credit card</td>\n",
       "      <td>Alphabet City</td>\n",
       "      <td>West Village</td>\n",
       "      <td>Manhattan</td>\n",
       "      <td>Manhattan</td>\n",
       "    </tr>\n",
       "  </tbody>\n",
       "</table>\n",
       "</div>"
      ],
      "text/plain": [
       "                pickup              dropoff  passengers  distance  fare   tip  \\\n",
       "0  2019-03-23 20:21:09  2019-03-23 20:27:24           1      1.60   7.0  2.15   \n",
       "1  2019-03-04 16:11:55  2019-03-04 16:19:00           1      0.79   5.0  0.00   \n",
       "2  2019-03-27 17:53:01  2019-03-27 18:00:25           1      1.37   7.5  2.36   \n",
       "\n",
       "   tolls  total   color      payment            pickup_zone  \\\n",
       "0    0.0  12.95  yellow  credit card        Lenox Hill West   \n",
       "1    0.0   9.30  yellow         cash  Upper West Side South   \n",
       "2    0.0  14.16  yellow  credit card          Alphabet City   \n",
       "\n",
       "            dropoff_zone pickup_borough dropoff_borough  \n",
       "0    UN/Turtle Bay South      Manhattan       Manhattan  \n",
       "1  Upper West Side South      Manhattan       Manhattan  \n",
       "2           West Village      Manhattan       Manhattan  "
      ]
     },
     "metadata": {},
     "output_type": "display_data"
    }
   ],
   "source": [
    "import seaborn, pandas    # pandas to load into a table of sorts, seaborn to give us some example data\n",
    "\n",
    "# seaborn.get_dataset_names()\n",
    "\n",
    "display( seaborn.load_dataset('taxis')[:3] )   # seaborn has some toy datasets\n",
    "# seaborn.load_dataset returns a pandas dataframe,   which gets shown as a table"
   ]
  },
  {
   "cell_type": "markdown",
   "metadata": {},
   "source": [
    "# ...on colab\n",
    "\n",
    "If you click the following button, this particular notebook (well, a copy of the version currently on github) will be fetched by colab, \n",
    "a google product that lets you run notebooks in a sandbox of sorts.\n",
    "\n",
    "<a href=\"https://colab.research.google.com/github/knobs-dials/wetsuite-dev/blob/main/notebooks/intro/technical_notebooks_basics.ipynb\" target=\"_parent\"><img src=\"https://colab.research.google.com/assets/colab-badge.svg\" alt=\"Open In Colab\"/></a>\n",
    "\n",
    "What this actually does is\n",
    "- make copy the notebook from this repository, into colab\n",
    "- give you a completely temporary sandbox, in that\n",
    "  - You will not edit our code, just your copy. Play at will. \n",
    "  - you will not clutter your own PC with the results\n",
    "    - both an upside, in that each such experiment won't leave behind a mess\n",
    "    - ...and a downside, in that if you _wanted_ to keep all the results, more work is required\n",
    "\n",
    "Colab is interesting because its _basic_ vesion is free, being fully online, requires no installation.\n",
    "\n",
    "(Google wants you to do serious enough projects that you get interested in paying for more and faster, but there are many things you can sandbox there for free)"
   ]
  },
  {
   "cell_type": "markdown",
   "metadata": {},
   "source": [
    "## ...plus wetsuite"
   ]
  },
  {
   "cell_type": "code",
   "execution_count": null,
   "metadata": {},
   "outputs": [],
   "source": [
    "# (only) in colab, run this first to install wetsuite from (the most recent) source.   \n",
    "# For your own setup, see wetsuite's install guidelines.\n",
    "!pip3 install -U --no-cache-dir --quiet https://github.com/knobs-dials/wetsuite-dev/archive/refs/heads/main.zip"
   ]
  },
  {
   "cell_type": "code",
   "execution_count": 10,
   "metadata": {},
   "outputs": [
    {
     "data": {
      "text/plain": [
       "{'urls': ['https://repository.overheid.nl/frbr/officielepublicaties/ah-tk/20112012/ah-tk-20112012-2378/1/metadata/metadata.xml',\n",
       "  'https://repository.overheid.nl/frbr/officielepublicaties/ah-tk/20112012/ah-tk-20112012-2378/1/xml/ah-tk-20112012-2378.xml'],\n",
       " 'identifier': 'ah-tk-20112012-2378',\n",
       " 'type': ['officiële publicatie', 'Antwoord', 'Aanhangsel van de Handelingen'],\n",
       " 'available': '2012-05-02',\n",
       " 'issued': '2012-05-01',\n",
       " 'category': 'Openbare orde en veiligheid | Organisatie en beleid',\n",
       " 'indiener': ['T. Dibi'],\n",
       " 'ontvanger': ['J.W.E. Spies'],\n",
       " 'vergaderjaar': '2011-2012',\n",
       " 'vraagdata': {'1': {'vraag': ['Kent u het bericht dat de burgemeester van de gemeente Rhenen in aanloop naar Koninginnedag 2012 huiszoekingen wil laten uitvoeren en dat wie niet meewerkt zal worden gearresteerd?',\n",
       "    '<vraag>\\n      <nr status=\"officieel\">Vraag 1</nr>\\n      <al>Kent u het bericht dat de burgemeester van de gemeente Rhenen in aanloop naar Koninginnedag 2012 huiszoekingen wil laten uitvoeren en dat wie niet meewerkt zal worden gearresteerd?<noot id=\"ID-2012Z05597-d36e59\" type=\"voet\"><noot.nr>1</noot.nr><noot.al> «Kamervragen over huiszoekingen voor koninginnedag», <extref soort=\"URL\" doc=\"http://www.elsevier.nl\" status=\"actief\">www.elsevier.nl</extref>, 9\\xa0maart 2012.</noot.al></noot> Zo ja, klopt dit bericht?</al>\\n    </vraag>\\n    '],\n",
       "   'antwoord': ['Ja. Het bericht betreft een fragment van het verloop van een voorlichtingsbijeenkomst in de aanloop naar Koninginnedag 2012 en mist daardoor de context waarin de opmerking van de burgemeester is geplaatst. Het binnentreden zonder toestemming van de bewoner en het verrichten van huiszoekingen en arrestaties kunnen uiteraard niet zomaar worden verricht. Dit zijn vergaande bevoegdheden waarmee terughoudend dient te worden omgegaan en die uitsluitend kunnen worden toegepast binnen de grenzen van wet- en regelgeving. De burgemeester geeft daar ook blijk van in het door hem verstrekte ambtsbericht.',\n",
       "    '<antwoord>\\n      <nr status=\"officieel\">Antwoord 1</nr>\\n      <al>Ja. Het bericht betreft een fragment van het verloop van een voorlichtingsbijeenkomst in de aanloop naar Koninginnedag 2012 en mist daardoor de context waarin de opmerking van de burgemeester is geplaatst. Het binnentreden zonder toestemming van de bewoner en het verrichten van huiszoekingen en arrestaties kunnen uiteraard niet zomaar worden verricht. Dit zijn vergaande bevoegdheden waarmee terughoudend dient te worden omgegaan en die uitsluitend kunnen worden toegepast binnen de grenzen van wet- en regelgeving. De burgemeester geeft daar ook blijk van in het door hem verstrekte ambtsbericht.</al>\\n    </antwoord>\\n    ']},\n",
       "  '2': {'vraag': ['Heeft de burgemeester van Rhenen überhaupt wel de juridische bevoegdheid om dergelijke vergaande bevoegdheden te treffen? Zo ja, welke juridische grondslag hebben deze huiszoekingen? Hoe verhoudt dit voornemen zich tot het grondwettelijk en verdragsrechtelijk erkende recht op eerbiediging van de persoonlijke levenssfeer? Vindt u dit voornemen van de Rhenense burgemeester voldoen aan de criteria van subsidiariteit en proportionaliteit?',\n",
       "    '<vraag>\\n      <nr status=\"officieel\">Vraag 2</nr>\\n      <al>Heeft de burgemeester van Rhenen überhaupt wel de juridische bevoegdheid om dergelijke vergaande bevoegdheden te treffen? Zo ja, welke juridische grondslag hebben deze huiszoekingen? Hoe verhoudt dit voornemen zich tot het grondwettelijk en verdragsrechtelijk erkende recht op eerbiediging van de persoonlijke levenssfeer? Vindt u dit voornemen van de Rhenense burgemeester voldoen aan de criteria van subsidiariteit en proportionaliteit?</al>\\n    </vraag>\\n    '],\n",
       "   'antwoord': ['In zijn ambtsbericht laat de burgemeester weten dat er geen voornemen tot huiszoeking bestaat en eerst bij een eventueel ernstig dreigende situatie sprake zal kunnen zijn van rechtmatig binnentreden.\\n\\nBinnentreden zonder toestemming van de bewoner is een inperking van het huisrecht, zoals gegarandeerd in artikel 12 van de Grondwet, artikel 8 van het Europees Verdrag tot bescherming van de rechten van de mens en de fundamentele vrijheden, artikel 17 van het Internationaal Verdrag inzake burgerrechten en politieke rechten en artikel 7 van het Handvest van de grondrechten van de Europese Unie. Het binnentreden in een woning zonder toestemming van de bewoner is daarom slechts geoorloofd in de gevallen bij of krachtens de wet bepaald, door hen die daartoe bij of krachtens de wet zijn aangewezen, aldus artikel 12, eerste lid, van de Grondwet. De bevoegdheid tot binnentreden zonder toestemming moet zijn geregeld in een specifiek daarop toegesneden formele wet (of in daarop gebaseerde lagere regelgeving), zoals artikel 8 van de Politiewet, artikel 55a van het Wetboek van Strafvordering, artikel 49 van de Wet Wapens en Munitie of artikel 149a van de Gemeentewet. Voorts gelden er verschillende vormvereisten op grond artikel 12, tweede en derde lid, van de Grondwet voor het binnentreden in overeenstemming met artikel 12, eerste lid, van de Grondwet. Deze zijn uitgewerkt in de Algemene wet op het binnentreden. Daarin is onder andere als vereiste voor de bevoegdheid tot binnentreden zonder toestemming van de bewoner opgenomen dat er, behoudens enkele uitzonderingen, sprake moet zijn van een rechterlijke of bestuurlijke machtiging.\\n\\nIn het onderhavige geval van de gemeente Rhenen is van belang dat ten tijde van Koninginnedag een noodverordening van kracht is (Koninginnedagnoodverordening 2012) die strekt tot handhaving van de openbare orde en het beperken van gevaar voor personen, alsmede een algemene raadsverordening die mede is gebaseerd op artikel 149a van de Gemeentewet. Deze raadsverordening biedt de grondslag voor de bevoegdheid tot binnentreden zonder toestemming van de bewoner, ten behoeve van het toezicht op de naleving of de opsporing van een overtreding van de Koninginnedagnoodverordening 2012. Daadwerkelijk inzet van deze bevoegdheid zal moeten voldoen aan de vereisten van proportionaliteit en subsidiariteit. De vraag of daarvan sprake is, kan pas kort voorafgaand aan en na de eventuele inzet van de bevoegdheid worden beantwoord. De inzet van bevoegdheden is toetsbaar door de rechter.',\n",
       "    '<antwoord>\\n      <nr status=\"officieel\">Antwoord 2</nr>\\n      <al>In zijn ambtsbericht laat de burgemeester weten dat er geen voornemen tot huiszoeking bestaat en eerst bij een eventueel ernstig dreigende situatie sprake zal kunnen zijn van rechtmatig binnentreden.</al>\\n      <al>Binnentreden zonder toestemming van de bewoner is een inperking van het huisrecht, zoals gegarandeerd in artikel 12 van de Grondwet, artikel 8 van het Europees Verdrag tot bescherming van de rechten van de mens en de fundamentele vrijheden, artikel 17 van het Internationaal Verdrag inzake burgerrechten en politieke rechten en artikel 7 van het Handvest van de grondrechten van de Europese Unie. Het binnentreden in een woning zonder toestemming van de bewoner is daarom slechts geoorloofd in de gevallen bij of krachtens de wet bepaald, door hen die daartoe bij of krachtens de wet zijn aangewezen, aldus artikel 12, eerste lid, van de Grondwet. De bevoegdheid tot binnentreden zonder toestemming moet zijn geregeld in een specifiek daarop toegesneden formele wet (of in daarop gebaseerde lagere regelgeving), zoals artikel 8 van de Politiewet, artikel 55a van het Wetboek van Strafvordering, artikel 49 van de Wet Wapens en Munitie of artikel 149a van de Gemeentewet. Voorts gelden er verschillende vormvereisten op grond artikel 12, tweede en derde lid, van de Grondwet voor het binnentreden in overeenstemming met artikel 12, eerste lid, van de Grondwet. Deze zijn uitgewerkt in de Algemene wet op het binnentreden. Daarin is onder andere als vereiste voor de bevoegdheid tot binnentreden zonder toestemming van de bewoner opgenomen dat er, behoudens enkele uitzonderingen, sprake moet zijn van een rechterlijke of bestuurlijke machtiging.</al>\\n      <al>In het onderhavige geval van de gemeente Rhenen is van belang dat ten tijde van Koninginnedag een noodverordening van kracht is (Koninginnedagnoodverordening 2012) die strekt tot handhaving van de openbare orde en het beperken van gevaar voor personen, alsmede een algemene raadsverordening die mede is gebaseerd op artikel 149a van de Gemeentewet. Deze raadsverordening biedt de grondslag voor de bevoegdheid tot binnentreden zonder toestemming van de bewoner, ten behoeve van het toezicht op de naleving of de opsporing van een overtreding van de Koninginnedagnoodverordening 2012. Daadwerkelijk inzet van deze bevoegdheid zal moeten voldoen aan de vereisten van proportionaliteit en subsidiariteit. De vraag of daarvan sprake is, kan pas kort voorafgaand aan en na de eventuele inzet van de bevoegdheid worden beantwoord. De inzet van bevoegdheden is toetsbaar door de rechter.</al>\\n    </antwoord>\\n    ']},\n",
       "  '3': {'vraag': ['Sinds wanneer heeft het weigeren van toestemming tot het binnentreden van een woning tot gevolg dat een onverdachte burger gearresteerd kan worden? Levert dit niet ook strijd op met grondwettelijk en verdragsrechtelijk erkende burgerlijke vrijheden? Is ook dit niet in strijd met de criteria van subsidiariteit en proportionaliteit?',\n",
       "    '<vraag>\\n      <nr status=\"officieel\">Vraag 3</nr>\\n      <al>Sinds wanneer heeft het weigeren van toestemming tot het binnentreden van een woning tot gevolg dat een onverdachte burger gearresteerd kan worden? Levert dit niet ook strijd op met grondwettelijk en verdragsrechtelijk erkende burgerlijke vrijheden? Is ook dit niet in strijd met de criteria van subsidiariteit en proportionaliteit?</al>\\n    </vraag>\\n    '],\n",
       "   'antwoord': ['Het weigeren toestemming te verlenen tot binnentreden is geen strafbaar feit en levert geen zelfstandige grond op voor aanhouding. Wel kan er grond zijn voor een aanhouding van de bewoner die weigert toestemming te verlenen, indien deze zich bijvoorbeeld tevens verzet tegen rechtmatig binnentreden of niet voldoet aan een in dat kader rechtmatig gegeven vordering of ambtelijk bevel (respectievelijk artikel 180 en 184 van het Wetboek van Strafrecht); de reden voor aanhouding bij het binnentreden is dan gelegen in het verzet of de weigering aan een rechtmatig bevel of vordering te voldoen, niet in de enkele weigering om toestemming te verlenen. In dit licht kan ook de verbodbepaling van artikel 16, derde lid, van de Koninginnedagnoodverordening 2012 van de gemeente Rhenen worden gezien. Daarin wordt de eigenaar of gebruiker van (o.a.) de woning verboden om in verband met de handhaving van het bepaalde in de Koninginnedagnoodverordening de met toezicht en handhaving van die verordening belaste ambtenaren, de toegang te beletten of te belemmeren. Voor overtreding van deze verbodsbepaling wordt (ook) verwezen naar artikel 443 van het Wetboek van Strafrecht, dat overtreding van bepalingen uit een noodverordening strafbaar stelt. Voorstelbaar zou zijn geweest een verwijzing naar de genoemde artikelen 180 en 184 van het Wetboek van Strafrecht. Overigens is wederrechtelijk binnentreden door een ambtenaar strafbaar op grond van artikel 370 van het Wetboek van Strafrecht.',\n",
       "    '<antwoord>\\n      <nr status=\"officieel\">Antwoord 3</nr>\\n      <al>Het weigeren toestemming te verlenen tot binnentreden is geen strafbaar feit en levert geen zelfstandige grond op voor aanhouding. Wel kan er grond zijn voor een aanhouding van de bewoner die weigert toestemming te verlenen, indien deze zich bijvoorbeeld tevens verzet tegen rechtmatig binnentreden of niet voldoet aan een in dat kader rechtmatig gegeven vordering of ambtelijk bevel (respectievelijk artikel 180 en 184 van het Wetboek van Strafrecht); de reden voor aanhouding bij het binnentreden is dan gelegen in het verzet of de weigering aan een rechtmatig bevel of vordering te voldoen, niet in de enkele weigering om toestemming te verlenen. In dit licht kan ook de verbodbepaling van artikel 16, derde lid, van de Koninginnedagnoodverordening 2012 van de gemeente Rhenen worden gezien. Daarin wordt de eigenaar of gebruiker van (o.a.) de woning verboden om in verband met de handhaving van het bepaalde in de Koninginnedagnoodverordening de met toezicht en handhaving van die verordening belaste ambtenaren, de toegang te beletten of te belemmeren. Voor overtreding van deze verbodsbepaling wordt (ook) verwezen naar artikel 443 van het Wetboek van Strafrecht, dat overtreding van bepalingen uit een noodverordening strafbaar stelt. Voorstelbaar zou zijn geweest een verwijzing naar de genoemde artikelen 180 en 184 van het Wetboek van Strafrecht. Overigens is wederrechtelijk binnentreden door een ambtenaar strafbaar op grond van artikel 370 van het Wetboek van Strafrecht.</al>\\n    </antwoord>\\n    ']},\n",
       "  '4': {'vraag': ['Deelt u de mening dat in dit geval nogal achteloos is omgesprongen met de vrijheidsrechten van onverdachte burgers? Zo nee, waarom niet?',\n",
       "    '<vraag>\\n      <nr status=\"officieel\">Vraag 4</nr>\\n      <al>Deelt u de mening dat in dit geval nogal achteloos is omgesprongen met de vrijheidsrechten van onverdachte burgers? Zo nee, waarom niet?</al>\\n    </vraag>\\n    '],\n",
       "   'antwoord': ['Nee. Het creëren en gebruikmaken van bevoegdheden dient te gebeuren binnen de daarvoor gegeven wettelijke kaders. Van deze bevoegdheden is vooralsnog geen gebruik gemaakt. Evenmin bestond er – in elk geval ten tijde van de door de burgemeester aan mij verstrekte informatie – een voornemen om daartoe over te gaan. Bovendien blijkt uit de informatie dat de burgemeester zich terdege bewust is van de wettelijke kaders.',\n",
       "    '<antwoord>\\n      <nr status=\"officieel\">Antwoord 4</nr>\\n      <al>Nee. Het creëren en gebruikmaken van bevoegdheden dient te gebeuren binnen de daarvoor gegeven wettelijke kaders. Van deze bevoegdheden is vooralsnog geen gebruik gemaakt. Evenmin bestond er – in elk geval ten tijde van de door de burgemeester aan mij verstrekte informatie – een voornemen om daartoe over te gaan. Bovendien blijkt uit de informatie dat de burgemeester zich terdege bewust is van de wettelijke kaders.</al>\\n    </antwoord>\\n    ']},\n",
       "  '5': {'vraag': ['Bent u bereid om in gesprek te gaan met de burgemeester van Rhenen over zijn voornemens? Zo nee, waarom niet?',\n",
       "    '<vraag>\\n      <nr status=\"officieel\">Vraag 5</nr>\\n      <al>Bent u bereid om in gesprek te gaan met de burgemeester van Rhenen over zijn voornemens? Zo nee, waarom niet?</al>\\n    </vraag>\\n    '],\n",
       "   'antwoord': ['Nee. Ik heb vooralsnog geen reden om aan te nemen dat de burgemeester zijn bevoegdheden niet zorgvuldig en binnen de wet zal toepassen.',\n",
       "    '<antwoord>\\n      <nr status=\"officieel\">Antwoord 5</nr>\\n      <al>Nee. Ik heb vooralsnog geen reden om aan te nemen dat de burgemeester zijn bevoegdheden niet zorgvuldig en binnen de wet zal toepassen.</al>\\n    </antwoord>\\n  ']}}}"
      ]
     },
     "metadata": {},
     "output_type": "display_data"
    }
   ],
   "source": [
    "# load a dataset we have prepared \n",
    "import wetsuite.datasets, random\n",
    "# show an item from it\n",
    "kamervragen_dataset = wetsuite.datasets.load('kamervragen-struc')\n",
    "display(   random.choice(  list( kamervragen_dataset.data.values() )  )   )"
   ]
  },
  {
   "cell_type": "markdown",
   "metadata": {},
   "source": [
    "## Notes on rich output\n",
    "\n",
    "The packages mentioned above - [matplotlib](https://matplotlib.org/stable/gallery/index.html), [seaborn](https://seaborn.pydata.org/examples/index.html), and [pandas](https://pandas.pydata.org/docs/user_guide/10min.html) - will often show their tables and plots nicely with little to no work, because their most central object (e.g. figure, dataframe) have been made aware aware of how to render to these notebooks.\n",
    "\n",
    "(That rendered output is saved (e.g. as an embedded image) so is typically viewable when rendering that notebook elsewhere _without_ having to run its code again.)\n",
    "\n",
    "Various other things are _not_ aware of notebooks. \n",
    "While often not worth the work, you _could_ roll your own, and there are a few examples of that in this repository (TODO: link to example)"
   ]
  },
  {
   "cell_type": "code",
   "execution_count": 6,
   "metadata": {},
   "outputs": [
    {
     "data": {
      "text/html": [
       "<span class=\"tex2jax_ignore\"><svg xmlns=\"http://www.w3.org/2000/svg\" xmlns:xlink=\"http://www.w3.org/1999/xlink\" xml:lang=\"nl\" id=\"1a4a3e3efc8b4132bbb3bd80e2d30385-0\" class=\"displacy\" width=\"750\" height=\"312.0\" direction=\"ltr\" style=\"max-width: none; height: 312.0px; color: #000000; background: #ffffff; font-family: Arial; direction: ltr\">\n",
       "<text class=\"displacy-token\" fill=\"currentColor\" text-anchor=\"middle\" y=\"222.0\">\n",
       "    <tspan class=\"displacy-word\" fill=\"currentColor\" x=\"50\">Groene</tspan>\n",
       "    <tspan class=\"displacy-tag\" dy=\"2em\" fill=\"currentColor\" x=\"50\">ADJ</tspan>\n",
       "</text>\n",
       "\n",
       "<text class=\"displacy-token\" fill=\"currentColor\" text-anchor=\"middle\" y=\"222.0\">\n",
       "    <tspan class=\"displacy-word\" fill=\"currentColor\" x=\"225\">kaas</tspan>\n",
       "    <tspan class=\"displacy-tag\" dy=\"2em\" fill=\"currentColor\" x=\"225\">NOUN</tspan>\n",
       "</text>\n",
       "\n",
       "<text class=\"displacy-token\" fill=\"currentColor\" text-anchor=\"middle\" y=\"222.0\">\n",
       "    <tspan class=\"displacy-word\" fill=\"currentColor\" x=\"400\">is</tspan>\n",
       "    <tspan class=\"displacy-tag\" dy=\"2em\" fill=\"currentColor\" x=\"400\">AUX</tspan>\n",
       "</text>\n",
       "\n",
       "<text class=\"displacy-token\" fill=\"currentColor\" text-anchor=\"middle\" y=\"222.0\">\n",
       "    <tspan class=\"displacy-word\" fill=\"currentColor\" x=\"575\">sterk</tspan>\n",
       "    <tspan class=\"displacy-tag\" dy=\"2em\" fill=\"currentColor\" x=\"575\">ADJ</tspan>\n",
       "</text>\n",
       "\n",
       "<g class=\"displacy-arrow\">\n",
       "    <path class=\"displacy-arc\" id=\"arrow-1a4a3e3efc8b4132bbb3bd80e2d30385-0-0\" stroke-width=\"2px\" d=\"M70,177.0 C70,89.5 220.0,89.5 220.0,177.0\" fill=\"none\" stroke=\"currentColor\"/>\n",
       "    <text dy=\"1.25em\" style=\"font-size: 0.8em; letter-spacing: 1px\">\n",
       "        <textPath xlink:href=\"#arrow-1a4a3e3efc8b4132bbb3bd80e2d30385-0-0\" class=\"displacy-label\" startOffset=\"50%\" side=\"left\" fill=\"currentColor\" text-anchor=\"middle\">amod</textPath>\n",
       "    </text>\n",
       "    <path class=\"displacy-arrowhead\" d=\"M70,179.0 L62,167.0 78,167.0\" fill=\"currentColor\"/>\n",
       "</g>\n",
       "\n",
       "<g class=\"displacy-arrow\">\n",
       "    <path class=\"displacy-arc\" id=\"arrow-1a4a3e3efc8b4132bbb3bd80e2d30385-0-1\" stroke-width=\"2px\" d=\"M245,177.0 C245,89.5 395.0,89.5 395.0,177.0\" fill=\"none\" stroke=\"currentColor\"/>\n",
       "    <text dy=\"1.25em\" style=\"font-size: 0.8em; letter-spacing: 1px\">\n",
       "        <textPath xlink:href=\"#arrow-1a4a3e3efc8b4132bbb3bd80e2d30385-0-1\" class=\"displacy-label\" startOffset=\"50%\" side=\"left\" fill=\"currentColor\" text-anchor=\"middle\">cop</textPath>\n",
       "    </text>\n",
       "    <path class=\"displacy-arrowhead\" d=\"M395.0,179.0 L403.0,167.0 387.0,167.0\" fill=\"currentColor\"/>\n",
       "</g>\n",
       "\n",
       "<g class=\"displacy-arrow\">\n",
       "    <path class=\"displacy-arc\" id=\"arrow-1a4a3e3efc8b4132bbb3bd80e2d30385-0-2\" stroke-width=\"2px\" d=\"M245,177.0 C245,2.0 575.0,2.0 575.0,177.0\" fill=\"none\" stroke=\"currentColor\"/>\n",
       "    <text dy=\"1.25em\" style=\"font-size: 0.8em; letter-spacing: 1px\">\n",
       "        <textPath xlink:href=\"#arrow-1a4a3e3efc8b4132bbb3bd80e2d30385-0-2\" class=\"displacy-label\" startOffset=\"50%\" side=\"left\" fill=\"currentColor\" text-anchor=\"middle\">advmod</textPath>\n",
       "    </text>\n",
       "    <path class=\"displacy-arrowhead\" d=\"M575.0,179.0 L583.0,167.0 567.0,167.0\" fill=\"currentColor\"/>\n",
       "</g>\n",
       "</svg></span>"
      ],
      "text/plain": [
       "<IPython.core.display.HTML object>"
      ]
     },
     "metadata": {},
     "output_type": "display_data"
    }
   ],
   "source": [
    "# Sometimes it needs a _little_ more digging to get it to display\n",
    "import spacy, spacy.displacy\n",
    "\n",
    "dutch_parser = spacy.load('nl_core_news_sm')\n",
    "doc = dutch_parser(\"Groene kaas is sterk\")\n",
    "spacy.displacy.render( doc, style='dep' )"
   ]
  },
  {
   "cell_type": "markdown",
   "metadata": {},
   "source": [
    "# What are python notebooks? \n",
    "\n",
    "From a more practical side, computational notebooks are \n",
    "- saveable documents \n",
    "- that contain \n",
    "  - text descriptions (stylable using [Markdown](https://www.markdownguide.org/getting-started/)),\n",
    "  - snippets of code that can be executed\n",
    "  - rich output of that code\n",
    "\n",
    "Which of those is most interesting to you,\n",
    "and whether the footnotes and caveats make or break your intended use,\n",
    "depends on your wishes.\n",
    "\n",
    "In the right environment, that code can be executed. In others, only viewed."
   ]
  },
  {
   "cell_type": "markdown",
   "metadata": {},
   "source": [
    "# Too many words on \"When and why might you like to use it?\"\n",
    "\n",
    "Skim this for the angle that applies to you."
   ]
  },
  {
   "cell_type": "markdown",
   "metadata": {},
   "source": [
    "Like a physical notebook, they are easily used as history of of what you've tried - experiments, results - and show that to others.\n",
    "\n",
    "The 'computational' means that the notebook might contain all the code snippets \n",
    "for someone else to take that document, run the same code snippets, in their own way on their own computer,\n",
    "to reproduce, and/or to develop further.\n",
    "\n",
    "\n",
    "**What it often makes easier**:\n",
    "* sharing code\n",
    "* sharing results\n",
    "* visualizing some kinds of results (it renders plots, images, and more)\n",
    "* sharing how far you got, for someone else to take over\n",
    "* providing a solid basis for someone else to experiment with - can be great in educational settings\n",
    "* when working on a longer thing, makes it easy to re-run \"just the last part I'm working on\" \n",
    "  without having to store that in intermediate files - though that is often equally valid (and sometimes even more flexible)"
   ]
  },
  {
   "cell_type": "markdown",
   "metadata": {},
   "source": [
    "\n",
    "**What it is not**:\n",
    "* a multi-user experience - it would be neat to have a collaborative editing thing, but it is not that. Even variants aimed more at \"I can view your notebook after you're done with the workshop / your homework\" add little more than 'authenticte so people only get at their own notebook'. So if you want to cooperate with someone,\n",
    "  - you still need to do that youreself, e.g. \n",
    "    - ...or be okay with hand the document back and forth (possibly using code versioning to keep track of changes), and running all the parts again every time you do\n",
    "    - sharing your screen physically or digitally\n",
    "\n",
    "* a continually running service - you can't use it to run regular scripts, to host content, or such.   Only active work."
   ]
  },
  {
   "cell_type": "markdown",
   "metadata": {},
   "source": [
    "What it **only sometimes is**:\n",
    "* easily viewed anywhere\n",
    "  - You may be able to view a notebook (e.g. github renders saved notebooks) non-interactively\n",
    "  - google colab can view them and ideally also run them\n",
    "  - but on your own PC you may need to spend a time installing things\n",
    "\n",
    "* reproducable elsewhere - consider:\n",
    "   - the environment it runs in is your own  (you may need to install things, and that _can_ be a pain),\n",
    "   - data you load in is external to the document, so should be communicated separately, and/or stored somewhere public\n",
    "   - the intermediate results are not stored (many calculations will use a database, shared drive, etc, which is external to the notebook), \n",
    "   ...so running it _exactly_ the same elsewhere is not made easier.\n",
    "   That said, notebooks are still a more complete \"here is a description of what you need to do to run it yourself\" than most separate scripts are.\n",
    "\n",
    "* easy to install or run    (for non-programmers, or even for programmers sometimes)\n",
    "  - Yes, if you pick one option from the list of \"things that give you notebooks\" and install that, the basics will be there\n",
    "  - Yet \"I need this package to do my work\" can sometimes mean becoming your own sysadmin  (as often happens around programming) \n",
    "  - if something installs its own python environment to run these, that might either help or confuse further\n",
    "\n",
    "\n",
    "* remote - there are ways to run notebooks on a remote server, which uses that server's resources, and its probably-stable environment of installed things\n",
    "  - ...but this takes a little more up-front setup.\n",
    "  - Because of the server-client nature of the implementation, it also lends itself to remote work, and to \"hello people in my workshop, please  start a browser and go here to start working\".\n",
    "  - This can be useful to set up a well-defined environment with all necessities already there, rather than to futz with your own python installation each time.\n",
    "\n",
    "\n",
    "* a session you can continue later - this varies on how it is run, but assume that if you load it, you are stating from scratch"
   ]
  },
  {
   "cell_type": "markdown",
   "metadata": {},
   "source": [
    "## Interactive, but saveable;  like a shell, but redoable\n",
    "\n",
    "For context, \n",
    "* interactive python usually means running `python` which gives you a prompt where you can run arbitrary things\n",
    "  - but you save nothing (there is one big history of separate commands, but that's not very useful).\n",
    "\n",
    "* once you start making larger data-processing projects, you might end up making lots of separate scripts that all do something with some intermediate files\n",
    "  - but you may not remember wat they're doing, what order to run them in, etc.\n",
    "\n",
    "* while developing code, you often alter just one functions and run it again.\n",
    "\n",
    "* while doing data science, you often want to rerun an analysis without redoing all the data-load-and-polish\n",
    "\n",
    "\n",
    "When \n",
    "- you want to re-run larger parts of code without forgetting intermediate work,\n",
    "- you want to return to a document that lets you think in those larger chunks\n",
    "...then notebooks may fill a niche for you."
   ]
  },
  {
   "cell_type": "markdown",
   "metadata": {},
   "source": [
    "## How does a session actually work, how long does it last?\n",
    "\n",
    "This varies, now that there are increasing amounts of takes on notebooks.\n",
    "\n",
    "* it seems the original idea was we run a command in a shell (`jupyter notebook`). \n",
    "  - This basically ran until you quit it, whether a web browser was currently interacting with it or not.\n",
    "\n",
    "* programming environments may try to give you more features\n",
    "  - they may also try to automate starting a session when you start running things \n",
    "  - and stopping it once you've close the tab for the notebook\n"
   ]
  },
  {
   "cell_type": "markdown",
   "metadata": {},
   "source": [
    "\n",
    "## Environments that make notebooks easier to use\n",
    "\n",
    "* VScode - with an extension  [](https://code.visualstudio.com/blogs/2021/11/08/custom-notebooks)\n",
    "\n",
    "& pycharm\n",
    "\n",
    "* Spyder - [in theory?](https://docs.spyder-ide.org/current/plugins/notebook.html)\n",
    "\n",
    " automatically run this for you, and the interface may be a little more than a browser \n",
    ":: Examples: \n",
    "\n",
    "https://www.jetbrains.com/help/pycharm/jupyter-notebook-support.html\n",
    "\n",
    "* colab - sort of its owwn thing built on the idea of notebooks\n",
    "\n",
    "https://towardsdatascience.com/jypyter-notebook-shortcuts-bf0101a98330\n",
    "\n",
    "\n",
    "\n",
    "The aspects we care about right now are that they are\n",
    "- they are documents containing explanation, code, and output from a previous run\n",
    " \n",
    "- on github they viewable, \n",
    "are a way to give other people documents you can view, while e.g. github also gives you  in a browser\n",
    "\n",
    "- ...and run the code of, if you set up an environment for it\n",
    "\n",
    "- are often used in a way like an interactive console, in senses like\n",
    "  - it keeps all state that came from excution around until you quit\n",
    "  - you can edit and re-run a fragment of code on that\n",
    "\n",
    "\n",
    "This lets you do iterative work, which is great in data science, while testing a method,\n",
    "and you want to re-run part of it rather than the whole thing -- and type less than in an interactive shell.\n",
    "\n",
    "That said, the client-server nature of it (whether your editor does its best to hide that)\n",
    "can be confusing\n",
    "\n",
    "These are not the only aspects of notebooks, but they are the ones that are useful right here, \n",
    "where we want to say \"here's an example you can look at in your browser\".\n",
    "\n",
    "...\"and play with if you want\". When you view the notebooks (e.g. here on github) and click the \"Open in Colab\" link, you will get a copy running in [google colab](https://colab.research.google.com/), which gives you a transient sandbox in which you can freely play, useful for experimentation and demonstrations without requiring any setup in your own infrastructure - though note, also without long term storage.\n"
   ]
  },
  {
   "cell_type": "markdown",
   "metadata": {},
   "source": [
    "# More advanced"
   ]
  },
  {
   "cell_type": "code",
   "execution_count": 17,
   "metadata": {},
   "outputs": [
    {
     "data": {
      "text/plain": [
       "array([[254, 164, 147, 151, 104, 166],\n",
       "       [ 43, 149,  52, 223, 186, 199],\n",
       "       [ 38, 129, 165, 224,  67, 249]], dtype=uint8)"
      ]
     },
     "metadata": {},
     "output_type": "display_data"
    },
    {
     "data": {
      "image/png": "[encoded data removed]",
      "text/plain": [
       "<__main__.NumpyImage at 0x7f6196591160>"
      ]
     },
     "metadata": {},
     "output_type": "display_data"
    },
    {
     "data": {
      "image/png": "[encoded data removed]",
      "text/plain": [
       "<__main__.NumpyImage at 0x7f6196896ac0>"
      ]
     },
     "metadata": {},
     "output_type": "display_data"
    }
   ],
   "source": [
    "# You could roll your visualisation\n",
    "#   e.g. numpy is about numbers in matrices, the below makes some choices to make that visual\n",
    "class NumpyImage:\n",
    "    ''' Takes an array of values assumed to already have useful values in 0..255 value range, and visualizes it as a grayscale image. \n",
    "        Each cell is represented by an 16-by-16 pixel square (by default) for visibility.'''\n",
    "    def __init__(self, ary, pixelsize=16, invert=False):\n",
    "        self.ary = numpy.array(ary) # copy\n",
    "        self.ary[self.ary<0]   = 0 # clamp (before type conversion)\n",
    "        self.ary[self.ary>255] = 255\n",
    "        self.invert = invert\n",
    "        self.pixelsize = pixelsize\n",
    "    def _repr_png_(self):\n",
    "        from PIL import Image, ImageOps\n",
    "        import io, numpy\n",
    "        im = Image.fromarray( numpy.uint8(self.ary) )\n",
    "        if self.pixelsize != 1:\n",
    "             im = im.resize( (im.size[0]*self.pixelsize, im.size[1]*self.pixelsize), resample=Image.NEAREST)\n",
    "        if self.invert:\n",
    "            im = ImageOps.invert( im )\n",
    "        by = io.BytesIO()\n",
    "        im.save(by,'png')\n",
    "        return by.getvalue()\n",
    "\n",
    "# test that:\n",
    "import numpy\n",
    "ary = (numpy.random.rand(3,6)*255).astype(numpy.uint8)\n",
    "display( ary ) # how it would normally display\n",
    "display( NumpyImage( ary ) )              # depending on whether you think high numbers should be white\n",
    "display( NumpyImage( ary, invert=True ) ) # or black"
   ]
  },
  {
   "cell_type": "markdown",
   "metadata": {},
   "source": [
    "In the context of this project, that's less interesting than, say, visually marking marking up some sentences.\n",
    "TODO: more examples of that"
   ]
  }
 ],
 "metadata": {
  "kernelspec": {
   "display_name": "Python 3.8.10 64-bit",
   "language": "python",
   "name": "python3"
  },
  "language_info": {
   "codemirror_mode": {
    "name": "ipython",
    "version": 3
   },
   "file_extension": ".py",
   "mimetype": "text/x-python",
   "name": "python",
   "nbconvert_exporter": "python",
   "pygments_lexer": "ipython3",
   "version": "3.8.10"
  },
  "orig_nbformat": 4,
  "vscode": {
   "interpreter": {
    "hash": "31f2aee4e71d21fbe5cf8b01ff0e069b9275f58929596ceb00d14d90e3e16cd6"
   }
  }
 },
 "nbformat": 4,
 "nbformat_minor": 2
}
