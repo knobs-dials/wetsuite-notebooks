{
  "cells": [
    {
      "cell_type": "markdown",
      "metadata": {
        "id": "WA3ztv-SU0uO"
      },
      "source": [
        "If you want to start playing with this without installation, try:\n",
        "<a href=\"https://colab.research.google.com/github/knobs-dials/wetsuite-dev/blob/main/notebooks/intro/wetsuite_datasets.ipynb\" target=\"_parent\"><img src=\"https://colab.research.google.com/assets/colab-badge.svg\" alt=\"Open In Colab\"/></a>"
      ]
    },
    {
      "cell_type": "markdown",
      "metadata": {
        "id": "VDSic6hRU0uP"
      },
      "source": [
        "# Purpose of this notebook\n",
        "\n",
        "Explain why wetsuite provides datasets, and give a basic introduction-by-example of which there are, and how to start using them.\n",
        "\n",
        "Considered advanced intro not because it's overly complex, but because with a little luck you don't have to dive into these lower levels of detail.\n"
      ]
    },
    {
      "cell_type": "markdown",
      "metadata": {
        "id": "a32h7oxIU0uR"
      },
      "source": [
        "## Why readymade datasets at all?\n",
        "\n",
        "A few different reasons. Some of our considerations follow:\n",
        "\n",
        "The most up to date information is often to fetch data directly from the source. We have notebooks elsewhere details how that may be done (TODO: link)\n",
        "\n",
        "If you can express what you want, then such direct fetching is also the most elegant way to get exactly what you want.\n",
        "\n",
        "\n",
        "Such 'if's matter. When you have a research question, and have gone to a system that probably has the data you are looking for, ask yourself:\n",
        "\n",
        "\n",
        "**Does it let you _express_ what you want?**\n",
        "\n",
        "Questions like \"give me all pariamentary reports related to animal management\" may be very reasonable, but for various data sources, you will not find it easy to be sure the search results are complete.\n",
        "\n",
        "\n",
        "**Does it let you _fetch_ what you want?**\n",
        "\n",
        "Even if a site lets you search for what you need, if there is no \"download however many matching documents that is\", you can't _do_ anythign with it (beyond spending the week pressing Save as)\n",
        "\n",
        "Put another way: is there an interface to fetch data?\n",
        "\n",
        "Also, is that interface at least as expressive as the site? For example\n",
        "- the damocles example (TODO: link) may be an example of \"hey, we managed to refine our search to download a fairly precise set of documents\", but don't count on that always working.\n",
        "- whereas the KOOP BWB interface doesn't let you search in the document body, as the website will.\n",
        "\n",
        "\n",
        "**Maybe you just wanted a lot of data**\n",
        "\n",
        "If you want to test a text processing method,\n",
        "maybe you just wanted a lot of text of some different types,\n",
        "no matter yet what it is exactly. Both site and API will would be slow.\n",
        "\n",
        "\n",
        "Even if we provide code to make finding-and-fetchin easier,\n",
        "_to end users_ that may only really move around the problem.\n",
        "\n",
        "When you just wanted to focus on the _documents_, chances are you now need to stare at our code for an afternoon before you get it to work -- or discover that it would never have done what you expecting.\n",
        "\n",
        "Or maybe you now have PDF of XML, and now have a different question before you can start working on _text_.\n",
        "\n",
        "\n",
        "**tl;dr: these datasets represent certain amounts of prep work.**"
      ]
    },
    {
      "cell_type": "markdown",
      "source": [
        "## What readymade datasets currently exist?"
      ],
      "metadata": {
        "id": "s2d35L3bcqhw"
      }
    },
    {
      "cell_type": "code",
      "execution_count": null,
      "metadata": {
        "id": "zda46Be8U0uS"
      },
      "outputs": [],
      "source": [
        "# (only) in colab, run this first to install wetsuite from (the most recent) source.   For your own setup, see wetsuite's install guidelines.\n",
        "!pip3 install -U --no-cache-dir --quiet https://github.com/scarfboy/wetsuite-dev/archive/refs/heads/main.zip"
      ]
    },
    {
      "cell_type": "code",
      "execution_count": 2,
      "metadata": {
        "colab": {
          "base_uri": "https://localhost:8080/"
        },
        "id": "f1h4H0pVU0uT",
        "outputId": "2c0790c5-6558-4a27-ead8-7bd16da2ebf1"
      },
      "outputs": [
        {
          "output_type": "execute_result",
          "data": {
            "text/plain": [
              "['bwb-mostrecent-meta-struc',\n",
              " 'bwb-mostrecent-text',\n",
              " 'bwb-mostrecent-xml',\n",
              " 'cvdr-mostrecent-html',\n",
              " 'cvdr-mostrecent-meta-struc',\n",
              " 'cvdr-mostrecent-text',\n",
              " 'cvdr-mostrecent-xml',\n",
              " 'gemeentes-struc',\n",
              " 'raadvanstate-adviezen-struc',\n",
              " 'rechtspraaknl-struc',\n",
              " 'tweedekamer-fractie-membership-struc',\n",
              " 'tweedekamer-fracties-struc',\n",
              " 'tweedekamer-kamervragen-struc',\n",
              " 'wetnamen',\n",
              " 'woo_besluiten_docs_text',\n",
              " 'woo_besluiten_meta']"
            ]
          },
          "metadata": {},
          "execution_count": 2
        }
      ],
      "source": [
        "import wetsuite.datasets\n",
        "\n",
        "# what sort of prepared dataset are currently offered for download?\n",
        "wetsuite.datasets.list_datasets()"
      ]
    },
    {
      "cell_type": "code",
      "execution_count": 23,
      "metadata": {
        "colab": {
          "base_uri": "https://localhost:8080/"
        },
        "id": "KNy-7ETmU0uU",
        "outputId": "c0b7a475-5a7c-4b70-b66e-87f56b1bc318"
      },
      "outputs": [
        {
          "output_type": "stream",
          "name": "stdout",
          "text": [
            "\n",
            "\n",
            "\n",
            "\n",
            "\n",
            "\n",
            "\n",
            "\n",
            "\n",
            "\n",
            "\n",
            "\n",
            "\n",
            "None\n",
            "\n",
            "\n"
          ]
        }
      ],
      "source": [
        "# ...with a little more description?\n",
        "for name, details in wetsuite.datasets.fetch_index().items():\n",
        "    #print(details)\n",
        "    print( details.get(\"description_short\", \"XX\") )\n",
        "    #print( f'{name:<40} { or \"(TODO: short description)\"}' )\n",
        "\n",
        "    # (you probably do not want to) uncomment the next line to download and load all  (also a test whether their download is not broken)\n",
        "    #print( '                                          ',wetsuite.datasets.load(name) )"
      ]
    },
    {
      "cell_type": "code",
      "execution_count": 6,
      "metadata": {
        "colab": {
          "base_uri": "https://localhost:8080/"
        },
        "id": "PzNPJd9PU0uV",
        "outputId": "a32b58c6-9264-4e72-f9d7-8090a3484098"
      },
      "outputs": [
        {
          "output_type": "stream",
          "name": "stderr",
          "text": [
            "Downloading 'https://wetsuite.knobs-dials.com/datasets/cvdr-mostrecent-meta-struc.db.xz' to '/root/.wetsuite/datasets/520e84b21fbddf048227c1c4c3576108039311f4'\n",
            "Downloaded     18MiB  [==================================================]\n",
            "Decompressing... 259MiB    \n",
            "Downloading 'https://wetsuite.knobs-dials.com/datasets/cvdr-mostrecent-text.db.xz' to '/root/.wetsuite/datasets/a9a59ccff8644749d378e6ef4094c66d75ff5b1c'\n",
            "Downloaded    470MiB  [==================================================]\n",
            "Decompressing... 3.8GiB    \n"
          ]
        }
      ],
      "source": [
        "xml  = wetsuite.datasets.load('cvdr-mostrecent-xml')\n",
        "meta = wetsuite.datasets.load('cvdr-mostrecent-meta-struc')\n",
        "text = wetsuite.datasets.load('cvdr-mostrecent-text')"
      ]
    },
    {
      "cell_type": "code",
      "execution_count": null,
      "metadata": {
        "id": "2j1q_S2CU0uW"
      },
      "outputs": [],
      "source": []
    },
    {
      "cell_type": "markdown",
      "metadata": {
        "id": "cAhRy6XiU0uX"
      },
      "source": []
    },
    {
      "cell_type": "markdown",
      "metadata": {
        "id": "bIW2TcLQU0uZ"
      },
      "source": [
        "## Example datasets\n",
        "\n",
        "There are some more targeted examples, including\n",
        "\n",
        "* `cvdr-`\n",
        "\n",
        "* `bwb-`\n",
        "\n",
        "* `kansspelautoriteit-sancties-txt` and ``: [using_dataset_kansspelautoriteit notebook](using_dataset_kansspelautoriteit.ipynb)\n",
        "\n",
        "* `tweedekamer-fracties-struc` and `tweedekamer-fracties-membership-struc`: [using_dataset_tweedekamer notebook](using_dataset_tweedekamer.ipynb)\n",
        "\n",
        "* `woobesluit`: [using_dataset_woobesluit notebook](using_dataset_woobesluit.ipynb)\n",
        "\n",
        "\n",
        "And some things that are little more than lists, including\n",
        "* `gemeentes`: [using_dataset_gemeentes notebook](using_dataset_gemeentes.ipynb)\n",
        "\n",
        "* `wetnamen`: [using_dataset_wetnamen notebook](using_dataset_wetnamen.ipynb)\n",
        "\n"
      ]
    },
    {
      "cell_type": "markdown",
      "metadata": {
        "id": "ciRDOS6RU0ua"
      },
      "source": [
        "Aside: We have an ongoing discussion of how to provide more varied data without making life harder for you.\n",
        "\n",
        "For example, in theory the -xml would be enough, in that -meta and -text are only a handful of extra function calls away,\n",
        "but making you do that is an unnecessary hurdle.\n",
        "\n",
        "Providing these in a merged, composite way, e.g. with dataset items providing attributes like\n",
        "item.xml/item.raw, item.metadata, item.text would be -  confusing that they differ per dataset,\n",
        "and but might be inflexible and confusing in the long run in that datasets _or_ code changing is likely to breaks all previous uses.\n",
        "\n",
        "So for now, we provide distinct datasets for different views on the same data,\n",
        "which also means you have at least some chance of loding this data in non-python other contexts."
      ]
    },
    {
      "cell_type": "markdown",
      "source": [
        "## \"What if I want to feed files into something else?\"\n",
        "\n",
        "The databsets as downloaded are indeed in our own format.\n",
        "\n",
        "You can have our code export to files,\n",
        "which will estimate what kind of thing to name those files as well (TODO: ).\n"
      ],
      "metadata": {
        "id": "8W-rviycYRlU"
      }
    },
    {
      "cell_type": "code",
      "source": [
        "import glob\n",
        "\n",
        "meta = wetsuite.datasets.load('cvdr-mostrecent-meta-struc')\n",
        "meta.export_files(in_dir='/tmp/t1')\n",
        "print( glob.glob('/tmp/t1/*')[:10] )\n",
        "\n",
        "xml  = wetsuite.datasets.load('cvdr-mostrecent-xml')\n",
        "xml.export_files(in_dir='/tmp/t2')\n",
        "print( glob.glob('/tmp/t2/*')[:10] )\n",
        "\n",
        "xml  = wetsuite.datasets.load('cvdr-mostrecent-text')\n",
        "xml.exportkind_files(in_dir='/tmp/t3')\n",
        "print( glob.glob('/tmp/t3/*')[:10] )\n",
        "\n"
      ],
      "metadata": {
        "colab": {
          "base_uri": "https://localhost:8080/"
        },
        "id": "RNSnhJgfYRuK",
        "outputId": "e95f271f-f3b4-4389-a959-de7a793f6b50"
      },
      "execution_count": 14,
      "outputs": [
        {
          "output_type": "stream",
          "name": "stdout",
          "text": [
            "['/tmp/t1/00000040_7c1923f16648_100112.json', '/tmp/t1/00000035_bfc471dab4be_100093.json', '/tmp/t1/00000096_8ed494913964_100302.json', '/tmp/t1/00000098_caca43f4acfd_100305.json', '/tmp/t1/00000055_35ab087348d6_100169.json', '/tmp/t1/00000087_78bf02174096_100282.json', '/tmp/t1/00000054_29a9902a19d7_100159.json', '/tmp/t1/00000077_610dd370715e_100242.json', '/tmp/t1/00000015_2f5612763123_100034.json', '/tmp/t1/00000050_db358e78ea03_100155.json']\n",
            "['/tmp/t2/00000027_cae24a4b352d_100070.xml', '/tmp/t2/00000093_694c73ae2fa5_100291.xml', '/tmp/t2/00000079_a0a7ac08ed03_100247.xml', '/tmp/t2/00000052_e90e71b94a64_100157.xml', '/tmp/t2/00000074_7b5d58ffd05b_100235.xml', '/tmp/t2/00000022_a871704cf8e9_100058.xml', '/tmp/t2/00000034_b6132786ff33_100090.xml', '/tmp/t2/00000061_dec92378430e_100198.xml', '/tmp/t2/00000008_5037ffec4488_100014.xml', '/tmp/t2/00000039_31559f5f2006_10011.xml']\n",
            "['/tmp/t3/00000096_8ed494913964_100302.txt', '/tmp/t3/00000092_fb091f4f20ca_100289.txt', '/tmp/t3/00000083_3b26815eca95_100259.txt', '/tmp/t3/00000084_280fe3e741b7_100260.txt', '/tmp/t3/00000082_43a6843739ce_100258.txt', '/tmp/t3/00000054_29a9902a19d7_100159.txt', '/tmp/t3/00000039_31559f5f2006_10011.txt', '/tmp/t3/00000049_3a009075309f_100154.txt', '/tmp/t3/00000056_38e7413afb4f_100178.txt', '/tmp/t3/00000005_b4db53fd7fb2_100005.txt']\n"
          ]
        }
      ]
    }
  ],
  "metadata": {
    "kernelspec": {
      "display_name": "Python 3",
      "language": "python",
      "name": "python3"
    },
    "language_info": {
      "codemirror_mode": {
        "name": "ipython",
        "version": 3
      },
      "file_extension": ".py",
      "mimetype": "text/x-python",
      "name": "python",
      "nbconvert_exporter": "python",
      "pygments_lexer": "ipython3",
      "version": "3.8.10"
    },
    "vscode": {
      "interpreter": {
        "hash": "31f2aee4e71d21fbe5cf8b01ff0e069b9275f58929596ceb00d14d90e3e16cd6"
      }
    },
    "colab": {
      "provenance": [],
      "toc_visible": true
    }
  },
  "nbformat": 4,
  "nbformat_minor": 0
}