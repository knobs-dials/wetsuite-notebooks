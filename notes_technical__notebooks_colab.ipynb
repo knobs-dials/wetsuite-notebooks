{
 "cells": [
  {
   "cell_type": "markdown",
   "metadata": {},
   "source": [
    "<a href=\"https://colab.research.google.com/github/scarfboy/wetsuite-dev/blob/main/notebooks/intro/technical_notebooks.ipynb\" target=\"_parent\"><img src=\"https://colab.research.google.com/assets/colab-badge.svg\" alt=\"Open In Colab\"/></a>"
   ]
  },
  {
   "cell_type": "markdown",
   "metadata": {},
   "source": [
    "## Purpose of this notebook\n",
    "\n",
    "After you've read [technical_notebooks](technical_notebooks.ipynb), \n",
    "this gives a few extra pointers to what colab offers,\n",
    "and what extra handling it may require of you."
   ]
  },
  {
   "cell_type": "code",
   "execution_count": null,
   "metadata": {},
   "outputs": [],
   "source": []
  },
  {
   "cell_type": "markdown",
   "metadata": {},
   "source": [
    "## On storage\n"
   ]
  },
  {
   "cell_type": "markdown",
   "metadata": {},
   "source": [
    "### Local filesystem\n",
    "\n",
    "You get a local filesystem with a POSIX-like interface. \n",
    "\n",
    "This is however transient - it will be gone in the next session,\n",
    "so treat this as temporary scratch space."
   ]
  },
  {
   "cell_type": "code",
   "execution_count": null,
   "metadata": {},
   "outputs": [],
   "source": [
    "# usually you can use at least a few dozen gigabytes. If you want to know:\n",
    "import psutil\n",
    "hdd = psutil.disk_usage('/')\n",
    "print(  \"%d GiB free of a total %d GiB\" %( hdd.free/(2**30),  hdd.total/(2**30) )  )\n"
   ]
  },
  {
   "cell_type": "markdown",
   "metadata": {},
   "source": [
    "### Upload\n",
    "\n",
    "The colab web interface has an upload button.\n",
    "\n",
    "You can also get code to ask to do the same, like:"
   ]
  },
  {
   "cell_type": "code",
   "execution_count": null,
   "metadata": {},
   "outputs": [],
   "source": [
    "from google.colab import files\n",
    "\n",
    "uploaded = files.upload() # will be a dict from filename to content\n",
    "\n",
    "# for libraries that want to load from file-like objects, you could save that to the session's disk, or you could do things like  io.BytesIO(uploaded['uploaded_filename.json'])           "
   ]
  },
  {
   "cell_type": "markdown",
   "metadata": {},
   "source": [
    "### Download\n",
    "\n",
    "If you have written data to a file local to colab, you can offer download like:\n"
   ]
  },
  {
   "cell_type": "code",
   "execution_count": null,
   "metadata": {},
   "outputs": [],
   "source": [
    "from google.colab import files\n",
    "\n",
    "files.download('/content/myfile.txt')"
   ]
  },
  {
   "cell_type": "markdown",
   "metadata": {},
   "source": [
    "Downloading many files is not _quite_ as convenient, but for smaller things it seems fine to do things like:"
   ]
  },
  {
   "cell_type": "code",
   "execution_count": null,
   "metadata": {},
   "outputs": [],
   "source": [
    "!zip -r /content/mydata.zip mydata/\n",
    "files.download('/content/mydata.zip')"
   ]
  },
  {
   "cell_type": "markdown",
   "metadata": {},
   "source": [
    "### Google drive\n",
    "\n",
    "If you are using google drive, you can use it to "
   ]
  },
  {
   "cell_type": "code",
   "execution_count": null,
   "metadata": {},
   "outputs": [],
   "source": [
    "from google.colab import drive\n",
    "drive.mount('/content/gdrive') # the argument is where to mount it.\n",
    "# The command will pop up a request to connect your (entire!) drive\n"
   ]
  },
  {
   "cell_type": "markdown",
   "metadata": {},
   "source": [
    "Keep in mind that this will \n",
    "- require auth\n",
    "- not be the same for everyone   (generally a feature, not bug)\n",
    "- require people to give out a bunch of rights, so be a potential privacy risk for people who use it \n",
    "  - yes, it's still you who are running the code that accesses it. \n",
    "  - But it's one \"I'm sure someone else's code is fine\" trust away from being a bad idea."
   ]
  },
  {
   "cell_type": "markdown",
   "metadata": {},
   "source": [
    "### Google sheets\n",
    "\n",
    "https://neptune.ai/blog/google-colab-dealing-with-files"
   ]
  },
  {
   "cell_type": "markdown",
   "metadata": {},
   "source": [
    "### Google Cloud Storage\n",
    "\n",
    "https://neptune.ai/blog/google-colab-dealing-with-files"
   ]
  },
  {
   "cell_type": "markdown",
   "metadata": {},
   "source": [
    "### S3"
   ]
  }
 ],
 "metadata": {
  "kernelspec": {
   "display_name": "Python 3.8.10 64-bit",
   "language": "python",
   "name": "python3"
  },
  "language_info": {
   "codemirror_mode": {
    "name": "ipython",
    "version": 3
   },
   "file_extension": ".py",
   "mimetype": "text/x-python",
   "name": "python",
   "nbconvert_exporter": "python",
   "pygments_lexer": "ipython3",
   "version": "3.8.10"
  },
  "orig_nbformat": 4,
  "vscode": {
   "interpreter": {
    "hash": "31f2aee4e71d21fbe5cf8b01ff0e069b9275f58929596ceb00d14d90e3e16cd6"
   }
  }
 },
 "nbformat": 4,
 "nbformat_minor": 2
}
