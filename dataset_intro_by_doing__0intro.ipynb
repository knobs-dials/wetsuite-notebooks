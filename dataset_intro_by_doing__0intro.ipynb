{
 "cells": [
  {
   "cell_type": "markdown",
   "metadata": {},
   "source": [
    "<a href=\"https://colab.research.google.com/github/knobs-dials/wetsuite-dev/blob/main/notebooks/intro/wetsuite_datasets.ipynb\" target=\"_parent\"><img src=\"https://colab.research.google.com/assets/colab-badge.svg\" alt=\"Open In Colab\"/></a>"
   ]
  },
  {
   "attachments": {},
   "cell_type": "markdown",
   "metadata": {},
   "source": [
    "# Purpose of this notebook\n",
    "\n",
    "Explain why wetsuite provides datasets, and give a basic introduction-by-example of which there are, and how to start using them.\n",
    "\n",
    "Considered advanced intro not because it's overly complex, but because with a little luck you don't have to dive into these lower levels of detail.\n"
   ]
  },
  {
   "cell_type": "markdown",
   "metadata": {},
   "source": [
    "## Why datasets\n",
    "\n",
    "The most up to date information may be to fetch data directly from the source, \n",
    "but this is also often more clunkier to get a larger and/or more precise set of documents.\n",
    "\n",
    "- fetching data via a website may be too clunky, particularly if it is not made for it (and most aren't)\n",
    "\n",
    "- fetching data via code may present too large of a technical learning curve\n",
    "  - even if we ease that, sites may not allow the type of browsing/searching you may need for your purposes \n",
    "    - e.g. any metadata field that isn't made searchable\n",
    "    - or maybe a workaround exists, but is awkward and/or technically complex again (see e.g. the convoluted damocles search)\n",
    "\n",
    "- not all sources make it easy to fetch the result in the\n",
    "\n",
    "- not all sources make it easy to collect\n",
    "\n",
    "- sometimes collecting is very slow\n",
    "\n",
    "\n",
    "Also, \n",
    "- it might be valuable to share sub-datasets you've collected -- or at the very least share the way you've collected"
   ]
  },
  {
   "cell_type": "code",
   "execution_count": null,
   "metadata": {},
   "outputs": [],
   "source": [
    "# (only) in colab, run this first to install wetsuite from (the most recent) source.   For your own setup, see wetsuite's install guidelines.\n",
    "!pip3 install -U --no-cache-dir --quiet https://github.com/scarfboy/wetsuite-dev/archive/refs/heads/main.zip"
   ]
  },
  {
   "cell_type": "code",
   "execution_count": 1,
   "metadata": {},
   "outputs": [
    {
     "data": {
      "text/plain": [
       "['bwb-mostrecent-meta-struc',\n",
       " 'bwb-mostrecent-text',\n",
       " 'bwb-mostrecent-xml',\n",
       " 'cvdr-mostrecent-html',\n",
       " 'cvdr-mostrecent-meta-struc',\n",
       " 'cvdr-mostrecent-text',\n",
       " 'cvdr-mostrecent-xml',\n",
       " 'gemeentes-struc',\n",
       " 'raadvanstate-adviezen-struc',\n",
       " 'rechtspraaknl-struc',\n",
       " 'tweedekamer-fractie-membership-struc',\n",
       " 'tweedekamer-fracties-struc',\n",
       " 'tweedekamer-kamervragen-struc',\n",
       " 'wetnamen',\n",
       " 'woo_besluiten_docs_text',\n",
       " 'woo_besluiten_meta']"
      ]
     },
     "execution_count": 1,
     "metadata": {},
     "output_type": "execute_result"
    }
   ],
   "source": [
    "import wetsuite.datasets\n",
    "\n",
    "# what do we currently have?\n",
    "wetsuite.datasets.list_datasets()"
   ]
  },
  {
   "cell_type": "code",
   "execution_count": 22,
   "metadata": {},
   "outputs": [
    {
     "name": "stdout",
     "output_type": "stream",
     "text": [
      "bwb-mostrecent-meta-struc                (TODO: short description)\n",
      "                                           <wetsuite.datasets.Dataset name='bwb-mostrecent-meta-struc' num_items=37806>\n",
      "bwb-mostrecent-text                      (TODO: short description)\n",
      "                                           <wetsuite.datasets.Dataset name='bwb-mostrecent-text' num_items=37806>\n",
      "bwb-mostrecent-xml                       (TODO: short description)\n",
      "                                           <wetsuite.datasets.Dataset name='bwb-mostrecent-xml' num_items=37806>\n",
      "cvdr-mostrecent-html                     (TODO: short description)\n",
      "                                           <wetsuite.datasets.Dataset name='cvdr-mostrecent-html' num_items=235495>\n",
      "cvdr-mostrecent-meta-struc               (TODO: short description)\n",
      "                                           <wetsuite.datasets.Dataset name='cvdr-mostrecent-meta-struc' num_items=235725>\n",
      "cvdr-mostrecent-text                     (TODO: short description)\n",
      "                                           <wetsuite.datasets.Dataset name='cvdr-mostrecent-text' num_items=235725>\n",
      "cvdr-mostrecent-xml                      (TODO: short description)\n",
      "                                           <wetsuite.datasets.Dataset name='cvdr-mostrecent-xml' num_items=236735>\n",
      "gemeentes-struc                          (TODO: short description)\n",
      "                                           <wetsuite.datasets.Dataset name='gemeentes-struc' num_items=342>\n",
      "raadvanstate-adviezen-struc              (TODO: short description)\n",
      "                                           <wetsuite.datasets.Dataset name='raadvanstate-adviezen-struc' num_items=11872>\n",
      "rechtspraaknl-struc                      (TODO: short description)\n",
      "                                           <wetsuite.datasets.Dataset name='rechtspraaknl-struc' num_items=718058>\n",
      "tweedekamer-fractie-membership-struc     (TODO: short description)\n",
      "                                           <wetsuite.datasets.Dataset name='tweedekamer-fractie-membership-struc' num_items=712>\n",
      "tweedekamer-fracties-struc               (TODO: short description)\n",
      "                                           <wetsuite.datasets.Dataset name='tweedekamer-fracties-struc' num_items=57>\n",
      "wetnamen                                 (TODO: short description)\n",
      "                                           <wetsuite.datasets.Dataset name='wetnamen' num_items=37336>\n",
      "woo_besluiten_docs_text                  (TODO: short description)\n",
      "                                           <wetsuite.datasets.Dataset name='woo_besluiten_docs_text' num_items=2339>\n",
      "woo_besluiten_meta                       (TODO: short description)\n",
      "                                           <wetsuite.datasets.Dataset name='woo_besluiten_meta' num_items=2542>\n"
     ]
    }
   ],
   "source": [
    "# ...with a little more description?\n",
    "for name, details in wetsuite.datasets.fetch_index().items():\n",
    "    #print(details)\n",
    "    print( f'{name:<40} {details.get(\"description_short\") or \"(TODO: short description)\"}' )\n",
    "    print( '                                          ',wetsuite.datasets.load(name) )  # download and load all  (also a test whether their download is not broken)"
   ]
  },
  {
   "cell_type": "code",
   "execution_count": 3,
   "metadata": {},
   "outputs": [],
   "source": [
    "xml  = wetsuite.datasets.load('cvdr-mostrecent-xml')\n",
    "meta = wetsuite.datasets.load('cvdr-mostrecent-meta')\n",
    "text = wetsuite.datasets.load('cvdr-mostrecent-text')"
   ]
  },
  {
   "cell_type": "code",
   "execution_count": 30,
   "metadata": {},
   "outputs": [],
   "source": [
    "#reload( wetsuite.datasets )\n",
    "#meta = wetsuite.datasets.load('cvdr-mostrecent-meta')\n",
    "#meta.save(in_dir='/tmp/t')\n",
    "\n",
    "#xml  = wetsuite.datasets.load('cvdr-mostrecent-xml')\n",
    "#xml.save(in_dir='/tmp/t')\n",
    "\n",
    "#merged = wetsuite.datasets.load('cvdr-mostrecent-*')\n",
    "#help(merged)"
   ]
  },
  {
   "cell_type": "markdown",
   "metadata": {},
   "source": [
    "Aside: We have an ongoing discussion of how to provide more varied data without making life harder for you. \n",
    "\n",
    "For example, in theory the -xml would be enough, in that -meta and -text are only a handful of extra function calls away,\n",
    "but making you do that is an unnecessary hurdle.\n",
    "\n",
    "Providing these in a merged, composite way, e.g. with dataset items providing attributes like\n",
    "item.xml/item.raw, item.metadata, item.text would be -  confusing that they differ per dataset, \n",
    "and but might be inflexible and confusing in the long run in that datasets _or_ code changing is likely to breaks all previous uses.\n",
    "\n",
    "So for now, we provide distinct datasets for different views on the same data,\n",
    "which also means you have at least some chance of loding this data in non-python other contexts."
   ]
  },
  {
   "cell_type": "markdown",
   "metadata": {},
   "source": [
    "## Example datasets\n",
    "\n",
    "There are some more targeted examples, including\n",
    "\n",
    "* `cvdr-`\n",
    "\n",
    "* `bwb-`\n",
    "\n",
    "* `kansspelautoriteit-sancties-txt` and ``: [using_dataset_kansspelautoriteit notebook](using_dataset_kansspelautoriteit.ipynb)\n",
    "\n",
    "* `tweedekamer-fracties-struc` and `tweedekamer-fracties-membership-struc`: [using_dataset_tweedekamer notebook](using_dataset_tweedekamer.ipynb)\n",
    "\n",
    "* `woobesluit`: [using_dataset_woobesluit notebook](using_dataset_woobesluit.ipynb)\n",
    "\n",
    "\n",
    "And some things that are little more than lists, including\n",
    "* `gemeentes`: [using_dataset_gemeentes notebook](using_dataset_gemeentes.ipynb)\n",
    "\n",
    "* `wetnamen`: [using_dataset_wetnamen notebook](using_dataset_wetnamen.ipynb)\n",
    "\n"
   ]
  },
  {
   "cell_type": "markdown",
   "metadata": {},
   "source": []
  }
 ],
 "metadata": {
  "kernelspec": {
   "display_name": "Python 3",
   "language": "python",
   "name": "python3"
  },
  "language_info": {
   "codemirror_mode": {
    "name": "ipython",
    "version": 3
   },
   "file_extension": ".py",
   "mimetype": "text/x-python",
   "name": "python",
   "nbconvert_exporter": "python",
   "pygments_lexer": "ipython3",
   "version": "3.8.10"
  },
  "vscode": {
   "interpreter": {
    "hash": "31f2aee4e71d21fbe5cf8b01ff0e069b9275f58929596ceb00d14d90e3e16cd6"
   }
  }
 },
 "nbformat": 4,
 "nbformat_minor": 4
}
