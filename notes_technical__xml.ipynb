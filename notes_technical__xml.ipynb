{
  "cells": [
    {
      "cell_type": "markdown",
      "metadata": {
        "colab_type": "text",
        "id": "view-in-github"
      },
      "source": [
        "<a href=\"https://colab.research.google.com/github/knobs-dials/wetsuite-dev/blob/main/notebooks/intermediate/technical_xml.ipynb\" target=\"_parent\"><img src=\"https://colab.research.google.com/assets/colab-badge.svg\" alt=\"Open In Colab\"/></a>"
      ]
    },
    {
      "cell_type": "markdown",
      "metadata": {
        "id": "EXjsYARiIEZT"
      },
      "source": [
        "## Purpose of this notebook\n",
        "\n",
        "Explain how XML contains data, and how to get that data out, for those who have not seen or seriously used it before.\n",
        "\n",
        "<!-- -->\n",
        "\n",
        "You probably do not need this, until you know that you do.\n",
        "\n",
        "We provide some readymade datasets (TODO:link) that extracted useful information from XML.\n",
        "If those cover your needs, then you don't really need to know about data in XML form, or even what XML means.\n",
        "\n",
        "<!-- -->\n",
        "\n",
        "...yet where those is _not_ enough,\n",
        "or you can't convince use to make something better,\n",
        "or you have a specific question that means you must dive deep into the structured data,\n",
        "then it may help to read this tour of what XML in general looks like, and how to manipulate it it in python.\n",
        "\n",
        "It then moves on to some example uses, e.g. those various data collection notebooks."
      ]
    },
    {
      "cell_type": "markdown",
      "metadata": {
        "id": "54MOuhFCIEZV"
      },
      "source": [
        "### XML as a data format\n",
        "XML is a specific style of writing down structured data, one that focuses on text and nesting structures in other data structures - a [tree structure](https://en.wikipedia.org/wiki/Tree_structure).\n",
        "\n",
        "It has elements that look like `<this>when it has content</this>`, so  like `<this></this>` when empty (though there's a shorthand like `<this />`).\n",
        "\n",
        "It also allows putting those elements inside other elements, which allows storing some more structured types of data.\n",
        "\n",
        "It doesn't specialize in anything, so everything is similarly nice, or depending on your view, similarly awkward,\n",
        "and this confusion of different purposes makes it impossible to do a quick and consise introduction to XML."
      ]
    },
    {
      "cell_type": "markdown",
      "metadata": {},
      "source": [
        "Let's still give it a shot:\n",
        "XML is one format that lends itself to data that is more complex than just a list of something.\n",
        "\n",
        "...both more data-like structures such as [value lists](https://standaarden.overheid.nl/owms/terms/Dienst.xml) with contents such as:\n",
        "\n",
        "```\n",
        "<cv name=\"overheid:Dienst\">\n",
        "   <value>\n",
        "      <prefLabel>Netherlands Space Office</prefLabel>\n",
        "      <resourceIdentifier>http://standaarden.overheid.nl/owms/terms/nso</resourceIdentifier>\n",
        "      <startDate>2009-01-01</startDate>\n",
        "   </value>\n",
        "   <value>\n",
        "      <prefLabel>Agentschap CBI</prefLabel>\n",
        "      <resourceIdentifier>http://standaarden.overheid.nl/owms/terms/Agentschap_CBI</resourceIdentifier>\n",
        "   </value>\n",
        "   <value>\n",
        "      <prefLabel>Agentschap NL</prefLabel>\n",
        "      <resourceIdentifier>http://standaarden.overheid.nl/owms/terms/Agentschap_NL</resourceIdentifier>\n",
        "      <startDate>2010-01-01</startDate>\n",
        "      <endDate>2013-12-31</endDate>\n",
        "   </value>\n",
        "</cv>\n",
        "```\n",
        "\n",
        "In this particular case there is actually very little structure, and there are ways to push that into simpler formats.\n",
        "\n",
        "But a lot of uses store more document-like things,\n",
        "which e.g. lets documents attaching non-textual information to just parts of a text. \n",
        "\n",
        "For example, consider the following (slightly reformatted) fragment from [CVDR352889](https://lokaleregelgeving.overheid.nl/CVDR352889) in XML form:\n",
        "```\n",
        "<aanhef>\n",
        "  <preambule>\n",
        "    <al>De raad van de gemeente Oosterhout;</al>\n",
        "    <al>gezien het voorstel van burgemeester en wethouder van 21 november 2014;</al>\n",
        "    <al>gelet op<extref doc=\"http://wetten.overheid.nl/cgi-bin/deeplink/law1/title=Participatiewet/article=8a\">artikel 8a, lid 1, aanhef en onderdeel b, van de Participatiewet</extref>,\n",
        "       a<extref doc=\"http://wetten.overheid.nl/cgi-bin/deeplink/law1/title=IOAW/article=35\">rtikel 35, lid 1, aanhef en onderdeel e, van de Wet inkomensvoorziening\n",
        "       ouderen en gedeeltelijk arbeidsongeschikte werkloze werknemers</extref>;<extref doc=\"http://wetten.overheid.nl/cgi-bin/deeplink/law1/title=IOAZ/article=35\">artikel 35, lid 1, aanhef en\n",
        "       onderdeel e, van de Wet inkomensvoorziening oudere en gedeeltelijk arbeidsongeschikte gewezen zelfstandigen</extref>,\n",
        "       de bepalingen van de<extref doc=\"http://wetten.overheid.nl/cgi-bin/deeplink/law1/title=Algemene%20wet%20bestuursrecht\">Algemene wet bestuursrecht</extref>en de<extref doc=\"http://wetten.overheid.nl/cgi-bin/deeplink/law1/title=Gemeentewet\">Gemeentewet</extref>;</al>\n",
        "    <al>overwegende dat het noodzakelijk is het opleggen van een tegenprestatie bij verordening te regelen;</al>\n",
        "    <al>Besluit</al>\n",
        "    <al>vast te stellen: de “Verordening tegenprestatie Sociale Zekerheid 2015, gemeente Oosterhout”.</al>\n",
        "  </preambule>\n",
        "</aanhef>\n",
        "```"
      ]
    },
    {
      "cell_type": "markdown",
      "metadata": {
        "id": "irJo8zXyIEZW"
      },
      "source": [
        "XML is often [stored into a file](https://en.wikipedia.org/wiki/Serialization),\n",
        "which is _technically_ a binary format, but practically looks like a text file that \n",
        "- is often human-readable, at least in the \"I get roughly what it's doing and storing\" sene\n",
        "  - depending on what document structure you follow\n",
        "  - (may not be indented helpfully like the example above - and reindenting like that is technically an alteration of the document).\n",
        "- is usually editable in a text editor\n",
        "  - while may not enjoy the process tremendously, and there are some edge cases that may bite you, _simpler_ cases are usually fine."
      ]
    },
    {
      "cell_type": "markdown",
      "metadata": {
        "id": "3zPZLEfNIEZX"
      },
      "source": [
        "### For context / elementtree's view on XML"
      ]
    },
    {
      "cell_type": "markdown",
      "metadata": {
        "id": "dkJV0pMtIEZY"
      },
      "source": [
        "Say we want to parse something into a form we can manipulate / extract from directly.\n",
        "Say we have some example data:\n",
        "```\n",
        "<root>\n",
        "  some text\n",
        "  <bold>with more text</bold>\n",
        "  end text\n",
        "</root>\n",
        "```\n",
        "\n",
        "There are actually a few ways to think of XML data in object form (and more than the two mentioned below).\n",
        "\n",
        "\n",
        "The [DOM](https://en.wikipedia.org/wiki/Document_Object_Model), \n",
        "as used e.g. by scripting in browsers, would parse the above into a structure much like (note: for brevity we're pretending there are no spaces or newlines in there):\n",
        "* `root` element\n",
        "  * a `text node` containing `'some text'`\n",
        "  * a element named `bold`, containing\n",
        "    * a `text node` containing `'with more text'`\n",
        "  * a `text node` containing `'end text'`\n",
        "\n",
        "Thinking of that as five different object is very well defined - yet also cumbersome to deal with.\n",
        "\n",
        "\n",
        "When e.g. web browsers show you XML data, even they try to display it in a visually simpler form, \n",
        "and Python's [elementtree](https://docs.python.org/3/library/xml.etree.elementtree.html) takes a form much like them:\n",
        "\n",
        "Instead of making each element and each text fragment a separate object, \n",
        "it tries to center around elements (hence the name) and ends up tacking text onto the closest element.\n",
        "\n",
        "Of particular note is text nodes _after_ elements at the same level.\n",
        "The above becomes:\n",
        "* `root` element with `text='some text'` (and `tail=None`)\n",
        "  * `bold` element with `text='with more text'` and `tail='end text'`\n",
        "\n",
        "Whether this makes your life\n",
        "* easier because it's fewer objects to inspect, with less typing, and \n",
        "* no different, e.g. because you're handling key-value lists like config files (where _both_ views are simplified)\n",
        "* harder, because it's _yet another_ way of looking at things\n",
        "  - and sometimes no better (in particular the position of this 'end text'/tail can be awkward)\n",
        "  - and sometimes arguably worse - e.g. 'how do I just get the text out?' took a bit of thinking around the DOM, and takes even more thinking with etree just because it takes a different view\n",
        "\n",
        "...depends a little on your data, and how fast you (want to) pick up the etree way of thinking.\n",
        "\n",
        "This notebook is here to make this look a little less scary."
      ]
    },
    {
      "cell_type": "markdown",
      "metadata": {
        "id": "HRCGRzquIEZY"
      },
      "source": [
        "## Some examples of how to handle xml"
      ]
    },
    {
      "cell_type": "code",
      "execution_count": 2,
      "metadata": {
        "id": "78ztunN_IEZZ"
      },
      "outputs": [],
      "source": [
        "import wetsuite.helpers.net\n",
        "import wetsuite.helpers.etree  # atually 90% just the existing lxml.etree module, but we added some convenience\n",
        "\n",
        "# and some test data to start\n",
        "test_xml = '''<aanhef>\n",
        "  <preambule>\n",
        "    <al>De raad van de gemeente Oosterhout;</al>\n",
        "    <al>gezien het voorstel van burgemeester en wethouder van 21 november 2014;</al>\n",
        "    <al>gelet op<extref doc=\"http://wetten.overheid.nl/cgi-bin/deeplink/law1/title=Participatiewet/article=8a\">artikel 8a, lid 1, aanhef en onderdeel b, van de Participatiewet</extref>, a<extref doc=\"http://wetten.overheid.nl/cgi-bin/deeplink/law1/title=IOAW/article=35\">rtikel 35, lid 1, aanhef en onderdeel e, van de Wet inkomensvoorziening ouderen en gedeeltelijk arbeidsongeschikte werkloze werknemers</extref>;<extref doc=\"http://wetten.overheid.nl/cgi-bin/deeplink/law1/title=IOAZ/article=35\">artikel 35, lid 1, aanhef en onderdeel e, van de Wet inkomensvoorziening oudere en gedeeltelijk arbeidsongeschikte gewezen zelfstandigen</extref>, de bepalingen van de<extref doc=\"http://wetten.overheid.nl/cgi-bin/deeplink/law1/title=Algemene%20wet%20bestuursrecht\">Algemene wet bestuursrecht</extref>en de<extref doc=\"http://wetten.overheid.nl/cgi-bin/deeplink/law1/title=Gemeentewet\">Gemeentewet</extref>;</al>\n",
        "    <al>overwegende dat het noodzakelijk is het opleggen van een tegenprestatie bij verordening te regelen;</al>\n",
        "    <al>Besluit</al>\n",
        "    <al>vast te stellen: de “Verordening tegenprestatie Sociale Zekerheid 2015, gemeente Oosterhout”.</al>\n",
        "  </preambule>\n",
        "</aanhef>'''\n"
      ]
    },
    {
      "cell_type": "markdown",
      "metadata": {
        "id": "NmDqJiXgIEZb"
      },
      "source": [
        "### Finding and navigating elements\n",
        "\n",
        "Terms:\n",
        "* child is a node _directly_ under another\n",
        "* descendant is a node _somewhere_ under another\n",
        "\n",
        "Functions:\n",
        "* [`find()`](https://docs.python.org/3/library/xml.etree.elementtree.html#xml.etree.ElementTree.Element.find) finds the first child that matches by name, or descendent by path (of names).\n",
        "* [`findall()`](https://docs.python.org/3/library/xml.etree.elementtree.html#xml.etree.ElementTree.Element.findall) finds all matching elements\n",
        "* or [`iter()`](https://docs.python.org/3/library/xml.etree.elementtree.html#xml.etree.ElementTree.Element.iter), a [generator](https://wiki.python.org/moin/Generators) that can do a _little_ more than findall"
      ]
    },
    {
      "cell_type": "code",
      "execution_count": 3,
      "metadata": {
        "id": "At2K5jTzIEZc"
      },
      "outputs": [],
      "source": [
        "aanhef = wetsuite.helpers.etree.fromstring( test_xml ) # parse that text into etree object.\n",
        "# That object points at the root of a tree, so we migh choose to call this variable 'tree', or 'root',\n",
        "# Or, when we know it is fixed,  the name of its root element might make the following code a little more readable"
      ]
    },
    {
      "cell_type": "code",
      "execution_count": 4,
      "metadata": {
        "id": "OtFj4wc6IEZd",
        "outputId": "ccaddd4c-d49f-4bb8-d48c-31dbb14507c3"
      },
      "outputs": [
        {
          "name": "stdout",
          "output_type": "stream",
          "text": [
            "<Element preambule at 0x7f7581929d40>\n"
          ]
        }
      ],
      "source": [
        "# find() picks a specific child element out of the tree\n",
        "print( aanhef.find('preambule') )  # finds the first node called preambule under the annhef node"
      ]
    },
    {
      "cell_type": "code",
      "execution_count": 4,
      "metadata": {
        "id": "lKuV_D1oIEZe",
        "outputId": "b537c341-b40c-4915-9fae-c1eff608e6a2"
      },
      "outputs": [
        {
          "name": "stdout",
          "output_type": "stream",
          "text": [
            "<Element al at 0x7f1a90112480>\n"
          ]
        }
      ],
      "source": [
        "# ...in this case you are probably interested in whatever is within preambule, so you can go find a descendent two levels deeper\n",
        "print( aanhef.find('preambule/al') )"
      ]
    },
    {
      "cell_type": "code",
      "execution_count": 5,
      "metadata": {
        "id": "MwCtpVP5IEZe",
        "outputId": "f4bae5fd-6552-45ba-e836-89cd2c61b9cd"
      },
      "outputs": [
        {
          "name": "stdout",
          "output_type": "stream",
          "text": [
            "[<Element al at 0x7f758198ed00>, <Element al at 0x7f758198ec00>, <Element al at 0x7f758198efc0>, <Element al at 0x7f758198e940>, <Element al at 0x7f758198e780>, <Element al at 0x7f758198e880>]\n",
            "[<Element al at 0x7f758198ed00>, <Element al at 0x7f758198e7c0>, <Element al at 0x7f758198ec00>, <Element al at 0x7f758198e800>, <Element al at 0x7f758198efc0>, <Element al at 0x7f758198e980>]\n",
            "[<Element al at 0x7f758198ec00>, <Element al at 0x7f758198ee40>, <Element al at 0x7f758198e800>, <Element al at 0x7f758198e780>, <Element al at 0x7f758198efc0>, <Element al at 0x7f758198eac0>]\n"
          ]
        }
      ],
      "source": [
        "# ...yet find() only finds the first (that is its purpose), and you are probably interested in everthing.\n",
        "\n",
        "# To look for multiple things, consider the following three fragments:\n",
        "\n",
        "\n",
        "# All children under an element, whatever those are.\n",
        "preambule = aanhef.find('preambule')\n",
        "print( preambule.getchildren( ) )\n",
        "# That makes sense e.g. where you already _know_ you are interested in all children equally,\n",
        "#   e.g. because the document _must_ only contain all the same thing at that level.\n",
        "# Usually you can't assume that, so you make more specific requests...\n",
        "\n",
        "\n",
        "# ...say, if you only wanted <al> elements, and you know there could be other things in there, you might do:\n",
        "preambule = aanhef.find('preambule')\n",
        "print( preambule.findall( 'al' ) )\n",
        "# in this case happens to be the same, but if preambule contained non-al nodes, they would not show up)\n",
        "\n",
        "\n",
        "# If you aren't going to reuse that preambule reference, this is a shorter equivalent:\n",
        "print( aanhef.findall( 'preambule/al' ) )"
      ]
    },
    {
      "cell_type": "code",
      "execution_count": null,
      "metadata": {},
      "outputs": [],
      "source": []
    },
    {
      "cell_type": "markdown",
      "metadata": {},
      "source": [
        "## Side note: some questions are more structured than others.\n",
        "\n",
        "If your question is very structured, you might often find yourself writing nested code that expresses how you think about the structure, like:\n",
        "\n",
        "    preambule = aanhef.find('preambule')\n",
        "    for alinea in preambule.findall('al'):\n",
        "        handle( alinea )\n",
        "\n",
        "\n",
        "In other cases, your wishes are less structured, e.g. \n",
        "\"I want to find the preambule tags no matter where it is in the structure, then want extrefs at any depth under that\".\n",
        "\n",
        "But find() and findall() don't let you say \"I don't care what's inbetween\",\n",
        "so you might end up using something like [`iter()`](https://docs.python.org/3/library/xml.etree.elementtree.html#xml.etree.ElementTree.Element.iter) ('step through all nodes in a tree'), but this easily gets a little awkward. \n"
      ]
    },
    {
      "cell_type": "code",
      "execution_count": 7,
      "metadata": {},
      "outputs": [
        {
          "name": "stdout",
          "output_type": "stream",
          "text": [
            "<Element extref at 0x7f7581982d00>\n",
            "<Element extref at 0x7f7581982ac0>\n",
            "<Element extref at 0x7f7581982e80>\n",
            "<Element extref at 0x7f75819826c0>\n",
            "<Element extref at 0x7f75819825c0>\n"
          ]
        }
      ],
      "source": [
        "# This is one of a few ways of expressing that.   Most variants of this are awkward in some way, this is just one of them.\n",
        "for node in aanhef.iter():\n",
        "    if node.tag == 'preambule':\n",
        "        for up in node.iter():\n",
        "            if up.tag == 'extref':\n",
        "                print( up )"
      ]
    },
    {
      "cell_type": "markdown",
      "metadata": {},
      "source": [
        "## Side note: extraction code may need to change\n",
        "\n",
        "You can imagine that the first find+findall style encourages code that is entangled with a single purpose,\n",
        "and is not necessarily even correct for similar cases.\n",
        "\n",
        "...because did you catch that the above would give duplicate results if preambules could exist within other preambules?\n",
        "\n",
        "\"Correct only with a completely hidden assumption\", which can be a category of \"wrong, actually\".\n",
        "Or perfectly usable. \n",
        "\n"
      ]
    },
    {
      "cell_type": "markdown",
      "metadata": {},
      "source": [
        "The original quesion happens to be easier to express in XPath.\n",
        "\n",
        "And you can imagine that it would be less typing to change later. (...assuming your next need is also easy to express in XPath)\n",
        "\n",
        "The standard etree doesn't support that, but wetsuite happens to focus on a specific flavour of etree that does (technically: [lxml's etree interface has it](https://lxml.de/xpathxslt.html#xpath))\n",
        "\n",
        "So consider:"
      ]
    },
    {
      "cell_type": "code",
      "execution_count": 8,
      "metadata": {},
      "outputs": [
        {
          "data": {
            "text/plain": [
              "[<Element extref at 0x7f758198bb80>,\n",
              " <Element extref at 0x7f75a00c9b00>,\n",
              " <Element extref at 0x7f7581982980>,\n",
              " <Element extref at 0x7f7581982880>,\n",
              " <Element extref at 0x7f7581982740>]"
            ]
          },
          "execution_count": 8,
          "metadata": {},
          "output_type": "execute_result"
        }
      ],
      "source": [
        "aanhef.xpath('//preambule//extref')"
      ]
    },
    {
      "cell_type": "markdown",
      "metadata": {
        "id": "Ij9z7f6-IEZg"
      },
      "source": [
        "## Getting out attributes, and text"
      ]
    },
    {
      "cell_type": "code",
      "execution_count": 12,
      "metadata": {
        "id": "E-UQWRAiIEZh",
        "outputId": "fd8200da-f5f7-4f99-e8fa-f28bdd06c8aa"
      },
      "outputs": [
        {
          "name": "stdout",
          "output_type": "stream",
          "text": [
            "LOOKING AT <extref doc=\"http://wetten.overheid.nl/cgi-bin/deeplink/law1/title=Participatiewet/article=8a\">artikel 8a, lid 1, aanhef en onderdeel b, van de Participatiewet</extref>, a\n",
            "DOC:       'http://wetten.overheid.nl/cgi-bin/deeplink/law1/title=Participatiewet/article=8a'\n",
            "TEXT:      'artikel 8a, lid 1, aanhef en onderdeel b, van de Participatiewet'\n",
            "\n",
            "LOOKING AT <extref doc=\"http://wetten.overheid.nl/cgi-bin/deeplink/law1/title=IOAW/article=35\">rtikel 35, lid 1, aanhef en onderdeel e, van de Wet inkomensvoorziening ouderen en gedeeltelijk arbeidsongeschikte werkloze werknemers</extref>;\n",
            "DOC:       'http://wetten.overheid.nl/cgi-bin/deeplink/law1/title=IOAW/article=35'\n",
            "TEXT:      'rtikel 35, lid 1, aanhef en onderdeel e, van de Wet inkomensvoorziening ouderen en gedeeltelijk arbeidsongeschikte werkloze werknemers'\n",
            "\n",
            "LOOKING AT <extref doc=\"http://wetten.overheid.nl/cgi-bin/deeplink/law1/title=IOAZ/article=35\">artikel 35, lid 1, aanhef en onderdeel e, van de Wet inkomensvoorziening oudere en gedeeltelijk arbeidsongeschikte gewezen zelfstandigen</extref>, de bepalingen van de\n",
            "DOC:       'http://wetten.overheid.nl/cgi-bin/deeplink/law1/title=IOAZ/article=35'\n",
            "TEXT:      'artikel 35, lid 1, aanhef en onderdeel e, van de Wet inkomensvoorziening oudere en gedeeltelijk arbeidsongeschikte gewezen zelfstandigen'\n",
            "\n",
            "LOOKING AT <extref doc=\"http://wetten.overheid.nl/cgi-bin/deeplink/law1/title=Algemene%20wet%20bestuursrecht\">Algemene wet bestuursrecht</extref>en de\n",
            "DOC:       'http://wetten.overheid.nl/cgi-bin/deeplink/law1/title=Algemene%20wet%20bestuursrecht'\n",
            "TEXT:      'Algemene wet bestuursrecht'\n",
            "\n",
            "LOOKING AT <extref doc=\"http://wetten.overheid.nl/cgi-bin/deeplink/law1/title=Gemeentewet\">Gemeentewet</extref>;\n",
            "DOC:       'http://wetten.overheid.nl/cgi-bin/deeplink/law1/title=Gemeentewet'\n",
            "TEXT:      'Gemeentewet'\n",
            "\n"
          ]
        }
      ],
      "source": [
        "# Each node can have attributes.\n",
        "#   often we are picking out detailed data from there,\n",
        "#   sometimes we are filter on values in there, which is a little more work\n",
        "\n",
        "for extref in aanhef.xpath('preambule//extref'):\n",
        "    # print the fragment we're extracting from a  serialized XML, for reference\n",
        "    print( 'LOOKING AT', wetsuite.helpers.etree.debug_pretty(extref) )   # debug_pretty is largely  ET.tostring but geared at humans skimming: namespaces removed, indenting added\n",
        "\n",
        "    #print( extref.attrib ) # _all_ attributes as dict, though in these cases there is only one\n",
        "    print( 'DOC:       %r'%extref.get('doc')) # if there was no such attribute, it would return None\n",
        "\n",
        "    print( 'TEXT:      %r'%extref.text ) # this gets the initial text, this isn't always enough (we'll explain why next)\n",
        "    print()"
      ]
    },
    {
      "cell_type": "markdown",
      "metadata": {
        "id": "9WUZ5oO3IEZh"
      },
      "source": [
        "## Getting out text\n",
        "\n",
        "XML, due to its generic nature, does not specialize in text, and that means it's often a little cumbersome to deal with text."
      ]
    },
    {
      "cell_type": "markdown",
      "metadata": {
        "id": "fKF9DJvpIEZh"
      },
      "source": [
        "Looking at the documentation, you might have found\n",
        "* `element.text` and `elemen.tail`, reminding yourself of where etree sticks text\n",
        "\n",
        "* [`findtext()`](https://docs.python.org/3/library/xml.etree.elementtree.html#xml.etree.ElementTree.Element.findtext) roughly amounts to `find()` followed by `.text`, is fewer keystrokes but the same as before\n",
        "\n",
        "* [`findall()`](https://docs.python.org/3/library/xml.etree.elementtree.html#xml.etree.ElementTree.Element.findall) could be used by then fishing out `.text` and `.tail` of each matching node, ignorning `None`s\n",
        "  * yet that's a whole bunch of typing.\n",
        "\n",
        "* [`itertext()`](https://docs.python.org/3/library/xml.etree.elementtree.html#xml.etree.ElementTree.Element.itertext) can be used something like `list( aanhef.itertext('al') )`,  does something like that for you?\n",
        "  * Better - probably.\n",
        "\n",
        "But there's a more practical issue:"
      ]
    },
    {
      "cell_type": "markdown",
      "metadata": {
        "id": "4btB22psIEZi"
      },
      "source": [
        "### When you say text, do you mean direct text content, subtree text, or something else?"
      ]
    },
    {
      "cell_type": "code",
      "execution_count": 10,
      "metadata": {
        "id": "8v4iD6r1IEZi",
        "outputId": "32eea7ae-5b63-470e-a00e-566b43b02695"
      },
      "outputs": [
        {
          "data": {
            "text/plain": [
              "'gelet op'"
            ]
          },
          "execution_count": 10,
          "metadata": {},
          "output_type": "execute_result"
        }
      ],
      "source": [
        "alineas = aanhef.xpath('//al') # select all alineas anywhere\n",
        "alineas[2].text  # what's the text in the third one? (cherry picked example)"
      ]
    },
    {
      "cell_type": "markdown",
      "metadata": {
        "id": "WCuguIcpIEZi"
      },
      "source": [
        "That seems like elementtree being a smartass -\n",
        "that sure is is the text within the element - up to the first child element, which isn't what we wanted.\n",
        "\n",
        "We can start looking at functions, but they are just a means to and end,\n",
        "and frankly we should first be more specific about what we wanted to do in the first place.\n",
        "\n",
        "If we wanted the output:\n",
        "\n",
        "    gelet op artikel 8a, lid 1, aanhef en onderdeel b, van de Participatiewet, artikel 35, lid 1, aanhef en onderdeel e,\n",
        "    van de Wet inkomensvoorziening ouderen en gedeeltelijk arbeidsongeschikte werkloze werknemers; artikel 35, lid 1,\n",
        "    aanhef en onderdeel e, van de Wet inkomensvoorziening oudere en gedeeltelijk arbeidsongeschikte gewezen zelfstandigen,\n",
        "    de bepalingen van de Algemene wet bestuursrecht en de Gemeentewet;\n",
        "\n",
        "...then our question was actually \"all text and tail values at any depth under the subtree under a particular starting particular element,\n",
        "smushed together\", and that's a little more work to do."
      ]
    },
    {
      "cell_type": "code",
      "execution_count": 15,
      "metadata": {
        "id": "6lWCO7k8IEZj",
        "outputId": "18cbf63e-431a-48c9-9a35-1e4c01da2161"
      },
      "outputs": [
        {
          "data": {
            "text/plain": [
              "['gelet op',\n",
              " '\\n    ',\n",
              " 'artikel 8a, lid 1, aanhef en onderdeel b, van de Participatiewet',\n",
              " ', a',\n",
              " 'rtikel 35, lid 1, aanhef en onderdeel e, van de Wet inkomensvoorziening ouderen en gedeeltelijk arbeidsongeschikte werkloze werknemers',\n",
              " ';',\n",
              " 'artikel 35, lid 1, aanhef en onderdeel e, van de Wet inkomensvoorziening oudere en gedeeltelijk arbeidsongeschikte gewezen zelfstandigen',\n",
              " ', de bepalingen van de',\n",
              " 'Algemene wet bestuursrecht',\n",
              " 'en de',\n",
              " 'Gemeentewet',\n",
              " ';']"
            ]
          },
          "execution_count": 15,
          "metadata": {},
          "output_type": "execute_result"
        }
      ],
      "source": [
        "# We provide a function that should help.\n",
        "#   side note: there is a sneaky default text strip(), via a parameter, which you may sometimes want to change\n",
        "wetsuite.helpers.etree.all_text_fragments( alineas[2], strip='' )\n",
        "\n",
        "# this mostly it  grabs each .text and .tail it finds under the given element, so gives a list like:"
      ]
    },
    {
      "cell_type": "code",
      "execution_count": 16,
      "metadata": {
        "id": "jRukt_sgIEZj",
        "outputId": "e82325c1-7bfd-4f0e-9736-84caebd1f995"
      },
      "outputs": [
        {
          "data": {
            "text/plain": [
              "'gelet opartikel 8a, lid 1, aanhef en onderdeel b, van de Participatiewet, artikel 35, lid 1, aanhef en onderdeel e, van de Wet inkomensvoorziening ouderen en gedeeltelijk arbeidsongeschikte werkloze werknemers;artikel 35, lid 1, aanhef en onderdeel e, van de Wet inkomensvoorziening oudere en gedeeltelijk arbeidsongeschikte gewezen zelfstandigen, de bepalingen van deAlgemene wet bestuursrechten deGemeentewet;'"
            ]
          },
          "execution_count": 16,
          "metadata": {},
          "output_type": "execute_result"
        }
      ],
      "source": [
        "# so, why not return it as as a single string?   We could join that array into a single string:\n",
        "''.join( wetsuite.helpers.etree.all_text_fragments( alineas[2] ) )"
      ]
    },
    {
      "cell_type": "code",
      "execution_count": 17,
      "metadata": {
        "id": "GekjHzRuIEZk",
        "outputId": "1fa8a23e-c83c-4d95-f2f9-b3859844ffae"
      },
      "outputs": [
        {
          "data": {
            "text/plain": [
              "'gelet op  artikel 8a, lid 1, aanhef en onderdeel b, van de Participatiewet , a rtikel 35, lid 1, aanhef en onderdeel e, van de Wet inkomensvoorziening ouderen en gedeeltelijk arbeidsongeschikte werkloze werknemers ; artikel 35, lid 1, aanhef en onderdeel e, van de Wet inkomensvoorziening oudere en gedeeltelijk arbeidsongeschikte gewezen zelfstandigen , de bepalingen van de Algemene wet bestuursrecht en de Gemeentewet ;'"
            ]
          },
          "execution_count": 17,
          "metadata": {},
          "output_type": "execute_result"
        }
      ],
      "source": [
        "# Note that 'opartikel'. Okay, maybe that should have inserted a space between each part:\n",
        "' '.join( wetsuite.helpers.etree.all_text_fragments( alineas[2] ) )\n",
        "# or, basically equivalent, and a little clearer in intent:\n",
        "#wetsuite.helpers.etree.all_text_fragments( alineas[2], ignore_empty=True, join=' ' )\n",
        "\n",
        "# ...yet now we have an \"a rtikel\"."
      ]
    },
    {
      "cell_type": "code",
      "execution_count": 18,
      "metadata": {
        "id": "w3S0t8vPIEZk",
        "outputId": "d7de6963-d7c5-4191-fffc-2c4b480358c9"
      },
      "outputs": [
        {
          "name": "stdout",
          "output_type": "stream",
          "text": [
            "Wet van 16 december 2020 tot wijziging van de Wet belastingen op milieugrondslag en de Wet Milieubeheer voor de invoering van een CO2-heffing voor de industrie (Wet CO  2 -heffing industrie) 2020 544 23-12-2020 16-12-2020 35575 2020 544 23-12-2020 16-12-2020 35575 01-01-2021\n"
          ]
        }
      ],
      "source": [
        "# That \"a rtikel\" is easily argued to be an error in that particular document (extrefs are used without spaces so _should_ split words),\n",
        "# and join-with-a-space is probably preferable in this particular case.\n",
        "\n",
        "\n",
        "# ...but let's instead consider BWBR0044578\n",
        "bwb_test = wetsuite.helpers.net.download('https://repository.officiele-overheidspublicaties.nl/bwb/BWBR0044578/2021-01-01_0/xml/BWBR0044578_2021-01-01_0.xml')\n",
        "tree = wetsuite.helpers.etree.fromstring( bwb_test )\n",
        "# The intitule is\n",
        "#   Wet van 16 december 2020 tot wijziging van de Wet belastingen op milieugrondslag en de Wet Milieubeheer\n",
        "#   voor de invoering van een CO2-heffing voor de industrie (Wet CO<inf>2</inf> -heffing industrie)\n",
        "# so\n",
        "#   tree.find('wetgeving/intitule').text\n",
        "# would stop after \"(Wet CO\".\n",
        "\n",
        "# So do we want all_text_fragments again, with spaces as we just figured was a good idea?\n",
        "print( wetsuite.helpers.etree.all_text_fragments(  tree.find('wetgeving/intitule'), join=' ') )"
      ]
    },
    {
      "cell_type": "code",
      "execution_count": 19,
      "metadata": {
        "id": "-H1dLzf7IEZl",
        "outputId": "67523f92-7bbc-408a-a9a1-6b56da99ed23"
      },
      "outputs": [
        {
          "name": "stdout",
          "output_type": "stream",
          "text": [
            "Wet van 16 december 2020 tot wijziging van de Wet belastingen op milieugrondslag en de Wet Milieubeheer voor de invoering van een CO2-heffing voor de industrie (Wet CO2-heffing industrie)202054423-12-202016-12-202035575202054423-12-202016-12-20203557501-01-2021\n"
          ]
        }
      ],
      "source": [
        "# Now it says \"CO  2\" where we probably wanted \"CO2\". Okay, let's try\n",
        "print( wetsuite.helpers.etree.all_text_fragments(  tree.find('wetgeving/intitule'), join='') )"
      ]
    },
    {
      "cell_type": "code",
      "execution_count": null,
      "metadata": {},
      "outputs": [],
      "source": [
        "# Right, so for just titles you could guess we could probably get away with not adding spaces because you won't get much markup in there\n",
        "# but in reality, doing that for an entire body text will probably just be wrong.\n",
        "\n",
        "\n",
        "# Yet this actually highlights a subtler issue,\n",
        "# that in such free-form documents it is uncertain which elements act as word separators, and which do not.\n",
        "# \n",
        "# This is largely down to semantics that are defined in the somewhere the parts of a standard that fewer people read.\n",
        "# Or, you know, not. But often still have strong conventions, like:\n",
        "# - not for subscript and superscript\n",
        "# - _probably not_ for bold or italics\n",
        "# - _probably_ for links\n",
        "\n",
        "# In HTML this may not be much of an issue.\n",
        "# Yet in XML we have documents pretending to be data  (or maybe the other way around)\n",
        "\n",
        "# (...and we have to ignore human mistakes like, above, that second extref anove starting a character late)\n",
        "\n",
        "\n",
        "# TODO: create a specialized text extractor for CVDR and BWB that includes these semantics for the node names used in there"
      ]
    },
    {
      "cell_type": "code",
      "execution_count": null,
      "metadata": {
        "id": "6iVmIXyvIEZm",
        "outputId": "dc869163-a4c0-4c2f-c49b-46afc7458c8a"
      },
      "outputs": [
        {
          "name": "stdout",
          "output_type": "stream",
          "text": [
            "Wet van 16 december 2020 tot wijziging van de Wet belastingen op milieugrondslag en de Wet Milieubeheer voor de invoering van een CO2-heffing voor de industrie (Wet CO2-heffing industrie)\n"
          ]
        },
        {
          "data": {
            "text/plain": [
              "'Wet van 16 december 2020 tot wijziging van de Wet belastingen op milieugrondslag en de Wet Milieubeheer voor de invoering van een CO2-heffing voor de industrie (Wet CO2-heffing industrie)'"
            ]
          },
          "execution_count": 17,
          "metadata": {},
          "output_type": "execute_result"
        }
      ],
      "source": [
        "# Also, look back to the BWBR0044578 example - why all the numbers at the end of the title?\n",
        "#   Well, here the XML is less structured than it perhaps should be - the actual title within the intitule\n",
        "#   isn't well separated from the metadata tag at the same level,\n",
        "#   so in this case it seems almost impossible to ask for just that text\n",
        "#   Such issues are _generally_ rare, but in this particular case you have to get more creative.\n",
        "\n",
        "# This should probably mean all_text_fragments's ignore_under should come to mean 'ignore subtree when you see an element called this',\n",
        "#   but until then you would need to get more creative.\n",
        "\n",
        "# One way is to use the stop_at argument, which stops walking the tree at the first mention of a node with a particular name\n",
        "print( wetsuite.helpers.etree.all_text_fragments(  tree.find('wetgeving/intitule'), join='', stop_at=['meta-data']) )\n",
        "\n",
        "\n",
        "# A somewhat more selective hack would be to selectively remove the `meta-data` tag\n",
        "#   (based on knowing the structure from the XML schema, and probably work on a copy of the tree)\n",
        "# Such cleanup might be better when you hand trees along -- but means you have to know even more about etree, so it's not for regular use.\n",
        "tree = wetsuite.helpers.etree.fromstring( bwb_test ) # parse that text into etree object tree\n",
        "intitule = tree.find('wetgeving/intitule')\n",
        "intitule.remove( intitule.find('meta-data') )\n",
        "wetsuite.helpers.etree.all_text_fragments( intitule, join='')"
      ]
    },
    {
      "cell_type": "markdown",
      "metadata": {
        "id": "vxmGbmkbIEZm"
      },
      "source": [
        "## On (ignoring) namespaces\n",
        "\n",
        "Consider needing to combine data from different sources in one XML document.\n",
        "\n",
        "If done free-form, you would combined element names that _might_ have different meanings to different sources\n",
        "  - there is potential ambiguity about what standard each element (or even attribute) even comes from,\n",
        "  - and if they happen to pick the same element (or attribute) name, they may clash and overwrite each other.\n",
        "\n",
        "Namespaces can be thought of as a little tag on each element (and attribute) that assigns it to a well-defined source.\n",
        "\n",
        "\n",
        "Consider the following XML: (a simplified version of document from [here](https://standaarden.overheid.nl/owms/terms/Leiden_(gemeente).rdf))\n",
        "```\n",
        "<?xml version=\"1.0\" encoding=\"UTF-8\"?>\n",
        "<rdf:RDF xmlns:overheid=\"http://standaarden.overheid.nl/owms/terms/\"\n",
        "         xmlns:rdf=\"http://www.w3.org/1999/02/22-rdf-syntax-ns#\"\n",
        "         xmlns:rdfs=\"http://www.w3.org/2000/01/rdf-schema#\"\n",
        "         xmlns:skos=\"http://www.w3.org/2004/02/skos/core#\">\n",
        "  <rdf:Description rdf:about=\"http://standaarden.overheid.nl/owms/terms/Leiden_(gemeente)\">\n",
        "    <overheid:CBSCode>0546</overheid:CBSCode>\n",
        "    <overheid:overlapsWith rdf:resource=\"http://standaarden.overheid.nl/owms/terms/Hoogheemraadschap_van_Rijnland\"/>\n",
        "    <overheid:overlapsWith rdf:resource=\"http://standaarden.overheid.nl/owms/terms/Zuid-Holland\"/>\n",
        "    <overheid:serviceAreaOf rdf:resource=\"http://standaarden.overheid.nl/owms/terms/Commissie_Regionaal_Overleg_Luchthaven_Schiphol\"/>\n",
        "    <overheid:serviceAreaOf rdf:resource=\"http://standaarden.overheid.nl/owms/terms/Milieudienst_West-Holland\"/>\n",
        "    <overheid:serviceAreaOf rdf:resource=\"http://standaarden.overheid.nl/owms/terms/Regiokorps_Politie_Hollands_Midden\"/>\n",
        "    <overheid:serviceAreaOf rdf:resource=\"http://standaarden.overheid.nl/owms/terms/SZHR\"/>\n",
        "    <overheid:serviceAreaOf rdf:resource=\"http://standaarden.overheid.nl/owms/terms/Servicepunt71\"/>\n",
        "    <overheid:serviceAreaOf rdf:resource=\"http://standaarden.overheid.nl/owms/terms/Veiligheidsregio_Hollands_Midden\"/>\n",
        "    <overheid:serviceAreaOf rdf:resource=\"http://standaarden.overheid.nl/owms/terms/bsgr\"/>\n",
        "    <overheid:serviceAreaOf rdf:resource=\"http://standaarden.overheid.nl/owms/terms/odwhol\"/>\n",
        "    <overheid:serviceAreaOf rdf:resource=\"http://standaarden.overheid.nl/owms/terms/rdoghm\"/>\n",
        "    <overheid:serviceAreaOf rdf:resource=\"http://standaarden.overheid.nl/owms/terms/sohlrl\"/>\n",
        "    <rdf:type rdf:resource=\"http://purl.org/dc/terms/Agent\"/>\n",
        "    <rdf:type rdf:resource=\"http://standaarden.overheid.nl/owms/terms/Agent\"/>\n",
        "    <rdf:type rdf:resource=\"http://standaarden.overheid.nl/owms/terms/Gemeente\"/>\n",
        "    <rdf:type rdf:resource=\"http://standaarden.overheid.nl/owms/terms/Organisatie\"/>\n",
        "    <rdf:type rdf:resource=\"http://standaarden.overheid.nl/owms/terms/Overheidsorganisatie\"/>\n",
        "    <rdf:type rdf:resource=\"http://www.w3.org/2000/01/rdf-schema#Resource\"/>\n",
        "    <rdf:type rdf:resource=\"http://www.w3.org/2002/07/owl#Thing\"/>\n",
        "    <rdfs:label xml:lang=\"nl\">Leiden</rdfs:label>\n",
        "    <skos:prefLabel xml:lang=\"nl\">Leiden</skos:prefLabel>\n",
        "  </rdf:Description>\n",
        "</rdf:RDF>\n",
        "```\n",
        "\n",
        "\n",
        "**technicalities (feel free to skip)**\n",
        "\n",
        "It turns out that (due to the way namespaces were bolted onto XML _after_ initial design)\n",
        "a namespace declaration like `xmlns:overheid=\"http://standaarden.overheid.nl/owms/terms/\"`\n",
        "to humans seems to mean 'can use `overheid:` as a prefix on nodes'.\n",
        "\n",
        "...**but**\n",
        "- That prefix isn't technically part of the document model,\n",
        "- just XML specs cannot even guarantee the same prefix will be used the next time we write this out,\n",
        "- so the only thing that actually identifies the namespace is `http://standaarden.overheid.nl/owms/terms/`, *****not***** `overheid`\n",
        "\n",
        "So when etree (and many other parsers) then sees\n",
        "\t`<overheid:CBSCode>0546</overheid:CBSCode>`\n",
        "it will actually think of that as as an element with name\n",
        "`{http://standaarden.overheid.nl/owms/terms/}CBScode`\n",
        "\n",
        "\n",
        "\n",
        "**correct namespaces is important when producing XML**,\n",
        "in that the document will not conform to a standard that says you must use them.\n",
        "\n",
        "At the same time, **matching namespces is annoying**, and\n",
        "- when you are only _consuming_ XML into something else,\n",
        "- when you are doing so manually rather than with something like XSLT,\n",
        "- when you know that the schemas being combined in your documents do not actually clash (which is 'usually'),\n",
        "then you can consider removing them.\n",
        "\n",
        "Say, if you parsed the above, example, pulled it through `wetsuite.helpers.etree.strip_namespace()`, and printed it out again, you would get:\n",
        "\n",
        "```\n",
        "<RDF>\n",
        "  <Description about=\"http://standaarden.overheid.nl/owms/terms/Leiden_(gemeente)\">\n",
        "    <CBSCode>0546</CBSCode>\n",
        "    <overlapsWith resource=\"http://standaarden.overheid.nl/owms/terms/Hoogheemraadschap_van_Rijnland\"/>\n",
        "    <overlapsWith resource=\"http://standaarden.overheid.nl/owms/terms/Zuid-Holland\"/>\n",
        "    <serviceAreaOf resource=\"http://standaarden.overheid.nl/owms/terms/Commissie_Regionaal_Overleg_Luchthaven_Schiphol\"/>\n",
        "    <serviceAreaOf resource=\"http://standaarden.overheid.nl/owms/terms/Milieudienst_West-Holland\"/>\n",
        "    <serviceAreaOf resource=\"http://standaarden.overheid.nl/owms/terms/Regiokorps_Politie_Hollands_Midden\"/>\n",
        "    <serviceAreaOf resource=\"http://standaarden.overheid.nl/owms/terms/SZHR\"/>\n",
        "    <serviceAreaOf resource=\"http://standaarden.overheid.nl/owms/terms/Servicepunt71\"/>\n",
        "    <serviceAreaOf resource=\"http://standaarden.overheid.nl/owms/terms/Veiligheidsregio_Hollands_Midden\"/>\n",
        "    <serviceAreaOf resource=\"http://standaarden.overheid.nl/owms/terms/bsgr\"/>\n",
        "    <serviceAreaOf resource=\"http://standaarden.overheid.nl/owms/terms/odwhol\"/>\n",
        "    <serviceAreaOf resource=\"http://standaarden.overheid.nl/owms/terms/rdoghm\"/>\n",
        "    <serviceAreaOf resource=\"http://standaarden.overheid.nl/owms/terms/sohlrl\"/>\n",
        "    <type resource=\"http://purl.org/dc/terms/Agent\"/>\n",
        "    <type resource=\"http://standaarden.overheid.nl/owms/terms/Agent\"/>\n",
        "    <type resource=\"http://standaarden.overheid.nl/owms/terms/Gemeente\"/>\n",
        "    <type resource=\"http://standaarden.overheid.nl/owms/terms/Organisatie\"/>\n",
        "    <type resource=\"http://standaarden.overheid.nl/owms/terms/Overheidsorganisatie\"/>\n",
        "    <type resource=\"http://www.w3.org/2000/01/rdf-schema#Resource\"/>\n",
        "    <type resource=\"http://www.w3.org/2002/07/owl#Thing\"/>\n",
        "    <label lang=\"nl\">Leiden</label>\n",
        "    <prefLabel lang=\"nl\">Leiden</prefLabel>\n",
        "  </Description>\n",
        "</RDF>\n",
        "```\n",
        "\n",
        "Is this cheating?\n",
        "\n",
        "Yes.\n",
        "\n",
        "Does it make your life simpler, e.g. let you write `etree.find('Description/CBScode')`\n",
        "instead of `etree.find('{http://www.w3.org/1999/02/22-rdf-syntax-ns#}Description/{http://standaarden.overheid.nl/owms/terms/}CBScode')`?\n",
        "\n",
        "Also yes.   \n",
        "\n",
        "In any context where you are sure it won't introduce ambiguity, you can get away with this."
      ]
    },
    {
      "cell_type": "markdown",
      "metadata": {},
      "source": [
        "## On playing with selection queries\n",
        "\n",
        "This can still feel fairly abstract, so let's play with examples some more.\n",
        "\n",
        "There are a number of \n",
        "- online XPath tester tools,\n",
        "- there is your browser's development console (press F12), (which in most browsers let you search for nodes within the current page with such queries),\n",
        "\n",
        "For the sake of testing this on our own data, there is a quick imitation of such visualisation.\n",
        "\n",
        "(Note that it is _INCOMPLETE_ in a few senses, including that it's focused on elements, not text nodes or attributes - '//extref/@id' or //extref/text() will not do anything. In fact, at etree level the first doesn't select anything, though the second _does_)"
      ]
    },
    {
      "cell_type": "code",
      "execution_count": 13,
      "metadata": {},
      "outputs": [],
      "source": [
        "import wetsuite.helpers.notebook\n",
        "\n",
        "test_xml = '''<aanhef>\n",
        "  <preambule>\n",
        "    <al>De raad van de gemeente Oosterhout;</al>\n",
        "    <al>gezien het voorstel van burgemeester en wethouder van 21 november 2014;</al>\n",
        "    <al>gelet op<extref doc=\"http://wetten.overheid.nl/cgi-bin/deeplink/law1/title=Participatiewet/article=8a\">artikel 8a, lid 1, aanhef en onderdeel b, van de Participatiewet</extref>, a<extref doc=\"http://wetten.overheid.nl/cgi-bin/deeplink/law1/title=IOAW/article=35\">rtikel 35, lid 1, aanhef en onderdeel e, van de Wet inkomensvoorziening ouderen en gedeeltelijk arbeidsongeschikte werkloze werknemers</extref>;<extref doc=\"http://wetten.overheid.nl/cgi-bin/deeplink/law1/title=IOAZ/article=35\">artikel 35, lid 1, aanhef en onderdeel e, van de Wet inkomensvoorziening oudere en gedeeltelijk arbeidsongeschikte gewezen zelfstandigen</extref>, de bepalingen van de<extref doc=\"http://wetten.overheid.nl/cgi-bin/deeplink/law1/title=Algemene%20wet%20bestuursrecht\">Algemene wet bestuursrecht</extref>en de<extref doc=\"http://wetten.overheid.nl/cgi-bin/deeplink/law1/title=Gemeentewet\">Gemeentewet</extref>;</al>\n",
        "    <al>overwegende dat het noodzakelijk is het opleggen van een tegenprestatie bij verordening te regelen;</al>\n",
        "    <al>Besluit</al>\n",
        "    <al>vast te stellen: de “Verordening tegenprestatie Sociale Zekerheid 2015, gemeente Oosterhout”.</al>\n",
        "  </preambule>\n",
        "</aanhef>'''\n",
        "\n",
        "preambule = wetsuite.helpers.etree.fromstring( test_xml ) # our basic preambule / al / extref example from earlier"
      ]
    },
    {
      "cell_type": "code",
      "execution_count": 15,
      "metadata": {},
      "outputs": [
        {
          "data": {
            "text/html": [
              "<pre>&lt;aanhef&gt;\n",
              "  &lt;<span style=\"background-color:red; color:white\">preambule</span>&gt;\n",
              "    <span style=\"background-color:#caa; color:black\">&lt;al&gt;De raad van de gemeente Oosterhout;&lt;/al&gt;\n",
              "    &lt;al&gt;gezien het voorstel van burgemeester en wethouder van 21 november 2014;&lt;/al&gt;\n",
              "    &lt;al&gt;gelet op&lt;extref doc=\"http://wetten.overheid.nl/cgi-bin/deeplink/law1/title=Participatiewet/article=8a\"&gt;artikel 8a, lid 1, aanhef en onderdeel b, van de Participatiewet&lt;/extref&gt;, a&lt;extref doc=\"http://wetten.overheid.nl/cgi-bin/deeplink/law1/title=IOAW/article=35\"&gt;rtikel 35, lid 1, aanhef en onderdeel e, van de Wet inkomensvoorziening ouderen en gedeeltelijk arbeidsongeschikte werkloze werknemers&lt;/extref&gt;;&lt;extref doc=\"http://wetten.overheid.nl/cgi-bin/deeplink/law1/title=IOAZ/article=35\"&gt;artikel 35, lid 1, aanhef en onderdeel e, van de Wet inkomensvoorziening oudere en gedeeltelijk arbeidsongeschikte gewezen zelfstandigen&lt;/extref&gt;, de bepalingen van de&lt;extref doc=\"http://wetten.overheid.nl/cgi-bin/deeplink/law1/title=Algemene%20wet%20bestuursrecht\"&gt;Algemene wet bestuursrecht&lt;/extref&gt;en de&lt;extref doc=\"http://wetten.overheid.nl/cgi-bin/deeplink/law1/title=Gemeentewet\"&gt;Gemeentewet&lt;/extref&gt;;&lt;/al&gt;\n",
              "    &lt;al&gt;overwegende dat het noodzakelijk is het opleggen van een tegenprestatie bij verordening te regelen;&lt;/al&gt;\n",
              "    &lt;al&gt;Besluit&lt;/al&gt;\n",
              "    &lt;al&gt;vast te stellen: de “Verordening tegenprestatie Sociale Zekerheid 2015, gemeente Oosterhout”.&lt;/al&gt;\n",
              "  </span>&lt;/<span style=\"background-color:red; color:white\">preambule</span>&gt;\n",
              "&lt;/aanhef&gt;\n",
              "</pre>"
            ],
            "text/plain": [
              "<wetsuite.helpers.notebook.etree_visualize_selection at 0x7f7581928e20>"
            ]
          },
          "metadata": {},
          "output_type": "display_data"
        }
      ],
      "source": [
        "# The query 'preambule' means \"select all <preambule> tags directly under the root\", \n",
        "# the function parameters ask to additionally highlight show us what's inside (more useful for sections on more complex data)\n",
        "display( wetsuite.helpers.notebook.etree_visualize_selection(preambule, 'preambule', mark_subtree=True) )"
      ]
    },
    {
      "cell_type": "code",
      "execution_count": 16,
      "metadata": {},
      "outputs": [
        {
          "data": {
            "text/html": [
              "<pre>&lt;aanhef&gt;\n",
              "  &lt;preambule&gt;\n",
              "    &lt;<span style=\"background-color:red; color:white\">al</span>&gt;<span style=\"background-color:#faa; color:black\">De raad van de gemeente Oosterhout;</span>&lt;/<span style=\"background-color:red; color:white\">al</span>&gt;\n",
              "    &lt;<span style=\"background-color:red; color:white\">al</span>&gt;<span style=\"background-color:#faa; color:black\">gezien het voorstel van burgemeester en wethouder van 21 november 2014;</span>&lt;/<span style=\"background-color:red; color:white\">al</span>&gt;\n",
              "    &lt;<span style=\"background-color:red; color:white\">al</span>&gt;<span style=\"background-color:#faa; color:black\">gelet op</span>&lt;extref doc=\"http://wetten.overheid.nl/cgi-bin/deeplink/law1/title=Participatiewet/article=8a\"&gt;artikel 8a, lid 1, aanhef en onderdeel b, van de Participatiewet&lt;/extref&gt;, a&lt;extref doc=\"http://wetten.overheid.nl/cgi-bin/deeplink/law1/title=IOAW/article=35\"&gt;rtikel 35, lid 1, aanhef en onderdeel e, van de Wet inkomensvoorziening ouderen en gedeeltelijk arbeidsongeschikte werkloze werknemers&lt;/extref&gt;;&lt;extref doc=\"http://wetten.overheid.nl/cgi-bin/deeplink/law1/title=IOAZ/article=35\"&gt;artikel 35, lid 1, aanhef en onderdeel e, van de Wet inkomensvoorziening oudere en gedeeltelijk arbeidsongeschikte gewezen zelfstandigen&lt;/extref&gt;, de bepalingen van de&lt;extref doc=\"http://wetten.overheid.nl/cgi-bin/deeplink/law1/title=Algemene%20wet%20bestuursrecht\"&gt;Algemene wet bestuursrecht&lt;/extref&gt;en de&lt;extref doc=\"http://wetten.overheid.nl/cgi-bin/deeplink/law1/title=Gemeentewet\"&gt;Gemeentewet&lt;/extref&gt;;&lt;/<span style=\"background-color:red; color:white\">al</span>&gt;\n",
              "    &lt;<span style=\"background-color:red; color:white\">al</span>&gt;<span style=\"background-color:#faa; color:black\">overwegende dat het noodzakelijk is het opleggen van een tegenprestatie bij verordening te regelen;</span>&lt;/<span style=\"background-color:red; color:white\">al</span>&gt;\n",
              "    &lt;<span style=\"background-color:red; color:white\">al</span>&gt;<span style=\"background-color:#faa; color:black\">Besluit</span>&lt;/<span style=\"background-color:red; color:white\">al</span>&gt;\n",
              "    &lt;<span style=\"background-color:red; color:white\">al</span>&gt;<span style=\"background-color:#faa; color:black\">vast te stellen: de “Verordening tegenprestatie Sociale Zekerheid 2015, gemeente Oosterhout”.</span>&lt;/<span style=\"background-color:red; color:white\">al</span>&gt;\n",
              "  &lt;/preambule&gt;\n",
              "&lt;/aanhef&gt;\n",
              "</pre>"
            ],
            "text/plain": [
              "<wetsuite.helpers.notebook.etree_visualize_selection at 0x7f7581928220>"
            ]
          },
          "metadata": {},
          "output_type": "display_data"
        }
      ],
      "source": [
        "# \"mark all <al> tags you can find anywhere\"   (note that it only highlights the direct text content, you can have it mark _everything_ under there with mark_subtree)\n",
        "display( wetsuite.helpers.notebook.etree_visualize_selection(preambule, '//al') )"
      ]
    },
    {
      "cell_type": "code",
      "execution_count": 19,
      "metadata": {},
      "outputs": [
        {
          "data": {
            "text/html": [
              "<pre>&lt;aanhef&gt;\n",
              "  &lt;preambule&gt;\n",
              "    &lt;al&gt;De raad van de gemeente Oosterhout;&lt;/al&gt;\n",
              "    &lt;al&gt;gezien het voorstel van burgemeester en wethouder van 21 november 2014;&lt;/al&gt;\n",
              "    &lt;al&gt;gelet op&lt;<span style=\"background-color:red; color:white\">extref</span> doc=\"http://wetten.overheid.nl/cgi-bin/deeplink/law1/title=Participatiewet/article=8a\"&gt;<span style=\"background-color:#faa; color:black\">artikel 8a, lid 1, aanhef en onderdeel b, van de Participatiewet</span>&lt;/<span style=\"background-color:red; color:white\">extref</span>&gt;, a&lt;<span style=\"background-color:red; color:white\">extref</span> doc=\"http://wetten.overheid.nl/cgi-bin/deeplink/law1/title=IOAW/article=35\"&gt;<span style=\"background-color:#faa; color:black\">rtikel 35, lid 1, aanhef en onderdeel e, van de Wet inkomensvoorziening ouderen en gedeeltelijk arbeidsongeschikte werkloze werknemers</span>&lt;/<span style=\"background-color:red; color:white\">extref</span>&gt;;&lt;<span style=\"background-color:red; color:white\">extref</span> doc=\"http://wetten.overheid.nl/cgi-bin/deeplink/law1/title=IOAZ/article=35\"&gt;<span style=\"background-color:#faa; color:black\">artikel 35, lid 1, aanhef en onderdeel e, van de Wet inkomensvoorziening oudere en gedeeltelijk arbeidsongeschikte gewezen zelfstandigen</span>&lt;/<span style=\"background-color:red; color:white\">extref</span>&gt;, de bepalingen van de&lt;<span style=\"background-color:red; color:white\">extref</span> doc=\"http://wetten.overheid.nl/cgi-bin/deeplink/law1/title=Algemene%20wet%20bestuursrecht\"&gt;<span style=\"background-color:#faa; color:black\">Algemene wet bestuursrecht</span>&lt;/<span style=\"background-color:red; color:white\">extref</span>&gt;en de&lt;<span style=\"background-color:red; color:white\">extref</span> doc=\"http://wetten.overheid.nl/cgi-bin/deeplink/law1/title=Gemeentewet\"&gt;<span style=\"background-color:#faa; color:black\">Gemeentewet</span>&lt;/<span style=\"background-color:red; color:white\">extref</span>&gt;;&lt;/al&gt;\n",
              "    &lt;al&gt;overwegende dat het noodzakelijk is het opleggen van een tegenprestatie bij verordening te regelen;&lt;/al&gt;\n",
              "    &lt;al&gt;Besluit&lt;/al&gt;\n",
              "    &lt;al&gt;vast te stellen: de “Verordening tegenprestatie Sociale Zekerheid 2015, gemeente Oosterhout”.&lt;/al&gt;\n",
              "  &lt;/preambule&gt;\n",
              "&lt;/aanhef&gt;\n",
              "</pre>"
            ],
            "text/plain": [
              "<wetsuite.helpers.notebook.etree_visualize_selection at 0x7f75819282b0>"
            ]
          },
          "metadata": {},
          "output_type": "display_data"
        },
        {
          "data": {
            "text/html": [
              "<pre>&lt;aanhef&gt;\n",
              "  &lt;preambule&gt;\n",
              "    &lt;al&gt;De raad van de gemeente Oosterhout;&lt;/al&gt;\n",
              "    &lt;al&gt;gezien het voorstel van burgemeester en wethouder van 21 november 2014;&lt;/al&gt;\n",
              "    &lt;al&gt;gelet op&lt;<span style=\"background-color:red; color:white\">extref</span> doc=\"http://wetten.overheid.nl/cgi-bin/deeplink/law1/title=Participatiewet/article=8a\"&gt;<span style=\"background-color:#faa; color:black\">artikel 8a, lid 1, aanhef en onderdeel b, van de Participatiewet</span>&lt;/<span style=\"background-color:red; color:white\">extref</span>&gt;, a&lt;<span style=\"background-color:red; color:white\">extref</span> doc=\"http://wetten.overheid.nl/cgi-bin/deeplink/law1/title=IOAW/article=35\"&gt;<span style=\"background-color:#faa; color:black\">rtikel 35, lid 1, aanhef en onderdeel e, van de Wet inkomensvoorziening ouderen en gedeeltelijk arbeidsongeschikte werkloze werknemers</span>&lt;/<span style=\"background-color:red; color:white\">extref</span>&gt;;&lt;<span style=\"background-color:red; color:white\">extref</span> doc=\"http://wetten.overheid.nl/cgi-bin/deeplink/law1/title=IOAZ/article=35\"&gt;<span style=\"background-color:#faa; color:black\">artikel 35, lid 1, aanhef en onderdeel e, van de Wet inkomensvoorziening oudere en gedeeltelijk arbeidsongeschikte gewezen zelfstandigen</span>&lt;/<span style=\"background-color:red; color:white\">extref</span>&gt;, de bepalingen van de&lt;<span style=\"background-color:red; color:white\">extref</span> doc=\"http://wetten.overheid.nl/cgi-bin/deeplink/law1/title=Algemene%20wet%20bestuursrecht\"&gt;<span style=\"background-color:#faa; color:black\">Algemene wet bestuursrecht</span>&lt;/<span style=\"background-color:red; color:white\">extref</span>&gt;en de&lt;<span style=\"background-color:red; color:white\">extref</span> doc=\"http://wetten.overheid.nl/cgi-bin/deeplink/law1/title=Gemeentewet\"&gt;<span style=\"background-color:#faa; color:black\">Gemeentewet</span>&lt;/<span style=\"background-color:red; color:white\">extref</span>&gt;;&lt;/al&gt;\n",
              "    &lt;al&gt;overwegende dat het noodzakelijk is het opleggen van een tegenprestatie bij verordening te regelen;&lt;/al&gt;\n",
              "    &lt;al&gt;Besluit&lt;/al&gt;\n",
              "    &lt;al&gt;vast te stellen: de “Verordening tegenprestatie Sociale Zekerheid 2015, gemeente Oosterhout”.&lt;/al&gt;\n",
              "  &lt;/preambule&gt;\n",
              "&lt;/aanhef&gt;\n",
              "</pre>"
            ],
            "text/plain": [
              "<wetsuite.helpers.notebook.etree_visualize_selection at 0x7f75819607f0>"
            ]
          },
          "metadata": {},
          "output_type": "display_data"
        }
      ],
      "source": [
        "# \"all <extrefs> nodes, that are direct children of <al> nodes placed anywhere\"\n",
        "display( wetsuite.helpers.notebook.etree_visualize_selection(preambule, '//al/extref') )\n",
        "# ...notice the subtle difference to:\n",
        "\n",
        "# \"all <extrefs> nodes, anywhere under <al> nodes placed anywhere\"\n",
        "display( wetsuite.helpers.notebook.etree_visualize_selection(preambule, '//al//extref') )\n",
        "# which in this case is exactly the same selection, but doesn't need to be"
      ]
    },
    {
      "cell_type": "code",
      "execution_count": 20,
      "metadata": {},
      "outputs": [
        {
          "data": {
            "text/html": [
              "<pre>&lt;aanhef&gt;\n",
              "  &lt;preambule&gt;\n",
              "    &lt;<span style=\"background-color:red; color:white\">al</span>&gt;<span style=\"background-color:#faa; color:black\">De raad van de gemeente Oosterhout;</span>&lt;/<span style=\"background-color:red; color:white\">al</span>&gt;\n",
              "    &lt;al&gt;gezien het voorstel van burgemeester en wethouder van 21 november 2014;&lt;/al&gt;\n",
              "    &lt;al&gt;gelet op&lt;extref doc=\"http://wetten.overheid.nl/cgi-bin/deeplink/law1/title=Participatiewet/article=8a\"&gt;artikel 8a, lid 1, aanhef en onderdeel b, van de Participatiewet&lt;/extref&gt;, a&lt;extref doc=\"http://wetten.overheid.nl/cgi-bin/deeplink/law1/title=IOAW/article=35\"&gt;rtikel 35, lid 1, aanhef en onderdeel e, van de Wet inkomensvoorziening ouderen en gedeeltelijk arbeidsongeschikte werkloze werknemers&lt;/extref&gt;;&lt;extref doc=\"http://wetten.overheid.nl/cgi-bin/deeplink/law1/title=IOAZ/article=35\"&gt;artikel 35, lid 1, aanhef en onderdeel e, van de Wet inkomensvoorziening oudere en gedeeltelijk arbeidsongeschikte gewezen zelfstandigen&lt;/extref&gt;, de bepalingen van de&lt;extref doc=\"http://wetten.overheid.nl/cgi-bin/deeplink/law1/title=Algemene%20wet%20bestuursrecht\"&gt;Algemene wet bestuursrecht&lt;/extref&gt;en de&lt;extref doc=\"http://wetten.overheid.nl/cgi-bin/deeplink/law1/title=Gemeentewet\"&gt;Gemeentewet&lt;/extref&gt;;&lt;/al&gt;\n",
              "    &lt;al&gt;overwegende dat het noodzakelijk is het opleggen van een tegenprestatie bij verordening te regelen;&lt;/al&gt;\n",
              "    &lt;al&gt;Besluit&lt;/al&gt;\n",
              "    &lt;al&gt;vast te stellen: de “Verordening tegenprestatie Sociale Zekerheid 2015, gemeente Oosterhout”.&lt;/al&gt;\n",
              "  &lt;/preambule&gt;\n",
              "&lt;/aanhef&gt;\n",
              "</pre>"
            ],
            "text/plain": [
              "<wetsuite.helpers.notebook.etree_visualize_selection at 0x7f75819281c0>"
            ]
          },
          "metadata": {},
          "output_type": "display_data"
        }
      ],
      "source": [
        "# \"the first <al> tag in a preambule\"\n",
        "display( wetsuite.helpers.notebook.etree_visualize_selection(preambule, '//preambule/al[1]')  )"
      ]
    }
  ],
  "metadata": {
    "colab": {
      "include_colab_link": true,
      "provenance": []
    },
    "kernelspec": {
      "display_name": "Python 3",
      "name": "python3"
    },
    "language_info": {
      "codemirror_mode": {
        "name": "ipython",
        "version": 3
      },
      "file_extension": ".py",
      "mimetype": "text/x-python",
      "name": "python",
      "nbconvert_exporter": "python",
      "pygments_lexer": "ipython3",
      "version": "3.8.10"
    }
  },
  "nbformat": 4,
  "nbformat_minor": 0
}
