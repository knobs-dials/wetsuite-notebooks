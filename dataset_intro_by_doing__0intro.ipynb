{
  "cells": [
    {
      "cell_type": "markdown",
      "metadata": {
        "id": "WA3ztv-SU0uO"
      },
      "source": [
        "<a href=\"https://colab.research.google.com/github/knobs-dials/wetsuite-dev/blob/main/notebooks/intro/wetsuite_datasets.ipynb\" target=\"_parent\"><img src=\"https://colab.research.google.com/assets/colab-badge.svg\" alt=\"Open In Colab\"/></a>"
      ]
    },
    {
      "cell_type": "markdown",
      "metadata": {
        "id": "VDSic6hRU0uP"
      },
      "source": [
        "# Purpose of this notebook\n",
        "\n",
        "Explain why wetsuite provides datasets, and give a basic introduction-by-example of which there are, and how to start using them.\n",
        "\n",
        "Considered advanced intro not because it's overly complex, but because with a little luck you don't have to dive into these lower levels of detail.\n"
      ]
    },
    {
      "cell_type": "markdown",
      "metadata": {
        "id": "a32h7oxIU0uR"
      },
      "source": [
        "## Why readymade datasets at all?\n",
        "\n",
        "The most up to date information may be to fetch data directly from the source,\n",
        "but this is also often more clunkier to get a larger and/or more precise set of documents.\n",
        "\n",
        "- fetching data via a website may be too clunky, particularly if it is not made for it (and most aren't)\n",
        "\n",
        "- fetching data via code may present too large of a technical learning curve\n",
        "  - even if we ease that, sites may not allow the type of browsing/searching you may need for your purposes\n",
        "    - e.g. any metadata field that isn't made searchable\n",
        "    - or maybe a workaround exists, but is awkward and/or technically complex again (see e.g. the convoluted damocles search)\n",
        "\n",
        "- not all sources make it easy to fetch the result in the\n",
        "\n",
        "- not all sources make it easy to collect\n",
        "\n",
        "- sometimes collecting is very slow\n",
        "\n",
        "\n",
        "Also,\n",
        "- it might be valuable to share sub-datasets you've collected -- or at the very least share the way you've collected"
      ]
    },
    {
      "cell_type": "code",
      "source": [
        "## What readymade datasets currently exist"
      ],
      "metadata": {
        "id": "KZAIV2xoV5bx"
      },
      "execution_count": null,
      "outputs": []
    },
    {
      "cell_type": "code",
      "execution_count": 1,
      "metadata": {
        "id": "zda46Be8U0uS",
        "outputId": "6782c67d-85c4-4202-895f-cbcfdfe4275a",
        "colab": {
          "base_uri": "https://localhost:8080/"
        }
      },
      "outputs": [
        {
          "output_type": "stream",
          "name": "stdout",
          "text": [
            "\u001b[2K     \u001b[32m\\\u001b[0m \u001b[32m7.4 MB\u001b[0m \u001b[31m8.7 MB/s\u001b[0m \u001b[33m0:00:00\u001b[0m\n",
            "\u001b[?25h  Preparing metadata (setup.py) ... \u001b[?25l\u001b[?25hdone\n",
            "\u001b[2K     \u001b[90m━━━━━━━━━━━━━━━━━━━━━━━━━━━━━━━━━━━━━━━━\u001b[0m \u001b[32m197.9/197.9 kB\u001b[0m \u001b[31m2.6 MB/s\u001b[0m eta \u001b[36m0:00:00\u001b[0m\n",
            "\u001b[2K     \u001b[90m━━━━━━━━━━━━━━━━━━━━━━━━━━━━━━━━━━━━━━━━\u001b[0m \u001b[32m8.2/8.2 MB\u001b[0m \u001b[31m30.0 MB/s\u001b[0m eta \u001b[36m0:00:00\u001b[0m\n",
            "\u001b[2K     \u001b[90m━━━━━━━━━━━━━━━━━━━━━━━━━━━━━━━━━━━━━━━━\u001b[0m \u001b[32m314.0/314.0 kB\u001b[0m \u001b[31m162.8 MB/s\u001b[0m eta \u001b[36m0:00:00\u001b[0m\n",
            "\u001b[2K     \u001b[90m━━━━━━━━━━━━━━━━━━━━━━━━━━━━━━━━━━━━━━━━\u001b[0m \u001b[32m23.7/23.7 MB\u001b[0m \u001b[31m145.5 MB/s\u001b[0m eta \u001b[36m0:00:00\u001b[0m\n",
            "\u001b[2K     \u001b[90m━━━━━━━━━━━━━━━━━━━━━━━━━━━━━━━━━━━━━━━━\u001b[0m \u001b[32m823.6/823.6 kB\u001b[0m \u001b[31m190.3 MB/s\u001b[0m eta \u001b[36m0:00:00\u001b[0m\n",
            "\u001b[2K     \u001b[90m━━━━━━━━━━━━━━━━━━━━━━━━━━━━━━━━━━━━━━━━\u001b[0m \u001b[32m14.1/14.1 MB\u001b[0m \u001b[31m166.1 MB/s\u001b[0m eta \u001b[36m0:00:00\u001b[0m\n",
            "\u001b[2K     \u001b[90m━━━━━━━━━━━━━━━━━━━━━━━━━━━━━━━━━━━━━━━━\u001b[0m \u001b[32m731.7/731.7 MB\u001b[0m \u001b[31m88.8 MB/s\u001b[0m eta \u001b[36m0:00:00\u001b[0m\n",
            "\u001b[2K     \u001b[90m━━━━━━━━━━━━━━━━━━━━━━━━━━━━━━━━━━━━━━━━\u001b[0m \u001b[32m410.6/410.6 MB\u001b[0m \u001b[31m109.2 MB/s\u001b[0m eta \u001b[36m0:00:00\u001b[0m\n",
            "\u001b[2K     \u001b[90m━━━━━━━━━━━━━━━━━━━━━━━━━━━━━━━━━━━━━━━━\u001b[0m \u001b[32m121.6/121.6 MB\u001b[0m \u001b[31m78.6 MB/s\u001b[0m eta \u001b[36m0:00:00\u001b[0m\n",
            "\u001b[2K     \u001b[90m━━━━━━━━━━━━━━━━━━━━━━━━━━━━━━━━━━━━━━━━\u001b[0m \u001b[32m56.5/56.5 MB\u001b[0m \u001b[31m120.3 MB/s\u001b[0m eta \u001b[36m0:00:00\u001b[0m\n",
            "\u001b[2K     \u001b[90m━━━━━━━━━━━━━━━━━━━━━━━━━━━━━━━━━━━━━━━━\u001b[0m \u001b[32m124.2/124.2 MB\u001b[0m \u001b[31m183.4 MB/s\u001b[0m eta \u001b[36m0:00:00\u001b[0m\n",
            "\u001b[2K     \u001b[90m━━━━━━━━━━━━━━━━━━━━━━━━━━━━━━━━━━━━━━━━\u001b[0m \u001b[32m196.0/196.0 MB\u001b[0m \u001b[31m139.6 MB/s\u001b[0m eta \u001b[36m0:00:00\u001b[0m\n",
            "\u001b[2K     \u001b[90m━━━━━━━━━━━━━━━━━━━━━━━━━━━━━━━━━━━━━━━━\u001b[0m \u001b[32m166.0/166.0 MB\u001b[0m \u001b[31m215.8 MB/s\u001b[0m eta \u001b[36m0:00:00\u001b[0m\n",
            "\u001b[2K     \u001b[90m━━━━━━━━━━━━━━━━━━━━━━━━━━━━━━━━━━━━━━━━\u001b[0m \u001b[32m99.1/99.1 kB\u001b[0m \u001b[31m260.0 MB/s\u001b[0m eta \u001b[36m0:00:00\u001b[0m\n",
            "\u001b[2K     \u001b[90m━━━━━━━━━━━━━━━━━━━━━━━━━━━━━━━━━━━━━━━━\u001b[0m \u001b[32m21.1/21.1 MB\u001b[0m \u001b[31m153.4 MB/s\u001b[0m eta \u001b[36m0:00:00\u001b[0m\n",
            "\u001b[?25h  Building wheel for wetsuite (setup.py) ... \u001b[?25l\u001b[?25hdone\n"
          ]
        }
      ],
      "source": [
        "# (only) in colab, run this first to install wetsuite from (the most recent) source.   For your own setup, see wetsuite's install guidelines.\n",
        "!pip3 install -U --no-cache-dir --quiet https://github.com/scarfboy/wetsuite-dev/archive/refs/heads/main.zip"
      ]
    },
    {
      "cell_type": "code",
      "execution_count": 2,
      "metadata": {
        "id": "f1h4H0pVU0uT",
        "outputId": "2c0790c5-6558-4a27-ead8-7bd16da2ebf1",
        "colab": {
          "base_uri": "https://localhost:8080/"
        }
      },
      "outputs": [
        {
          "output_type": "execute_result",
          "data": {
            "text/plain": [
              "['bwb-mostrecent-meta-struc',\n",
              " 'bwb-mostrecent-text',\n",
              " 'bwb-mostrecent-xml',\n",
              " 'cvdr-mostrecent-html',\n",
              " 'cvdr-mostrecent-meta-struc',\n",
              " 'cvdr-mostrecent-text',\n",
              " 'cvdr-mostrecent-xml',\n",
              " 'gemeentes-struc',\n",
              " 'raadvanstate-adviezen-struc',\n",
              " 'rechtspraaknl-struc',\n",
              " 'tweedekamer-fractie-membership-struc',\n",
              " 'tweedekamer-fracties-struc',\n",
              " 'tweedekamer-kamervragen-struc',\n",
              " 'wetnamen',\n",
              " 'woo_besluiten_docs_text',\n",
              " 'woo_besluiten_meta']"
            ]
          },
          "metadata": {},
          "execution_count": 2
        }
      ],
      "source": [
        "import wetsuite.datasets\n",
        "\n",
        "# what do we currently have?\n",
        "wetsuite.datasets.list_datasets()"
      ]
    },
    {
      "cell_type": "code",
      "execution_count": 4,
      "metadata": {
        "id": "KNy-7ETmU0uU",
        "outputId": "3d495deb-04c0-4a66-89b2-20ebd826e18f",
        "colab": {
          "base_uri": "https://localhost:8080/"
        }
      },
      "outputs": [
        {
          "output_type": "stream",
          "name": "stdout",
          "text": [
            "bwb-mostrecent-meta-struc                (TODO: short description)\n",
            "bwb-mostrecent-text                      (TODO: short description)\n",
            "bwb-mostrecent-xml                       (TODO: short description)\n",
            "cvdr-mostrecent-html                     (TODO: short description)\n",
            "cvdr-mostrecent-meta-struc               (TODO: short description)\n",
            "cvdr-mostrecent-text                     (TODO: short description)\n",
            "cvdr-mostrecent-xml                      (TODO: short description)\n",
            "gemeentes-struc                          (TODO: short description)\n",
            "raadvanstate-adviezen-struc              (TODO: short description)\n",
            "rechtspraaknl-struc                      (TODO: short description)\n",
            "tweedekamer-fractie-membership-struc     (TODO: short description)\n",
            "tweedekamer-fracties-struc               (TODO: short description)\n",
            "tweedekamer-kamervragen-struc            (TODO: short description)\n",
            "wetnamen                                 (TODO: short description)\n",
            "woo_besluiten_docs_text                  (TODO: short description)\n",
            "woo_besluiten_meta                       (TODO: short description)\n"
          ]
        }
      ],
      "source": [
        "# ...with a little more description?\n",
        "for name, details in wetsuite.datasets.fetch_index().items():\n",
        "    #print(details)\n",
        "    print( f'{name:<40} {details.get(\"description_short\") or \"(TODO: short description)\"}' )\n",
        "\n",
        "    # (you probably do not want to) uncomment the next line to download and load all  (also a test whether their download is not broken)\n",
        "    #print( '                                          ',wetsuite.datasets.load(name) )"
      ]
    },
    {
      "cell_type": "code",
      "execution_count": 6,
      "metadata": {
        "id": "PzNPJd9PU0uV",
        "outputId": "a32b58c6-9264-4e72-f9d7-8090a3484098",
        "colab": {
          "base_uri": "https://localhost:8080/"
        }
      },
      "outputs": [
        {
          "output_type": "stream",
          "name": "stderr",
          "text": [
            "Downloading 'https://wetsuite.knobs-dials.com/datasets/cvdr-mostrecent-meta-struc.db.xz' to '/root/.wetsuite/datasets/520e84b21fbddf048227c1c4c3576108039311f4'\n",
            "Downloaded     18MiB  [==================================================]\n",
            "Decompressing... 259MiB    \n",
            "Downloading 'https://wetsuite.knobs-dials.com/datasets/cvdr-mostrecent-text.db.xz' to '/root/.wetsuite/datasets/a9a59ccff8644749d378e6ef4094c66d75ff5b1c'\n",
            "Downloaded    470MiB  [==================================================]\n",
            "Decompressing... 3.8GiB    \n"
          ]
        }
      ],
      "source": [
        "xml  = wetsuite.datasets.load('cvdr-mostrecent-xml')\n",
        "meta = wetsuite.datasets.load('cvdr-mostrecent-meta-struc')\n",
        "text = wetsuite.datasets.load('cvdr-mostrecent-text')"
      ]
    },
    {
      "cell_type": "code",
      "execution_count": null,
      "metadata": {
        "id": "2j1q_S2CU0uW"
      },
      "outputs": [],
      "source": []
    },
    {
      "cell_type": "markdown",
      "metadata": {
        "id": "cAhRy6XiU0uX"
      },
      "source": []
    },
    {
      "cell_type": "markdown",
      "metadata": {
        "id": "bIW2TcLQU0uZ"
      },
      "source": [
        "## Example datasets\n",
        "\n",
        "There are some more targeted examples, including\n",
        "\n",
        "* `cvdr-`\n",
        "\n",
        "* `bwb-`\n",
        "\n",
        "* `kansspelautoriteit-sancties-txt` and ``: [using_dataset_kansspelautoriteit notebook](using_dataset_kansspelautoriteit.ipynb)\n",
        "\n",
        "* `tweedekamer-fracties-struc` and `tweedekamer-fracties-membership-struc`: [using_dataset_tweedekamer notebook](using_dataset_tweedekamer.ipynb)\n",
        "\n",
        "* `woobesluit`: [using_dataset_woobesluit notebook](using_dataset_woobesluit.ipynb)\n",
        "\n",
        "\n",
        "And some things that are little more than lists, including\n",
        "* `gemeentes`: [using_dataset_gemeentes notebook](using_dataset_gemeentes.ipynb)\n",
        "\n",
        "* `wetnamen`: [using_dataset_wetnamen notebook](using_dataset_wetnamen.ipynb)\n",
        "\n"
      ]
    },
    {
      "cell_type": "markdown",
      "metadata": {
        "id": "ciRDOS6RU0ua"
      },
      "source": [
        "Aside: We have an ongoing discussion of how to provide more varied data without making life harder for you.\n",
        "\n",
        "For example, in theory the -xml would be enough, in that -meta and -text are only a handful of extra function calls away,\n",
        "but making you do that is an unnecessary hurdle.\n",
        "\n",
        "Providing these in a merged, composite way, e.g. with dataset items providing attributes like\n",
        "item.xml/item.raw, item.metadata, item.text would be -  confusing that they differ per dataset,\n",
        "and but might be inflexible and confusing in the long run in that datasets _or_ code changing is likely to breaks all previous uses.\n",
        "\n",
        "So for now, we provide distinct datasets for different views on the same data,\n",
        "which also means you have at least some chance of loding this data in non-python other contexts."
      ]
    },
    {
      "cell_type": "markdown",
      "source": [
        "## \"What if I want to feed files into something else?\"\n",
        "\n",
        "The databsets as downloaded are indeed in our own format."
      ],
      "metadata": {
        "id": "8W-rviycYRlU"
      }
    },
    {
      "cell_type": "code",
      "source": [
        "meta = wetsuite.datasets.load('cvdr-mostrecent-meta-struc')\n",
        "meta.save(in_dir='/tmp/t')\n",
        "\n",
        "glob.glob('/tmp/t')\n",
        "\n",
        "#xml  = wetsuite.datasets.load('cvdr-mostrecent-xml')\n",
        "#xml.save(in_dir='/tmp/t')\n",
        "\n",
        "#merged = wetsuite.datasets.load('cvdr-mostrecent-*')\n",
        "#help(merged)"
      ],
      "metadata": {
        "id": "RNSnhJgfYRuK"
      },
      "execution_count": null,
      "outputs": []
    }
  ],
  "metadata": {
    "kernelspec": {
      "display_name": "Python 3",
      "language": "python",
      "name": "python3"
    },
    "language_info": {
      "codemirror_mode": {
        "name": "ipython",
        "version": 3
      },
      "file_extension": ".py",
      "mimetype": "text/x-python",
      "name": "python",
      "nbconvert_exporter": "python",
      "pygments_lexer": "ipython3",
      "version": "3.8.10"
    },
    "vscode": {
      "interpreter": {
        "hash": "31f2aee4e71d21fbe5cf8b01ff0e069b9275f58929596ceb00d14d90e3e16cd6"
      }
    },
    "colab": {
      "provenance": []
    }
  },
  "nbformat": 4,
  "nbformat_minor": 0
}