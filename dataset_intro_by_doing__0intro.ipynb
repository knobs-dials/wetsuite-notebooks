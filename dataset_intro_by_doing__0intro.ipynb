{
  "cells": [
    {
      "cell_type": "markdown",
      "metadata": {
        "id": "WA3ztv-SU0uO"
      },
      "source": [
        "If you want to start playing with this without installation, try:\n",
        "<a href=\"https://colab.research.google.com/github/knobs-dials/wetsuite-dev/blob/main/notebooks/intro/wetsuite_datasets.ipynb\" target=\"_parent\"><img src=\"https://colab.research.google.com/assets/colab-badge.svg\" alt=\"Open In Colab\"/></a>"
      ]
    },
    {
      "cell_type": "markdown",
      "metadata": {
        "id": "VDSic6hRU0uP"
      },
      "source": [
        "# Purpose of this notebook\n",
        "\n",
        "Explain what datasets we provide - and why we provide them in the first place.\n",
        "\n",
        "Considered advanced intro not because it's overly complex, but because with a little luck you don't have to dive into these lower levels of detail.\n"
      ]
    },
    {
      "cell_type": "markdown",
      "metadata": {
        "id": "s2d35L3bcqhw"
      },
      "source": [
        "## What readymade datasets currently exist?"
      ]
    },
    {
      "cell_type": "code",
      "execution_count": null,
      "metadata": {
        "id": "zda46Be8U0uS"
      },
      "outputs": [],
      "source": [
        "# (only) in colab, run this first to install wetsuite from (the most recent) source.   For your own setup, see wetsuite's install guidelines.\n",
        "!pip3 install -U --no-cache-dir --quiet https://github.com/scarfboy/wetsuite-dev/archive/refs/heads/main.zip"
      ]
    },
    {
      "cell_type": "code",
      "execution_count": 6,
      "metadata": {
        "colab": {
          "base_uri": "https://localhost:8080/"
        },
        "id": "f1h4H0pVU0uT",
        "outputId": "2c0790c5-6558-4a27-ead8-7bd16da2ebf1"
      },
      "outputs": [],
      "source": [
        "import glob\n",
        "import wetsuite.datasets\n",
        "import wetsuite.helpers.format"
      ]
    },
    {
      "cell_type": "code",
      "execution_count": 7,
      "metadata": {},
      "outputs": [
        {
          "data": {
            "text/plain": [
              "['bwb-mostrecent-meta-struc',\n",
              " 'bwb-mostrecent-text',\n",
              " 'bwb-mostrecent-xml',\n",
              " 'cvdr-mostrecent-html',\n",
              " 'cvdr-mostrecent-meta-struc',\n",
              " 'cvdr-mostrecent-text',\n",
              " 'cvdr-mostrecent-xml',\n",
              " 'gemeentes-struc',\n",
              " 'kansspelautoriteit-sancties-struc',\n",
              " 'raadvanstate-adviezen-struc',\n",
              " 'rechtspraaknl-struc',\n",
              " 'tweedekamer-fractie-membership-struc',\n",
              " 'tweedekamer-fracties-struc',\n",
              " 'tweedekamer-kamervragen-struc',\n",
              " 'wetnamen',\n",
              " 'woo_besluiten_docs_text',\n",
              " 'woo_besluiten_meta']"
            ]
          },
          "execution_count": 7,
          "metadata": {},
          "output_type": "execute_result"
        }
      ],
      "source": [
        "# what sort of prepared dataset are currently offered for download?\n",
        "wetsuite.datasets.list_datasets()"
      ]
    },
    {
      "cell_type": "code",
      "execution_count": 31,
      "metadata": {
        "colab": {
          "base_uri": "https://localhost:8080/"
        },
        "id": "KNy-7ETmU0uU",
        "outputId": "c0b7a475-5a7c-4b70-b66e-87f56b1bc318"
      },
      "outputs": [
        {
          "name": "stdout",
          "output_type": "stream",
          "text": [
            "bwb-mostrecent-meta-struc                      195M    Metadata structure text for the latest revision from each BWB-id\n",
            "bwb-mostrecent-text                            412M    Plain text for the latest revision from each BWB-id\n",
            "bwb-mostrecent-xml                             3.1G    Raw XML for the latest revision from each BWB-id\n",
            "cvdr-mostrecent-html                            15G    Raw HTML for the latest expression within each CVDR work set\n",
            "cvdr-mostrecent-meta-struc                     272M    Metadata for the latest expression within each CVDR work set\n",
            "cvdr-mostrecent-text                           4.1G    Flattened plain text for the latest expression within each CVDR work set\n",
            "cvdr-mostrecent-xml                            9.3G    Raw XML for the latest expression within each CVDR work set\n",
            "gemeentes-struc                                434K    \n",
            "kansspelautoriteit-sancties-struc              9.2M    Metadata and plain text form of the set of PDFs you can find under https://kansspelautoriteit.nl/aanpak-misstanden/sanctiebesluiten/ \n",
            "raadvanstate-adviezen-struc                    144M    None\n",
            "rechtspraaknl-struc                           13.2G    None\n",
            "tweedekamer-fractie-membership-struc           606K    \n",
            "tweedekamer-fracties-struc                      23K    \n",
            "tweedekamer-kamervragen-struc                  636M     Questions from members of the parliament (tweede kamer) to the government. \n",
            "wetnamen                                       6.3M    None\n",
            "woo_besluiten_docs_text                        129M    None\n",
            "woo_besluiten_meta                             3.2M    None\n"
          ]
        }
      ],
      "source": [
        "# ...with a little more description?\n",
        "for name, details in wetsuite.datasets.fetch_index().items():\n",
        "    real_size_human     = wetsuite.helpers.format.kmgtp( details.get(\"real_size\") )\n",
        "    print( f'{name:<40}   {real_size_human:>8s}    {details.get(\"description_short\")+'B'}' )  # {details.get(\"version\"):10s} \n",
        "    \n",
        "    # (you probably do not want to) uncomment the next line to download and load all  (also a test whether their download is not broken)\n",
        "    #print( '                                          ',wetsuite.datasets.load(name) )"
      ]
    },
    {
      "cell_type": "code",
      "execution_count": null,
      "metadata": {
        "colab": {
          "base_uri": "https://localhost:8080/"
        },
        "id": "PzNPJd9PU0uV",
        "outputId": "a32b58c6-9264-4e72-f9d7-8090a3484098"
      },
      "outputs": [],
      "source": [
        "#cvdr_xml  = wetsuite.datasets.load('cvdr-mostrecent-xml')\n",
        "#cvdr_meta = wetsuite.datasets.load('cvdr-mostrecent-meta-struc')\n",
        "cvdr_text = wetsuite.datasets.load('cvdr-mostrecent-text')\n",
        "\n",
        "#ref, text = cvdr_text.data.random_choice()\n",
        "#print(ref)\n",
        "#print(text)"
      ]
    },
    {
      "cell_type": "markdown",
      "metadata": {
        "id": "bIW2TcLQU0uZ"
      },
      "source": [
        "## Example datasets\n",
        "\n",
        "There are some fairly targeted examples, including\n",
        "\n",
        "* `cvdr-mostrecent-*`\n",
        "\n",
        "* `bwb-mostrecent-*`\n",
        "\n",
        "* `kansspelautoriteit-sancties-struc` - for example use, see [using_dataset_kansspelautoriteit notebook](dataset_intro_by_doing__kansspelautoriteit__(OCR_example).ipynb)\n",
        "\n",
        "* `tweedekamer-fracties-struc` and `tweedekamer-fracties-membership-struc` - for example use, see [using_dataset_tweedekamer notebook](dataset_intro_by_doing__tweedekamer.ipynb)\n",
        "\n",
        "* `woobesluit` - for example use, see [using_dataset_woobesluit notebook](dataset_intro_by_doing__woobesluit.ipynb)\n",
        "\n",
        "\n",
        "And some things that are little more than lists, including\n",
        "* `gemeentes`: [using_dataset_gemeentes notebook](dataset_intro_by_doing__gemeentes.ipynb)\n",
        "\n",
        "* `wetnamen`: [using_dataset_wetnamen notebook](dataset_intro_by_doing__woobesluit.ipynb)\n",
        "\n"
      ]
    },
    {
      "cell_type": "markdown",
      "metadata": {
        "id": "ciRDOS6RU0ua"
      },
      "source": [
        "Aside: We have an ongoing discussion of how to provide more varied data without making life harder for you.\n",
        "\n",
        "For example, in theory the -xml would be enough, in that -meta and -text are only a handful of extra function calls away,\n",
        "but making you do that is an unnecessary hurdle.\n",
        "\n",
        "Providing these in a merged, composite way, e.g. with dataset items providing attributes like\n",
        "item.xml/item.raw, item.metadata, item.text would be -  confusing that they differ per dataset,\n",
        "and but might be inflexible and confusing in the long run in that datasets _or_ code changing is likely to breaks all previous uses.\n",
        "\n",
        "So for now, we provide distinct datasets for different views on the same data,\n",
        "which also means you have at least some chance of loding this data in non-python other contexts."
      ]
    },
    {
      "cell_type": "markdown",
      "metadata": {
        "id": "8W-rviycYRlU"
      },
      "source": [
        "## \"What if I want to feed files into something else?\"\n",
        "\n",
        "The databsets as downloaded are indeed in our own format,\n",
        "only directly readable by our own code.\n",
        "\n",
        "While _some_ sort of database tends to scale better than files,\n",
        "there are plenty of existing things that just happen to take files.\n",
        "\n",
        "So we give you some code export to files (or to a single ZIP file, which is a little more transportable),\n",
        "We will estimate what to name those files, though this is not always very helpful."
      ]
    },
    {
      "cell_type": "code",
      "execution_count": 83,
      "metadata": {},
      "outputs": [
        {
          "name": "stdout",
          "output_type": "stream",
          "text": [
            "['/tmp/bwb-text/00024509_9ee2c2e59f2b__BWBR0029072.txt', '/tmp/bwb-text/00026236_87db94f5205e__BWBR0031528.txt', '/tmp/bwb-text/00034117_fef555be71f4__BWBR0044577.txt', '/tmp/bwb-text/00034057_2943242719a1__BWBR0044501.txt', '/tmp/bwb-text/00013569_b608ef4fdde5__BWBR0016215.txt', '/tmp/bwb-text/00020000_7d820ea66d40__BWBR0023323.txt', '/tmp/bwb-text/00021973_7ad613a074ca__BWBR0025837.txt', '/tmp/bwb-text/00001899_2d68a710ddf9__BWBR0003901.txt', '/tmp/bwb-text/00014738_af41db757449__BWBR0017428.txt', '/tmp/bwb-text/00003111_2ca988e91ce6__BWBR0005258.txt']\n"
          ]
        }
      ],
      "source": [
        "kans_meta = wetsuite.datasets.load('kansspelautoriteit-sancties-struc')\n",
        "kans_meta.export_files(to_zipfile_path='/tmp/kans.zip')\n",
        "\n",
        "bwb_text  = wetsuite.datasets.load('bwb-mostrecent-text')\n",
        "bwb_text.export_files(in_dir_path='/tmp/bwb-text' )\n",
        "print( glob.glob('/tmp/bwb-text/*')[:10] )\n"
      ]
    },
    {
      "cell_type": "markdown",
      "metadata": {},
      "source": [
        "## Why readymade datasets at all?\n",
        "\n",
        "A few different reasons. Some of our considerations follow:\n",
        "\n",
        "The most up to date information is often to fetch data directly from the source. We have notebooks elsewhere details how that may be done (TODO: link)\n",
        "\n",
        "If you can express what you want, then such direct fetching is also the most elegant way to get exactly what you want.\n",
        "\n",
        "\n",
        "Such 'if's matter. When you have a research question, and have gone to a system that probably has the data you are looking for, ask yourself:\n",
        "\n",
        "\n",
        "**Does it let you _express_ what you want?**\n",
        "\n",
        "Questions like \"give me all pariamentary reports related to animal management\" may be very reasonable, but for various data sources, you will not find it easy to be sure the search results are complete.\n",
        "\n",
        "\n",
        "**Does it let you _fetch_ what you want?**\n",
        "\n",
        "Even if a site lets you search for what you need, if there is no \"download however many matching documents that is\", you can't _do_ anythign with it (beyond spending the week pressing Save as)\n",
        "\n",
        "Put another way: is there an interface to fetch data?\n",
        "\n",
        "Also, is that interface at least as expressive as the site? For example\n",
        "- the damocles example (TODO: link) may be an example of \"hey, we managed to refine our search to download a fairly precise set of documents\", but don't count on that always working.\n",
        "- whereas the KOOP BWB interface doesn't let you search in the document body, as the website will.\n",
        "\n",
        "\n",
        "**Maybe you just wanted a lot of data**\n",
        "\n",
        "If you want to test a text processing method,\n",
        "maybe you just wanted a lot of text of some different types,\n",
        "no matter yet what it is exactly. Both site and API will would be slow.\n",
        "\n",
        "\n",
        "Even if we provide code to make finding-and-fetchin easier,\n",
        "_to end users_ that may only really move around the problem.\n",
        "\n",
        "When you just wanted to focus on the _documents_, chances are you now need to stare at our code for an afternoon before you get it to work -- or discover that it would never have done what you expecting.\n",
        "\n",
        "Or maybe you now have PDF of XML, and now have a different question before you can start working on _text_.\n",
        "\n",
        "\n",
        "**tl;dr: these datasets represent certain amounts of prep work.**"
      ]
    }
  ],
  "metadata": {
    "colab": {
      "provenance": [],
      "toc_visible": true
    },
    "kernelspec": {
      "display_name": "Python 3",
      "language": "python",
      "name": "python3"
    },
    "language_info": {
      "codemirror_mode": {
        "name": "ipython",
        "version": 3
      },
      "file_extension": ".py",
      "mimetype": "text/x-python",
      "name": "python",
      "nbconvert_exporter": "python",
      "pygments_lexer": "ipython3",
      "version": "3.8.10"
    },
    "vscode": {
      "interpreter": {
        "hash": "31f2aee4e71d21fbe5cf8b01ff0e069b9275f58929596ceb00d14d90e3e16cd6"
      }
    }
  },
  "nbformat": 4,
  "nbformat_minor": 0
}
