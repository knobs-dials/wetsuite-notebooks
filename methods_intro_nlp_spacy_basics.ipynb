{
  "cells": [
    {
      "attachments": {},
      "cell_type": "markdown",
      "metadata": {
        "colab_type": "text",
        "id": "view-in-github"
      },
      "source": [
        "<a href=\"https://colab.research.google.com/github/knobs-dials/wetsuite-dev/blob/main/notebooks/intro/methods_intro_nlp_spacy_basics.ipynb\" target=\"_parent\"><img src=\"https://colab.research.google.com/assets/colab-badge.svg\" alt=\"Open In Colab\"/></a>"
      ]
    },
    {
      "attachments": {},
      "cell_type": "markdown",
      "metadata": {
        "id": "3NCj8rkQMsdx"
      },
      "source": [
        "# Purpose of this notebook\n",
        "\n",
        "To be a crash-course introduction to the NLP functionality using the [spacy](https://spacy.io/) package.\n",
        "\n",
        "It is aimed at people who might want to understand, use, and change spacy code used in this project,\n",
        "or use spacy as the main plaform for their own analysis.\n",
        "\n",
        "The below focuses largely on understanding the lowish-level mechanics well enough to be precise in your own research.\n",
        "\n",
        "If you wish to explore other, comparable libraries that sometimes do specific jobs better, take a look at things like [nltk](https://www.nltk.org/), [pattern](https://github.com/clips/pattern), [CoreNLP](https://stanfordnlp.github.io/CoreNLP/).\n",
        "\n",
        "If you want more automatism, you might care for one of many (paid-for) online tools, such as https://studio.oneai.com"
      ]
    },
    {
      "attachments": {},
      "cell_type": "markdown",
      "metadata": {
        "id": "qKsX4tkxMsd0"
      },
      "source": [
        "## Installing, Importing, loading\n",
        "\n",
        "Loading spacy can take a minute. This is one reason notebooks (and colab) are useful for exploration, as it will stay loaded in the background for the whole session."
      ]
    },
    {
      "cell_type": "code",
      "execution_count": null,
      "metadata": {
        "id": "KnJ0ICGoMsd1"
      },
      "outputs": [],
      "source": [
        "## install spacy, and wetsuite\n",
        "\n",
        "# note that you can can run most of the below with a standard spacy install (pip3 install -U spacy) and do not need wetsuite install yet\n",
        "\n",
        "# (only) in colab, run this first to install wetsuite from (the most recent) source.   For your own setup, see wetsuite's install guidelines.\n",
        "#!pip3 install -U --no-cache-dir --quiet https://github.com/knobs-dials/wetsuite-dev/archive/refs/heads/main.zip\n",
        "\n",
        "# also, download language models we use here\n",
        "#!python3 -m spacy download en_core_web_lg    # reasonable on CPU\n",
        "#!python3 -m spacy download en_core_web_trf   # works better, but can be rather slow without GPU properly set up"
      ]
    },
    {
      "cell_type": "code",
      "execution_count": 1,
      "metadata": {},
      "outputs": [
        {
          "name": "stderr",
          "output_type": "stream",
          "text": [
            "2024-03-12 22:53:04.514676: I tensorflow/core/util/util.cc:169] oneDNN custom operations are on. You may see slightly different numerical results due to floating-point round-off errors from different computation orders. To turn them off, set the environment variable `TF_ENABLE_ONEDNN_OPTS=0`.\n",
            "2024-03-12 22:53:06.783161: I tensorflow/stream_executor/cuda/cuda_gpu_executor.cc:975] successful NUMA node read from SysFS had negative value (-1), but there must be at least one NUMA node, so returning NUMA node zero\n",
            "2024-03-12 22:53:06.787817: I tensorflow/stream_executor/cuda/cuda_gpu_executor.cc:975] successful NUMA node read from SysFS had negative value (-1), but there must be at least one NUMA node, so returning NUMA node zero\n",
            "2024-03-12 22:53:06.787943: I tensorflow/stream_executor/cuda/cuda_gpu_executor.cc:975] successful NUMA node read from SysFS had negative value (-1), but there must be at least one NUMA node, so returning NUMA node zero\n"
          ]
        }
      ],
      "source": [
        "## load spacy (the library)\n",
        "\n",
        "#  importing spacy is likely to spit out a bunch of warnings.  There are sometimes useful errors, but usually it's mostly about optional libraries, \n",
        "#  so you could decide to have it be less spammy in your eveyday work by doing the following before the import:\n",
        "#import os\n",
        "#os.environ['TF_CPP_MIN_LOG_LEVEL'] = '3'    \n",
        "\n",
        "import spacy\n",
        "import spacy.displacy\n",
        "\n",
        "import wetsuite.helpers.spacy    # some helpers of our own, barely used here."
      ]
    },
    {
      "cell_type": "code",
      "execution_count": 2,
      "metadata": {
        "id": "EUJ1XGlDMseC"
      },
      "outputs": [],
      "source": [
        "## Load a language model that you previously downloaded\n",
        "english_lg  = spacy.load('en_core_web_lg')   \n",
        "english_trf = spacy.load('en_core_web_trf')\n",
        "# Tutorials often call the loaded model object 'nlp'.  This uses more descriptive names because we use more than one."
      ]
    },
    {
      "cell_type": "code",
      "execution_count": 3,
      "metadata": {
        "colab": {
          "base_uri": "https://localhost:8080/"
        },
        "id": "k1JuforaMseP",
        "outputId": "0ce4a2c6-4814-45b5-8ab8-e025d586d807"
      },
      "outputs": [
        {
          "name": "stdout",
          "output_type": "stream",
          "text": [
            "==== component: tok2vec ====\n",
            "Apply a \"token-to-vector\" model and set its outputs in the doc.tensor\n",
            "    attribute. This is mostly useful to share a single subnetwork between multiple\n",
            "    components, e.g. to have one embedding and CNN network shared between a\n",
            "    parser, tagger and NER.\n",
            "\n",
            "    In order to use the `Tok2Vec` predictions, subsequent components should use\n",
            "    the `Tok2VecListener` layer as the tok2vec subnetwork of their model. This\n",
            "    layer will read data from the `doc.tensor` attribute during prediction.\n",
            "    During training, the `Tok2Vec` component will save its prediction and backprop\n",
            "    callback for each batch, so that the subsequent components can backpropagate\n",
            "    to the shared weights. This implementation is used because it allows us to\n",
            "    avoid relying on object identity within the models to achieve the parameter\n",
            "    sharing.\n",
            "    \n",
            "\n",
            "==== component: tagger ====\n",
            "Pipeline component for part-of-speech tagging.\n",
            "\n",
            "    DOCS: https://spacy.io/api/tagger\n",
            "    \n",
            "\n",
            "==== component: parser ====\n",
            "DependencyParser(vocab, model, name='parser', moves=None, update_with_oracle_cut_size=100, *, min_action_freq=30, learn_tokens=False, beam_width=1, beam_density=0.0, beam_update_prob=0.0, multitasks=tuple(), incorrect_spans_key=None, scorer=parser_score)\n",
            "Pipeline component for dependency parsing.\n",
            "\n",
            "    DOCS: https://spacy.io/api/dependencyparser\n",
            "    \n",
            "\n",
            "==== component: attribute_ruler ====\n",
            "Set token-level attributes for tokens matched by Matcher patterns.\n",
            "    Additionally supports importing patterns from tag maps and morph rules.\n",
            "\n",
            "    DOCS: https://spacy.io/api/attributeruler\n",
            "    \n",
            "\n",
            "==== component: lemmatizer ====\n",
            "English lemmatizer. Only overrides is_base_form.\n",
            "\n",
            "==== component: ner ====\n",
            "EntityRecognizer(vocab, model, name='ner', moves=None, update_with_oracle_cut_size=100, *, beam_width=1, beam_density=0.0, beam_update_prob=0.0, multitasks=tuple(), incorrect_spans_key=None, scorer=ner_score)\n",
            "Pipeline component for named entity recognition.\n",
            "\n",
            "    DOCS: https://spacy.io/api/entityrecognizer\n",
            "    \n",
            "\n"
          ]
        }
      ],
      "source": [
        "# Ask spacy what this particular model (roughly) will calculate and annotate.   \n",
        "#   or, in spacy's terms, what components(/pipes) are in this model's pipeline?\n",
        "for pipe_name in english_lg.pipe_names:\n",
        "    print( '==== component: %s ====\\n%s\\n'%(pipe_name, english_lg.get_pipe(pipe_name).__doc__) )"
      ]
    },
    {
      "attachments": {},
      "cell_type": "markdown",
      "metadata": {
        "id": "8dnONe0XMseT"
      },
      "source": [
        "## Inspection of a parse\n",
        "\n",
        "Calling a model object with some text produces a [Doc](https://spacy.io/api/doc) object, the analysis of that text. \n",
        "\n",
        "Iterating that document object gives you a series of [Token](https://spacy.io/api/token) objects.\n",
        "\n",
        "\n",
        "Pipeline components usually put their results in attributes on the Doc and/or the Token objects. \n",
        "You could get a summary of what specific attributes are set, with `.analyze_pipes()`, but this is not the most readable. This document will go through many of them in more natural examples.\n",
        "\n",
        "One example of annotation onto the Doc is sentence splitting that various models do  (often in the parser components) - the [.sents](https://spacy.io/api/doc#sents) attribute gives you a sequence of [Span](https://spacy.io/api/span) objects, each of which is a sequences of tokens from the document these Spans belong to"
      ]
    },
    {
      "cell_type": "code",
      "execution_count": 5,
      "metadata": {
        "colab": {
          "base_uri": "https://localhost:8080/"
        },
        "id": "0vfiotnDMseW",
        "outputId": "89de2461-a9e1-4495-a1ce-be39f895473b"
      },
      "outputs": [
        {
          "name": "stdout",
          "output_type": "stream",
          "text": [
            "TOKENS\n",
            "  Machine/NOUN  learning/NOUN  can/AUX  be/AUX  easy/ADJ  ./PUNCT  Deep/ADJ  Learning/NOUN  is/AUX  n't/PART  straightforward/ADJ  ./PUNCT  Ducks/NOUN  are/AUX  nice/ADJ  ./PUNCT  Cats/NOUN  and/CCONJ  dogs/NOUN  are/AUX  cute/ADJ  ./PUNCT  Neural/ADJ  nets/NOUN  are/AUX  useful/ADJ  ./PUNCT  Long/ADJ  Cat/PROPN  looks/VERB  like/ADP  a/DET  name/NOUN  ./PUNCT\n",
            "\n",
            "SENTENCES\n",
            "  Machine learning can be easy.\n",
            "  Deep Learning isn't straightforward.\n",
            "  Ducks are nice.\n",
            "  Cats and dogs are cute.\n",
            "  Neural nets are useful.\n",
            "  Long Cat looks like a name.\n"
          ]
        }
      ],
      "source": [
        "statements_txt = \"Machine learning can be easy. Deep Learning isn't straightforward. Ducks are nice. Cats and dogs are cute. Neural nets are useful. Long Cat looks like a name.\"\n",
        "statements_doc = english_trf( statements_txt )\n",
        "\n",
        "print(\"TOKENS\")\n",
        "for tok in statements_doc: \n",
        "    print( '  %s/%s'%(tok.text,  tok.pos_),  end='' )  # print token text, and its part of speech tag\n",
        "\n",
        "\n",
        "print(\"\\n\\nSENTENCES\")\n",
        "for sent in statements_doc.sents:  # https://spacy.io/api/doc#sents\n",
        "    print( '  %s'%sent.text )\n",
        "    #for tok in sent: \n",
        "    #    print( '  %s/%s'%(tok.text,  tok.pos_), end='' )"
      ]
    },
    {
      "attachments": {},
      "cell_type": "markdown",
      "metadata": {
        "id": "w9ST12r2EMdl"
      },
      "source": [
        "It can be useful to be aware of the other things Token can do for you, which including but not limited to the following. Chances are you will never use half of these, but it's good to know it's there.\n",
        "- (there's `.orth_` yet it seems to be an implementation detail, and practically equivalent to .text)\n",
        "- `.lemma`: lemmatized form of a token\n",
        "- `.norm`:  normalized form of a token  (seems to mostly resolve contractions, and otherwise seems largely the same as lemmatizer output)\n",
        "- `.pos_`:  coarse tagging  (often following wider conventions)\n",
        "- `.tag`:   finer taggging  (more easily model/language specific)\n",
        "- specifics like `.is_sent_start`, `.is_bracket`, `.is_quote`, `.is_left_punct`, `.is_punct`, `.is_upper`;  `.like_url`, `.like_email`,  and a few more\n",
        "- the ability to fetch the original whitespace  (this example uses `.text` which ignores whitespace,  while `.text_with_ws` is basically `.text` + `.whitespace_` )"
      ]
    },
    {
      "cell_type": "code",
      "execution_count": 6,
      "metadata": {
        "colab": {
          "base_uri": "https://localhost:8080/"
        },
        "id": "gWW7wo5aD9wM",
        "outputId": "a388a7d5-735f-44d8-811b-bd1ee0c09c9e"
      },
      "outputs": [
        {
          "name": "stdout",
          "output_type": "stream",
          "text": [
            "           TEXT           LEMMA      NORMALIZED        POS        TAG      STOP?   UNKNOWN?        EXPL(POS)  EXPL(TAG)\n",
            "              I               I               i       PRON        PRP       True      False          pronoun  pronoun, personal\n",
            "             do              do              do        AUX        VBP       True      False        auxiliary  verb, non-3rd person singular present\n",
            "            n't             not             not       PART         RB       True      False         particle  adverb\n",
            "          think           think           think       VERB         VB      False      False             verb  verb, base form\n",
            "      fhqwhgads        fhqwhgad       fhqwhgads       NOUN        NNS      False       True             noun  noun, plural\n",
            "            was              be             was        AUX        VBD       True      False        auxiliary  verb, past tense\n",
            "          weird           weird           weird        ADJ         JJ      False      False        adjective  adjective (English), other noun-modifier (Chinese)\n",
            "              .               .               .      PUNCT          .      False      False      punctuation  punctuation mark, sentence closer\n"
          ]
        }
      ],
      "source": [
        "fields = '%15s %15s %15s %10s %10s %10s %10s  %15s  %s' # (for aligned printing)\n",
        "head = ('TEXT', 'LEMMA', 'NORMALIZED', 'POS', 'TAG', 'STOP?', 'UNKNOWN?', 'EXPL(POS)', 'EXPL(TAG)')   # unknown as in 'out of vocabulary'\n",
        "print( fields % head )\n",
        "for tok in english_lg( \"I don't think fhqwhgads was weird.\"):\n",
        "    print( fields%(tok.text, tok.lemma_, tok.norm_, tok.pos_, tok.tag_, tok.is_stop, tok.is_oov, spacy.explain(tok.pos_), spacy.explain(tok.tag_) ) )\n",
        "\n",
        "# Notes:\n",
        "# - for certain models, is_oov will always be True.  Don't rely on it until you understand why.\n",
        "# - if you're not sure about tagset details - the values that pos_ and tag_ can take, and what they mean - you can ask spacy via explain(), like we do here\n",
        "# - if you're wondering: those underscores are the human-readable variants, \n",
        "#   and there will also be an attribute without the underscore that stores a number, which is a more compact, internal reference"
      ]
    },
    {
      "cell_type": "code",
      "execution_count": null,
      "metadata": {
        "colab": {
          "base_uri": "https://localhost:8080/"
        },
        "id": "GcnS4E3XFeG8",
        "outputId": "020dc6c3-ce70-41b9-e53d-a8193277e696"
      },
      "outputs": [
        {
          "name": "stdout",
          "output_type": "stream",
          "text": [
            "CONTENTFUL\n",
            "  Machine\n",
            "  learning\n",
            "  easy\n",
            "  Deep\n",
            "  Learning\n",
            "  straightforward\n",
            "  Ducks\n",
            "  nice\n",
            "  Cats\n",
            "  dogs\n",
            "  cute\n",
            "  Neural\n",
            "  nets\n",
            "  useful\n",
            "  Long\n",
            "  Cat\n",
            "  looks\n",
            "  like\n",
            "\n",
            "BORING\n",
            "  can\n",
            "  be\n",
            "  .\n",
            "  is\n",
            "  n't\n",
            "  .\n",
            "  are\n",
            "  .\n",
            "  and\n",
            "  are\n",
            "  .\n",
            "  are\n",
            "  .\n",
            "  a\n",
            "  name\n",
            "  .\n"
          ]
        }
      ],
      "source": [
        "# When looking to extract the more contentful words and ignore filler/function words, \n",
        "# there are fancier ways to go about that (say, the word embeddings),\n",
        "# but one quick and dirty way is \"ignore tokens by annotation, mostly parts of speech\", like:\n",
        "interesting, boring, todo = [], [], []\n",
        "for tok in statements_doc:\n",
        "    if tok.is_stop:\n",
        "        boring.append( tok )\n",
        "    elif tok.pos_ in ('PUNCT','SPACE', 'X'):\n",
        "        boring.append( tok )\n",
        "    elif tok.pos_ in ('AUX','DET','CCONJ'): # auxiliary verbs, determiners, conjunctions are mostly just function words\n",
        "        boring.append( tok )\n",
        "    elif tok.pos_ in ('NOUN','PROPN','NUM'):  # nouns tend to be useful.   Numbers could be ignored; if they're dates, there is some chanced that they're picked up as entities\n",
        "        interesting.append( tok )\n",
        "    elif tok.pos_ in ('ADJ','VERB','ADP', 'ADV'): # adjectives, verbs, adverbs, adpositions - are often halfway useful\n",
        "        interesting.append( tok )\n",
        "    else: #  (debug: labels not yet in the above)\n",
        "        todo.append( '%s/%s'%(tok.text, tok.pos_) )\n",
        "\n",
        "print(\"CONTENTFUL\")\n",
        "for tok in interesting:\n",
        "    print( '  %s'%tok.text )\n",
        "\n",
        "print(\"\\nBORING\")\n",
        "for tok in boring:\n",
        "    print( '  %s'%tok.text)\n",
        "\n",
        "#print(\"\\nTODO\")\n",
        "#for tok in todo:\n",
        "#    print( '  ',tok )"
      ]
    },
    {
      "attachments": {},
      "cell_type": "markdown",
      "metadata": {
        "id": "kNWvhZ_gFgAF"
      },
      "source": [
        "## Noun chunks and entities"
      ]
    },
    {
      "attachments": {},
      "cell_type": "markdown",
      "metadata": {
        "id": "IRZ4JAm6C1kG"
      },
      "source": [
        "Various models try to find adjacent nouns that seem to belong together (somewhat like noun phrases, but that is not exactly the goal), placed onto Doc's [.noun_chunks](https://spacy.io/api/doc#noun_chunks) attribute.\n",
        "\n",
        "There is also named entity extraction, plased onto Doc's [.ents](https://spacy.io/api/doc#ents) attribute. While more directed, this may also be incomplete and/or messy - this is one of the things you may want to train for your specific use case."
      ]
    },
    {
      "cell_type": "code",
      "execution_count": null,
      "metadata": {
        "colab": {
          "base_uri": "https://localhost:8080/"
        },
        "id": "Es-Py76oMsea",
        "outputId": "e661a945-1bcf-4815-8ee7-566db937b64f"
      },
      "outputs": [
        {
          "name": "stdout",
          "output_type": "stream",
          "text": [
            "\n",
            "NOUN CHUNKS\n",
            "    Machine learning       head=learning          head.dep_=nsubj\n",
            "    Deep Learning          head=Learning          head.dep_=nsubj\n",
            "    Ducks                  head=Ducks             head.dep_=nsubj\n",
            "    Cats                   head=Cats              head.dep_=nsubj\n",
            "    dogs                   head=dogs              head.dep_=conj\n",
            "    Neural nets            head=nets              head.dep_=nsubj\n",
            "    Long Cat               head=Cat               head.dep_=nsubj\n",
            "    a name                 head=name              head.dep_=pobj\n",
            "\n",
            "NAMED ENTITIES\n",
            "    Deep Learning          label=WORK_OF_ART       head=Learning          head.dep_=nsubj\n",
            "    Long Cat               label=ORG               head=Cat               head.dep_=nsubj\n"
          ]
        }
      ],
      "source": [
        "print(\"\\nNOUN CHUNKS\")    # https://spacy.io/api/doc#noun_chunks\n",
        "for nc in statements_doc.noun_chunks:\n",
        "    print( '    %-20s   head=%-15s   head.dep_=%s'%(nc.text, nc.root.text, nc.root.dep_))  # the root and dep things will be explained below\n",
        "\n",
        "print(\"\\nNAMED ENTITIES\") # https://spacy.io/api/doc#ents\n",
        "for ent in english_lg( statements_txt ).ents:  # using the other model because _trf doesn't find any.\n",
        "    print( '    %-20s   label=%-15s   head=%-15s   head.dep_=%s'%(ent.text, ent.label_, ent.root.text, ent.root.dep_))"
      ]
    },
    {
      "attachments": {},
      "cell_type": "markdown",
      "metadata": {
        "id": "kIx-UHSCG6t9"
      },
      "source": [
        "Note that these two things are done separately, so their results may well overlap."
      ]
    },
    {
      "cell_type": "code",
      "execution_count": null,
      "metadata": {
        "colab": {
          "base_uri": "https://localhost:8080/"
        },
        "id": "B7aHCcwGG6Jd",
        "outputId": "775942e7-7576-4072-e8f6-e490f2968783"
      },
      "outputs": [
        {
          "name": "stdout",
          "output_type": "stream",
          "text": [
            "\n",
            "NOUN CHUNKS\n",
            "    Bill Diamond\n",
            "    an American puppeteer\n",
            "    puppet fabricator\n",
            "    producer\n",
            "\n",
            "NAMED ENTITIES\n",
            "    Bill Diamond                label=PERSON         \n",
            "    American                    label=NORP           \n"
          ]
        }
      ],
      "source": [
        "bd = \"Bill Diamond is an American puppeteer, puppet fabricator, and producer.\"\n",
        "print(\"\\nNOUN CHUNKS\")\n",
        "for nc in english_trf(bd).noun_chunks:\n",
        "    print( '    %s'%(nc.text) )\n",
        "\n",
        "print(\"\\nNAMED ENTITIES\")\n",
        "for ent in english_trf(bd).ents: \n",
        "    print( '    %-25s   label=%-15s'%(ent.text, ent.label_))"
      ]
    },
    {
      "attachments": {},
      "cell_type": "markdown",
      "metadata": {
        "id": "4q6e9uyBD0Ft"
      },
      "source": [
        "### Dependency relations\n",
        "Models also detail certain dependencies/relations between tokens. \n",
        "\n",
        "On each token,  .head is the source of that relation, .dep_ is its type. \n",
        "\n",
        "It may become a little clearer once you see this visualized - scroll down until you see images.  Even then, this is a somewhat unusual way of representing and storing these."
      ]
    },
    {
      "cell_type": "code",
      "execution_count": 7,
      "metadata": {},
      "outputs": [
        {
          "name": "stdout",
          "output_type": "stream",
          "text": [
            "      John   <------noun phrase as adverbial modifier--   gave \n",
            "         ,   <----------------------------punctuation--   gave \n",
            "         I   <------------------------nominal subject--   gave \n",
            "      gave   <-----------------------------------root--   gave \n",
            "       the   <-----------------------------determiner--   bean \n",
            "      bean   <--------------------------direct object--   gave \n",
            "        to   <-----------------prepositional modifier--   gave \n",
            "     Alice   <--------------------possession modifier--   sister \n",
            "        's   <---------------------------case marking--   Alice \n",
            "    sister   <------------------object of preposition--   to \n"
          ]
        }
      ],
      "source": [
        "for tok in english_trf( \"John, I gave the bean to Alice's sister\" ):\n",
        "   print( f'{tok.text:>10s}   <----{spacy.explain(tok.dep_):->35s}--   {tok.head} ' )"
      ]
    },
    {
      "cell_type": "code",
      "execution_count": null,
      "metadata": {
        "colab": {
          "base_uri": "https://localhost:8080/"
        },
        "id": "uNHKfqtEMsef",
        "outputId": "2b505958-4fae-4209-80ae-71bbc5f1f793"
      },
      "outputs": [
        {
          "name": "stdout",
          "output_type": "stream",
          "text": [
            "SUBJECT = learning           for sentence Machine learning can be easy.\n",
            "SUBJECT = Learning           for sentence Deep Learning isn't straightforward.\n",
            "SUBJECT = Ducks              for sentence Ducks are nice.\n",
            "SUBJECT = Cats               for sentence Cats and dogs are cute.\n",
            "SUBJECT = nets               for sentence Neural nets are useful.\n",
            "SUBJECT = Cat                for sentence Long Cat looks like a name.\n",
            "OBJECT  = name               for sentence Long Cat looks like a name.\n",
            "\n",
            "NOUN CHUNK 'Machine learning'     head=learning          has relation nsubj\n",
            "NOUN CHUNK 'Deep Learning'        head=Learning          has relation nsubj\n",
            "NOUN CHUNK 'Ducks'                head=Ducks             has relation nsubj\n",
            "NOUN CHUNK 'Cats'                 head=Cats              has relation nsubj\n",
            "NOUN CHUNK 'Neural nets'          head=nets              has relation nsubj\n",
            "NOUN CHUNK 'Long Cat'             head=Cat               has relation nsubj\n",
            "NOUN CHUNK 'a name'               head=name              has relation pobj\n"
          ]
        }
      ],
      "source": [
        "# Dependencies help certain tests, such as extracting a sentence's subjects and objects. \n",
        "# If you do this, give it some weird and complex sentences too, to realize what it does when subjects and objects are implicit, missing, or when there is more than one.\n",
        "for sent_i, sent in enumerate( statements_doc.sents ):\n",
        "    for tok in sent:\n",
        "        if tok.dep_ == 'nsubj':\n",
        "            print( \"SUBJECT = %-15s    for sentence %r\"%(tok.text, sent) )\n",
        "        if tok.dep_ == 'pobj':\n",
        "            print( \"OBJECT  = %-15s    for sentence %r\"%(tok.text, sent) )       \n",
        "\n",
        "# In various cases you may care to figure out whether that token marked as subjects and objects (or other) is part of a larger thing, like a named entity or noun chunk.\n",
        "# This may be easier to check the other way around: for each noun chunk or entity, see if its head/root has the relation you're interested in:\n",
        "print()\n",
        "for nc in statements_doc.noun_chunks:\n",
        "    if nc.root.dep_ in ('nsubj','pobj'):\n",
        "        print( 'NOUN CHUNK %-20r   head=%-15s   has relation %s'%(nc.text, nc.root.text, nc.root.dep_))"
      ]
    },
    {
      "attachments": {},
      "cell_type": "markdown",
      "metadata": {
        "id": "5LxWqDJiMsei"
      },
      "source": [
        "## Visualisation\n",
        "spacy's own displacy is geared towards python notebooks.   You can also fish out representations for display elsewhere.\n",
        "- `style='ent'` is for entities, shown with HTML blocks, and fine for longer texts\n",
        "- `style='dep'` is for dependencies, shown as an SVG diagram, and generally unwieldy if showing more than one sentence at a time\n",
        "- `style='span'` is for any spans (noun chunks, entities, others that you may add) which may overlap."
      ]
    },
    {
      "cell_type": "code",
      "execution_count": null,
      "metadata": {
        "colab": {
          "base_uri": "https://localhost:8080/"
        },
        "id": "3pY4yYc0Msej",
        "outputId": "9a5faf90-9890-40e8-c6c0-ffea92c54e55"
      },
      "outputs": [
        {
          "name": "stdout",
          "output_type": "stream",
          "text": [
            "NAMED ENTITIES\n",
            "  Restoration                    label=EVENT    (Named hurricanes, battles, wars, sports events, etc. )    head=Restoration       head.dep_=pobj\n",
            "  Paris                          label=GPE      (Countries, cities, states                            )    head=Paris             head.dep_=pobj\n",
            "  the July Revolution            label=EVENT    (Named hurricanes, battles, wars, sports events, etc. )    head=Revolution        head.dep_=nsubj\n",
            "  1830                           label=DATE     (Absolute or relative dates or periods                )    head=1830              head.dep_=pobj\n",
            "  the July Column                label=FAC      (Buildings, airports, highways, bridges, etc.         )    head=Column            head.dep_=pobj\n",
            "  the Place de la Bastille       label=FAC      (Buildings, airports, highways, bridges, etc.         )    head=Bastille          head.dep_=pobj\n",
            "  Louis Philippe I               label=PERSON   (People, including fictional                          )    head=I                 head.dep_=appos\n",
            "  first                          label=ORDINAL  (\"first\", \"second\", etc.                              )    head=first             head.dep_=amod\n",
            "  Paris                          label=GPE      (Countries, cities, states                            )    head=Paris             head.dep_=pobj\n",
            "  1837                           label=DATE     (Absolute or relative dates or periods                )    head=1837              head.dep_=pobj\n",
            "  Louis-Philippe                 label=PERSON   (People, including fictional                          )    head=Philippe          head.dep_=nsubjpass\n",
            "  Paris                          label=GPE      (Countries, cities, states                            )    head=Paris             head.dep_=pobj\n",
            "  1848                           label=DATE     (Absolute or relative dates or periods                )    head=1848              head.dep_=pobj\n",
            "  Napoleon III                   label=PERSON   (People, including fictional                          )    head=III               head.dep_=appos\n",
            "  Seine                          label=LOC      (Non-GPE locations, mountain ranges, bodies of water  )    head=Seine             head.dep_=pobj\n",
            "  Georges-Eugène Haussmann       label=PERSON   (People, including fictional                          )    head=Haussmann         head.dep_=appos\n",
            "  the Bois de Boulogne           label=FAC      (Buildings, airports, highways, bridges, etc.         )    head=Boulogne          head.dep_=pobj\n",
            "  Bois de Vincennes              label=FAC      (Buildings, airports, highways, bridges, etc.         )    head=Vincennes         head.dep_=appos\n"
          ]
        }
      ],
      "source": [
        "paris_text = \"\"\"During the Restoration, the bridges and squares of Paris were returned to their pre-Revolution names; the July Revolution in 1830 \n",
        "(commemorated by the July Column on the Place de la Bastille) brought a constitutional monarch, Louis Philippe I, to power.\n",
        "The first railway line to Paris opened in 1837, beginning a new period of massive migration from the provinces to the city.\n",
        "Louis-Philippe was overthrown by a popular uprising in the streets of Paris in 1848. His successor, Napoleon III, \n",
        "alongside the newly appointed prefect of the Seine, Georges-Eugène Haussmann, launched a gigantic public works project to \n",
        "build wide new boulevards, a new opera house, a central market, new aqueducts, sewers and parks, including the Bois de Boulogne \n",
        "and Bois de Vincennes.\"\"\".replace('\\n',' ')\n",
        "paris_doc = english_trf( paris_text )\n",
        "\n",
        "print(\"NAMED ENTITIES\")\n",
        "for ent in paris_doc.ents:\n",
        "    print( '  %-28s   label=%-8s (%-53s)    head=%-15s   head.dep_=%s'%(ent.text, ent.label_, spacy.explain(ent.label_), ent.root.text, ent.root.dep_))"
      ]
    },
    {
      "cell_type": "code",
      "execution_count": null,
      "metadata": {
        "colab": {
          "base_uri": "https://localhost:8080/",
          "height": 157
        },
        "id": "K2Yymf5KUas3",
        "outputId": "ece19e60-38cf-4fd7-d441-5c2e0a703acc"
      },
      "outputs": [
        {
          "data": {
            "text/html": [
              "<span class=\"tex2jax_ignore\"><div class=\"entities\" style=\"line-height: 2.5; direction: ltr\">During the \n",
              "<mark class=\"entity\" style=\"background: #ffeb80; padding: 0.45em 0.6em; margin: 0 0.25em; line-height: 1; border-radius: 0.35em;\">\n",
              "    Restoration\n",
              "    <span style=\"font-size: 0.8em; font-weight: bold; line-height: 1; border-radius: 0.35em; vertical-align: middle; margin-left: 0.5rem\">EVENT</span>\n",
              "</mark>\n",
              ", the bridges and squares of \n",
              "<mark class=\"entity\" style=\"background: #feca74; padding: 0.45em 0.6em; margin: 0 0.25em; line-height: 1; border-radius: 0.35em;\">\n",
              "    Paris\n",
              "    <span style=\"font-size: 0.8em; font-weight: bold; line-height: 1; border-radius: 0.35em; vertical-align: middle; margin-left: 0.5rem\">GPE</span>\n",
              "</mark>\n",
              " were returned to their pre-Revolution names; \n",
              "<mark class=\"entity\" style=\"background: #ffeb80; padding: 0.45em 0.6em; margin: 0 0.25em; line-height: 1; border-radius: 0.35em;\">\n",
              "    the July Revolution\n",
              "    <span style=\"font-size: 0.8em; font-weight: bold; line-height: 1; border-radius: 0.35em; vertical-align: middle; margin-left: 0.5rem\">EVENT</span>\n",
              "</mark>\n",
              " in \n",
              "<mark class=\"entity\" style=\"background: #bfe1d9; padding: 0.45em 0.6em; margin: 0 0.25em; line-height: 1; border-radius: 0.35em;\">\n",
              "    1830\n",
              "    <span style=\"font-size: 0.8em; font-weight: bold; line-height: 1; border-radius: 0.35em; vertical-align: middle; margin-left: 0.5rem\">DATE</span>\n",
              "</mark>\n",
              "  (commemorated by \n",
              "<mark class=\"entity\" style=\"background: #9cc9cc; padding: 0.45em 0.6em; margin: 0 0.25em; line-height: 1; border-radius: 0.35em;\">\n",
              "    the July Column\n",
              "    <span style=\"font-size: 0.8em; font-weight: bold; line-height: 1; border-radius: 0.35em; vertical-align: middle; margin-left: 0.5rem\">FAC</span>\n",
              "</mark>\n",
              " on \n",
              "<mark class=\"entity\" style=\"background: #9cc9cc; padding: 0.45em 0.6em; margin: 0 0.25em; line-height: 1; border-radius: 0.35em;\">\n",
              "    the Place de la Bastille\n",
              "    <span style=\"font-size: 0.8em; font-weight: bold; line-height: 1; border-radius: 0.35em; vertical-align: middle; margin-left: 0.5rem\">FAC</span>\n",
              "</mark>\n",
              ") brought a constitutional monarch, \n",
              "<mark class=\"entity\" style=\"background: #aa9cfc; padding: 0.45em 0.6em; margin: 0 0.25em; line-height: 1; border-radius: 0.35em;\">\n",
              "    Louis Philippe I\n",
              "    <span style=\"font-size: 0.8em; font-weight: bold; line-height: 1; border-radius: 0.35em; vertical-align: middle; margin-left: 0.5rem\">PERSON</span>\n",
              "</mark>\n",
              ", to power. The \n",
              "<mark class=\"entity\" style=\"background: #e4e7d2; padding: 0.45em 0.6em; margin: 0 0.25em; line-height: 1; border-radius: 0.35em;\">\n",
              "    first\n",
              "    <span style=\"font-size: 0.8em; font-weight: bold; line-height: 1; border-radius: 0.35em; vertical-align: middle; margin-left: 0.5rem\">ORDINAL</span>\n",
              "</mark>\n",
              " railway line to \n",
              "<mark class=\"entity\" style=\"background: #feca74; padding: 0.45em 0.6em; margin: 0 0.25em; line-height: 1; border-radius: 0.35em;\">\n",
              "    Paris\n",
              "    <span style=\"font-size: 0.8em; font-weight: bold; line-height: 1; border-radius: 0.35em; vertical-align: middle; margin-left: 0.5rem\">GPE</span>\n",
              "</mark>\n",
              " opened in \n",
              "<mark class=\"entity\" style=\"background: #bfe1d9; padding: 0.45em 0.6em; margin: 0 0.25em; line-height: 1; border-radius: 0.35em;\">\n",
              "    1837\n",
              "    <span style=\"font-size: 0.8em; font-weight: bold; line-height: 1; border-radius: 0.35em; vertical-align: middle; margin-left: 0.5rem\">DATE</span>\n",
              "</mark>\n",
              ", beginning a new period of massive migration from the provinces to the city. \n",
              "<mark class=\"entity\" style=\"background: #aa9cfc; padding: 0.45em 0.6em; margin: 0 0.25em; line-height: 1; border-radius: 0.35em;\">\n",
              "    Louis-Philippe\n",
              "    <span style=\"font-size: 0.8em; font-weight: bold; line-height: 1; border-radius: 0.35em; vertical-align: middle; margin-left: 0.5rem\">PERSON</span>\n",
              "</mark>\n",
              " was overthrown by a popular uprising in the streets of \n",
              "<mark class=\"entity\" style=\"background: #feca74; padding: 0.45em 0.6em; margin: 0 0.25em; line-height: 1; border-radius: 0.35em;\">\n",
              "    Paris\n",
              "    <span style=\"font-size: 0.8em; font-weight: bold; line-height: 1; border-radius: 0.35em; vertical-align: middle; margin-left: 0.5rem\">GPE</span>\n",
              "</mark>\n",
              " in \n",
              "<mark class=\"entity\" style=\"background: #bfe1d9; padding: 0.45em 0.6em; margin: 0 0.25em; line-height: 1; border-radius: 0.35em;\">\n",
              "    1848\n",
              "    <span style=\"font-size: 0.8em; font-weight: bold; line-height: 1; border-radius: 0.35em; vertical-align: middle; margin-left: 0.5rem\">DATE</span>\n",
              "</mark>\n",
              ". His successor, \n",
              "<mark class=\"entity\" style=\"background: #aa9cfc; padding: 0.45em 0.6em; margin: 0 0.25em; line-height: 1; border-radius: 0.35em;\">\n",
              "    Napoleon III\n",
              "    <span style=\"font-size: 0.8em; font-weight: bold; line-height: 1; border-radius: 0.35em; vertical-align: middle; margin-left: 0.5rem\">PERSON</span>\n",
              "</mark>\n",
              ",  alongside the newly appointed prefect of the \n",
              "<mark class=\"entity\" style=\"background: #ff9561; padding: 0.45em 0.6em; margin: 0 0.25em; line-height: 1; border-radius: 0.35em;\">\n",
              "    Seine\n",
              "    <span style=\"font-size: 0.8em; font-weight: bold; line-height: 1; border-radius: 0.35em; vertical-align: middle; margin-left: 0.5rem\">LOC</span>\n",
              "</mark>\n",
              ", \n",
              "<mark class=\"entity\" style=\"background: #aa9cfc; padding: 0.45em 0.6em; margin: 0 0.25em; line-height: 1; border-radius: 0.35em;\">\n",
              "    Georges-Eugène Haussmann\n",
              "    <span style=\"font-size: 0.8em; font-weight: bold; line-height: 1; border-radius: 0.35em; vertical-align: middle; margin-left: 0.5rem\">PERSON</span>\n",
              "</mark>\n",
              ", launched a gigantic public works project to  build wide new boulevards, a new opera house, a central market, new aqueducts, sewers and parks, including \n",
              "<mark class=\"entity\" style=\"background: #9cc9cc; padding: 0.45em 0.6em; margin: 0 0.25em; line-height: 1; border-radius: 0.35em;\">\n",
              "    the Bois de Boulogne\n",
              "    <span style=\"font-size: 0.8em; font-weight: bold; line-height: 1; border-radius: 0.35em; vertical-align: middle; margin-left: 0.5rem\">FAC</span>\n",
              "</mark>\n",
              "  and \n",
              "<mark class=\"entity\" style=\"background: #9cc9cc; padding: 0.45em 0.6em; margin: 0 0.25em; line-height: 1; border-radius: 0.35em;\">\n",
              "    Bois de Vincennes\n",
              "    <span style=\"font-size: 0.8em; font-weight: bold; line-height: 1; border-radius: 0.35em; vertical-align: middle; margin-left: 0.5rem\">FAC</span>\n",
              "</mark>\n",
              ".</div></span>"
            ],
            "text/plain": [
              "<IPython.core.display.HTML object>"
            ]
          },
          "metadata": {},
          "output_type": "display_data"
        }
      ],
      "source": [
        "# Visualized in context of a sentence:\n",
        "spacy.displacy.render(paris_doc, style='ent', jupyter=True)    # Note: colab require explicit jupyter=True,  local notebooks do not."
      ]
    },
    {
      "cell_type": "code",
      "execution_count": null,
      "metadata": {
        "colab": {
          "base_uri": "https://localhost:8080/",
          "height": 528
        },
        "id": "xv9bFSs0Msek",
        "outputId": "4a013982-2770-45ab-cf02-e1e18a74dad1"
      },
      "outputs": [
        {
          "data": {
            "text/html": [
              "<span class=\"tex2jax_ignore\"><svg xmlns=\"http://www.w3.org/2000/svg\" xmlns:xlink=\"http://www.w3.org/1999/xlink\" xml:lang=\"en\" id=\"32e643986f8044e4b456f6c6aa921f65-0\" class=\"displacy\" width=\"3025\" height=\"487.0\" direction=\"ltr\" style=\"max-width: none; height: 487.0px; color: #000000; background: #ffffff; font-family: Arial; direction: ltr\">\n",
              "<text class=\"displacy-token\" fill=\"currentColor\" text-anchor=\"middle\" y=\"397.0\">\n",
              "    <tspan class=\"displacy-word\" fill=\"currentColor\" x=\"50\">Louis</tspan>\n",
              "    <tspan class=\"displacy-tag\" dy=\"2em\" fill=\"currentColor\" x=\"50\">PROPN</tspan>\n",
              "</text>\n",
              "\n",
              "<text class=\"displacy-token\" fill=\"currentColor\" text-anchor=\"middle\" y=\"397.0\">\n",
              "    <tspan class=\"displacy-word\" fill=\"currentColor\" x=\"225\">XVI</tspan>\n",
              "    <tspan class=\"displacy-tag\" dy=\"2em\" fill=\"currentColor\" x=\"225\">PROPN</tspan>\n",
              "</text>\n",
              "\n",
              "<text class=\"displacy-token\" fill=\"currentColor\" text-anchor=\"middle\" y=\"397.0\">\n",
              "    <tspan class=\"displacy-word\" fill=\"currentColor\" x=\"400\">and</tspan>\n",
              "    <tspan class=\"displacy-tag\" dy=\"2em\" fill=\"currentColor\" x=\"400\">CCONJ</tspan>\n",
              "</text>\n",
              "\n",
              "<text class=\"displacy-token\" fill=\"currentColor\" text-anchor=\"middle\" y=\"397.0\">\n",
              "    <tspan class=\"displacy-word\" fill=\"currentColor\" x=\"575\">the</tspan>\n",
              "    <tspan class=\"displacy-tag\" dy=\"2em\" fill=\"currentColor\" x=\"575\">DET</tspan>\n",
              "</text>\n",
              "\n",
              "<text class=\"displacy-token\" fill=\"currentColor\" text-anchor=\"middle\" y=\"397.0\">\n",
              "    <tspan class=\"displacy-word\" fill=\"currentColor\" x=\"750\">royal</tspan>\n",
              "    <tspan class=\"displacy-tag\" dy=\"2em\" fill=\"currentColor\" x=\"750\">ADJ</tspan>\n",
              "</text>\n",
              "\n",
              "<text class=\"displacy-token\" fill=\"currentColor\" text-anchor=\"middle\" y=\"397.0\">\n",
              "    <tspan class=\"displacy-word\" fill=\"currentColor\" x=\"925\">family</tspan>\n",
              "    <tspan class=\"displacy-tag\" dy=\"2em\" fill=\"currentColor\" x=\"925\">NOUN</tspan>\n",
              "</text>\n",
              "\n",
              "<text class=\"displacy-token\" fill=\"currentColor\" text-anchor=\"middle\" y=\"397.0\">\n",
              "    <tspan class=\"displacy-word\" fill=\"currentColor\" x=\"1100\">were</tspan>\n",
              "    <tspan class=\"displacy-tag\" dy=\"2em\" fill=\"currentColor\" x=\"1100\">AUX</tspan>\n",
              "</text>\n",
              "\n",
              "<text class=\"displacy-token\" fill=\"currentColor\" text-anchor=\"middle\" y=\"397.0\">\n",
              "    <tspan class=\"displacy-word\" fill=\"currentColor\" x=\"1275\">brought</tspan>\n",
              "    <tspan class=\"displacy-tag\" dy=\"2em\" fill=\"currentColor\" x=\"1275\">VERB</tspan>\n",
              "</text>\n",
              "\n",
              "<text class=\"displacy-token\" fill=\"currentColor\" text-anchor=\"middle\" y=\"397.0\">\n",
              "    <tspan class=\"displacy-word\" fill=\"currentColor\" x=\"1450\">to</tspan>\n",
              "    <tspan class=\"displacy-tag\" dy=\"2em\" fill=\"currentColor\" x=\"1450\">ADP</tspan>\n",
              "</text>\n",
              "\n",
              "<text class=\"displacy-token\" fill=\"currentColor\" text-anchor=\"middle\" y=\"397.0\">\n",
              "    <tspan class=\"displacy-word\" fill=\"currentColor\" x=\"1625\">Paris</tspan>\n",
              "    <tspan class=\"displacy-tag\" dy=\"2em\" fill=\"currentColor\" x=\"1625\">PROPN</tspan>\n",
              "</text>\n",
              "\n",
              "<text class=\"displacy-token\" fill=\"currentColor\" text-anchor=\"middle\" y=\"397.0\">\n",
              "    <tspan class=\"displacy-word\" fill=\"currentColor\" x=\"1800\">and</tspan>\n",
              "    <tspan class=\"displacy-tag\" dy=\"2em\" fill=\"currentColor\" x=\"1800\">CCONJ</tspan>\n",
              "</text>\n",
              "\n",
              "<text class=\"displacy-token\" fill=\"currentColor\" text-anchor=\"middle\" y=\"397.0\">\n",
              "    <tspan class=\"displacy-word\" fill=\"currentColor\" x=\"1975\">made</tspan>\n",
              "    <tspan class=\"displacy-tag\" dy=\"2em\" fill=\"currentColor\" x=\"1975\">VERB</tspan>\n",
              "</text>\n",
              "\n",
              "<text class=\"displacy-token\" fill=\"currentColor\" text-anchor=\"middle\" y=\"397.0\">\n",
              "    <tspan class=\"displacy-word\" fill=\"currentColor\" x=\"2150\">prisoners</tspan>\n",
              "    <tspan class=\"displacy-tag\" dy=\"2em\" fill=\"currentColor\" x=\"2150\">NOUN</tspan>\n",
              "</text>\n",
              "\n",
              "<text class=\"displacy-token\" fill=\"currentColor\" text-anchor=\"middle\" y=\"397.0\">\n",
              "    <tspan class=\"displacy-word\" fill=\"currentColor\" x=\"2325\">within</tspan>\n",
              "    <tspan class=\"displacy-tag\" dy=\"2em\" fill=\"currentColor\" x=\"2325\">ADP</tspan>\n",
              "</text>\n",
              "\n",
              "<text class=\"displacy-token\" fill=\"currentColor\" text-anchor=\"middle\" y=\"397.0\">\n",
              "    <tspan class=\"displacy-word\" fill=\"currentColor\" x=\"2500\">the</tspan>\n",
              "    <tspan class=\"displacy-tag\" dy=\"2em\" fill=\"currentColor\" x=\"2500\">DET</tspan>\n",
              "</text>\n",
              "\n",
              "<text class=\"displacy-token\" fill=\"currentColor\" text-anchor=\"middle\" y=\"397.0\">\n",
              "    <tspan class=\"displacy-word\" fill=\"currentColor\" x=\"2675\">Tuileries</tspan>\n",
              "    <tspan class=\"displacy-tag\" dy=\"2em\" fill=\"currentColor\" x=\"2675\">PROPN</tspan>\n",
              "</text>\n",
              "\n",
              "<text class=\"displacy-token\" fill=\"currentColor\" text-anchor=\"middle\" y=\"397.0\">\n",
              "    <tspan class=\"displacy-word\" fill=\"currentColor\" x=\"2850\">Palace.</tspan>\n",
              "    <tspan class=\"displacy-tag\" dy=\"2em\" fill=\"currentColor\" x=\"2850\">PROPN</tspan>\n",
              "</text>\n",
              "\n",
              "<g class=\"displacy-arrow\">\n",
              "    <path class=\"displacy-arc\" id=\"arrow-32e643986f8044e4b456f6c6aa921f65-0-0\" stroke-width=\"2px\" d=\"M70,352.0 C70,264.5 210.0,264.5 210.0,352.0\" fill=\"none\" stroke=\"currentColor\"/>\n",
              "    <text dy=\"1.25em\" style=\"font-size: 0.8em; letter-spacing: 1px\">\n",
              "        <textPath xlink:href=\"#arrow-32e643986f8044e4b456f6c6aa921f65-0-0\" class=\"displacy-label\" startOffset=\"50%\" side=\"left\" fill=\"currentColor\" text-anchor=\"middle\">compound</textPath>\n",
              "    </text>\n",
              "    <path class=\"displacy-arrowhead\" d=\"M70,354.0 L62,342.0 78,342.0\" fill=\"currentColor\"/>\n",
              "</g>\n",
              "\n",
              "<g class=\"displacy-arrow\">\n",
              "    <path class=\"displacy-arc\" id=\"arrow-32e643986f8044e4b456f6c6aa921f65-0-1\" stroke-width=\"2px\" d=\"M245,352.0 C245,2.0 1275.0,2.0 1275.0,352.0\" fill=\"none\" stroke=\"currentColor\"/>\n",
              "    <text dy=\"1.25em\" style=\"font-size: 0.8em; letter-spacing: 1px\">\n",
              "        <textPath xlink:href=\"#arrow-32e643986f8044e4b456f6c6aa921f65-0-1\" class=\"displacy-label\" startOffset=\"50%\" side=\"left\" fill=\"currentColor\" text-anchor=\"middle\">nsubjpass</textPath>\n",
              "    </text>\n",
              "    <path class=\"displacy-arrowhead\" d=\"M245,354.0 L237,342.0 253,342.0\" fill=\"currentColor\"/>\n",
              "</g>\n",
              "\n",
              "<g class=\"displacy-arrow\">\n",
              "    <path class=\"displacy-arc\" id=\"arrow-32e643986f8044e4b456f6c6aa921f65-0-2\" stroke-width=\"2px\" d=\"M245,352.0 C245,264.5 385.0,264.5 385.0,352.0\" fill=\"none\" stroke=\"currentColor\"/>\n",
              "    <text dy=\"1.25em\" style=\"font-size: 0.8em; letter-spacing: 1px\">\n",
              "        <textPath xlink:href=\"#arrow-32e643986f8044e4b456f6c6aa921f65-0-2\" class=\"displacy-label\" startOffset=\"50%\" side=\"left\" fill=\"currentColor\" text-anchor=\"middle\">cc</textPath>\n",
              "    </text>\n",
              "    <path class=\"displacy-arrowhead\" d=\"M385.0,354.0 L393.0,342.0 377.0,342.0\" fill=\"currentColor\"/>\n",
              "</g>\n",
              "\n",
              "<g class=\"displacy-arrow\">\n",
              "    <path class=\"displacy-arc\" id=\"arrow-32e643986f8044e4b456f6c6aa921f65-0-3\" stroke-width=\"2px\" d=\"M595,352.0 C595,177.0 915.0,177.0 915.0,352.0\" fill=\"none\" stroke=\"currentColor\"/>\n",
              "    <text dy=\"1.25em\" style=\"font-size: 0.8em; letter-spacing: 1px\">\n",
              "        <textPath xlink:href=\"#arrow-32e643986f8044e4b456f6c6aa921f65-0-3\" class=\"displacy-label\" startOffset=\"50%\" side=\"left\" fill=\"currentColor\" text-anchor=\"middle\">det</textPath>\n",
              "    </text>\n",
              "    <path class=\"displacy-arrowhead\" d=\"M595,354.0 L587,342.0 603,342.0\" fill=\"currentColor\"/>\n",
              "</g>\n",
              "\n",
              "<g class=\"displacy-arrow\">\n",
              "    <path class=\"displacy-arc\" id=\"arrow-32e643986f8044e4b456f6c6aa921f65-0-4\" stroke-width=\"2px\" d=\"M770,352.0 C770,264.5 910.0,264.5 910.0,352.0\" fill=\"none\" stroke=\"currentColor\"/>\n",
              "    <text dy=\"1.25em\" style=\"font-size: 0.8em; letter-spacing: 1px\">\n",
              "        <textPath xlink:href=\"#arrow-32e643986f8044e4b456f6c6aa921f65-0-4\" class=\"displacy-label\" startOffset=\"50%\" side=\"left\" fill=\"currentColor\" text-anchor=\"middle\">amod</textPath>\n",
              "    </text>\n",
              "    <path class=\"displacy-arrowhead\" d=\"M770,354.0 L762,342.0 778,342.0\" fill=\"currentColor\"/>\n",
              "</g>\n",
              "\n",
              "<g class=\"displacy-arrow\">\n",
              "    <path class=\"displacy-arc\" id=\"arrow-32e643986f8044e4b456f6c6aa921f65-0-5\" stroke-width=\"2px\" d=\"M245,352.0 C245,89.5 920.0,89.5 920.0,352.0\" fill=\"none\" stroke=\"currentColor\"/>\n",
              "    <text dy=\"1.25em\" style=\"font-size: 0.8em; letter-spacing: 1px\">\n",
              "        <textPath xlink:href=\"#arrow-32e643986f8044e4b456f6c6aa921f65-0-5\" class=\"displacy-label\" startOffset=\"50%\" side=\"left\" fill=\"currentColor\" text-anchor=\"middle\">conj</textPath>\n",
              "    </text>\n",
              "    <path class=\"displacy-arrowhead\" d=\"M920.0,354.0 L928.0,342.0 912.0,342.0\" fill=\"currentColor\"/>\n",
              "</g>\n",
              "\n",
              "<g class=\"displacy-arrow\">\n",
              "    <path class=\"displacy-arc\" id=\"arrow-32e643986f8044e4b456f6c6aa921f65-0-6\" stroke-width=\"2px\" d=\"M1120,352.0 C1120,264.5 1260.0,264.5 1260.0,352.0\" fill=\"none\" stroke=\"currentColor\"/>\n",
              "    <text dy=\"1.25em\" style=\"font-size: 0.8em; letter-spacing: 1px\">\n",
              "        <textPath xlink:href=\"#arrow-32e643986f8044e4b456f6c6aa921f65-0-6\" class=\"displacy-label\" startOffset=\"50%\" side=\"left\" fill=\"currentColor\" text-anchor=\"middle\">auxpass</textPath>\n",
              "    </text>\n",
              "    <path class=\"displacy-arrowhead\" d=\"M1120,354.0 L1112,342.0 1128,342.0\" fill=\"currentColor\"/>\n",
              "</g>\n",
              "\n",
              "<g class=\"displacy-arrow\">\n",
              "    <path class=\"displacy-arc\" id=\"arrow-32e643986f8044e4b456f6c6aa921f65-0-7\" stroke-width=\"2px\" d=\"M1295,352.0 C1295,264.5 1435.0,264.5 1435.0,352.0\" fill=\"none\" stroke=\"currentColor\"/>\n",
              "    <text dy=\"1.25em\" style=\"font-size: 0.8em; letter-spacing: 1px\">\n",
              "        <textPath xlink:href=\"#arrow-32e643986f8044e4b456f6c6aa921f65-0-7\" class=\"displacy-label\" startOffset=\"50%\" side=\"left\" fill=\"currentColor\" text-anchor=\"middle\">prep</textPath>\n",
              "    </text>\n",
              "    <path class=\"displacy-arrowhead\" d=\"M1435.0,354.0 L1443.0,342.0 1427.0,342.0\" fill=\"currentColor\"/>\n",
              "</g>\n",
              "\n",
              "<g class=\"displacy-arrow\">\n",
              "    <path class=\"displacy-arc\" id=\"arrow-32e643986f8044e4b456f6c6aa921f65-0-8\" stroke-width=\"2px\" d=\"M1470,352.0 C1470,264.5 1610.0,264.5 1610.0,352.0\" fill=\"none\" stroke=\"currentColor\"/>\n",
              "    <text dy=\"1.25em\" style=\"font-size: 0.8em; letter-spacing: 1px\">\n",
              "        <textPath xlink:href=\"#arrow-32e643986f8044e4b456f6c6aa921f65-0-8\" class=\"displacy-label\" startOffset=\"50%\" side=\"left\" fill=\"currentColor\" text-anchor=\"middle\">pobj</textPath>\n",
              "    </text>\n",
              "    <path class=\"displacy-arrowhead\" d=\"M1610.0,354.0 L1618.0,342.0 1602.0,342.0\" fill=\"currentColor\"/>\n",
              "</g>\n",
              "\n",
              "<g class=\"displacy-arrow\">\n",
              "    <path class=\"displacy-arc\" id=\"arrow-32e643986f8044e4b456f6c6aa921f65-0-9\" stroke-width=\"2px\" d=\"M1295,352.0 C1295,177.0 1790.0,177.0 1790.0,352.0\" fill=\"none\" stroke=\"currentColor\"/>\n",
              "    <text dy=\"1.25em\" style=\"font-size: 0.8em; letter-spacing: 1px\">\n",
              "        <textPath xlink:href=\"#arrow-32e643986f8044e4b456f6c6aa921f65-0-9\" class=\"displacy-label\" startOffset=\"50%\" side=\"left\" fill=\"currentColor\" text-anchor=\"middle\">cc</textPath>\n",
              "    </text>\n",
              "    <path class=\"displacy-arrowhead\" d=\"M1790.0,354.0 L1798.0,342.0 1782.0,342.0\" fill=\"currentColor\"/>\n",
              "</g>\n",
              "\n",
              "<g class=\"displacy-arrow\">\n",
              "    <path class=\"displacy-arc\" id=\"arrow-32e643986f8044e4b456f6c6aa921f65-0-10\" stroke-width=\"2px\" d=\"M1295,352.0 C1295,89.5 1970.0,89.5 1970.0,352.0\" fill=\"none\" stroke=\"currentColor\"/>\n",
              "    <text dy=\"1.25em\" style=\"font-size: 0.8em; letter-spacing: 1px\">\n",
              "        <textPath xlink:href=\"#arrow-32e643986f8044e4b456f6c6aa921f65-0-10\" class=\"displacy-label\" startOffset=\"50%\" side=\"left\" fill=\"currentColor\" text-anchor=\"middle\">conj</textPath>\n",
              "    </text>\n",
              "    <path class=\"displacy-arrowhead\" d=\"M1970.0,354.0 L1978.0,342.0 1962.0,342.0\" fill=\"currentColor\"/>\n",
              "</g>\n",
              "\n",
              "<g class=\"displacy-arrow\">\n",
              "    <path class=\"displacy-arc\" id=\"arrow-32e643986f8044e4b456f6c6aa921f65-0-11\" stroke-width=\"2px\" d=\"M1995,352.0 C1995,264.5 2135.0,264.5 2135.0,352.0\" fill=\"none\" stroke=\"currentColor\"/>\n",
              "    <text dy=\"1.25em\" style=\"font-size: 0.8em; letter-spacing: 1px\">\n",
              "        <textPath xlink:href=\"#arrow-32e643986f8044e4b456f6c6aa921f65-0-11\" class=\"displacy-label\" startOffset=\"50%\" side=\"left\" fill=\"currentColor\" text-anchor=\"middle\">oprd</textPath>\n",
              "    </text>\n",
              "    <path class=\"displacy-arrowhead\" d=\"M2135.0,354.0 L2143.0,342.0 2127.0,342.0\" fill=\"currentColor\"/>\n",
              "</g>\n",
              "\n",
              "<g class=\"displacy-arrow\">\n",
              "    <path class=\"displacy-arc\" id=\"arrow-32e643986f8044e4b456f6c6aa921f65-0-12\" stroke-width=\"2px\" d=\"M1995,352.0 C1995,177.0 2315.0,177.0 2315.0,352.0\" fill=\"none\" stroke=\"currentColor\"/>\n",
              "    <text dy=\"1.25em\" style=\"font-size: 0.8em; letter-spacing: 1px\">\n",
              "        <textPath xlink:href=\"#arrow-32e643986f8044e4b456f6c6aa921f65-0-12\" class=\"displacy-label\" startOffset=\"50%\" side=\"left\" fill=\"currentColor\" text-anchor=\"middle\">prep</textPath>\n",
              "    </text>\n",
              "    <path class=\"displacy-arrowhead\" d=\"M2315.0,354.0 L2323.0,342.0 2307.0,342.0\" fill=\"currentColor\"/>\n",
              "</g>\n",
              "\n",
              "<g class=\"displacy-arrow\">\n",
              "    <path class=\"displacy-arc\" id=\"arrow-32e643986f8044e4b456f6c6aa921f65-0-13\" stroke-width=\"2px\" d=\"M2520,352.0 C2520,177.0 2840.0,177.0 2840.0,352.0\" fill=\"none\" stroke=\"currentColor\"/>\n",
              "    <text dy=\"1.25em\" style=\"font-size: 0.8em; letter-spacing: 1px\">\n",
              "        <textPath xlink:href=\"#arrow-32e643986f8044e4b456f6c6aa921f65-0-13\" class=\"displacy-label\" startOffset=\"50%\" side=\"left\" fill=\"currentColor\" text-anchor=\"middle\">det</textPath>\n",
              "    </text>\n",
              "    <path class=\"displacy-arrowhead\" d=\"M2520,354.0 L2512,342.0 2528,342.0\" fill=\"currentColor\"/>\n",
              "</g>\n",
              "\n",
              "<g class=\"displacy-arrow\">\n",
              "    <path class=\"displacy-arc\" id=\"arrow-32e643986f8044e4b456f6c6aa921f65-0-14\" stroke-width=\"2px\" d=\"M2695,352.0 C2695,264.5 2835.0,264.5 2835.0,352.0\" fill=\"none\" stroke=\"currentColor\"/>\n",
              "    <text dy=\"1.25em\" style=\"font-size: 0.8em; letter-spacing: 1px\">\n",
              "        <textPath xlink:href=\"#arrow-32e643986f8044e4b456f6c6aa921f65-0-14\" class=\"displacy-label\" startOffset=\"50%\" side=\"left\" fill=\"currentColor\" text-anchor=\"middle\">compound</textPath>\n",
              "    </text>\n",
              "    <path class=\"displacy-arrowhead\" d=\"M2695,354.0 L2687,342.0 2703,342.0\" fill=\"currentColor\"/>\n",
              "</g>\n",
              "\n",
              "<g class=\"displacy-arrow\">\n",
              "    <path class=\"displacy-arc\" id=\"arrow-32e643986f8044e4b456f6c6aa921f65-0-15\" stroke-width=\"2px\" d=\"M2345,352.0 C2345,89.5 2845.0,89.5 2845.0,352.0\" fill=\"none\" stroke=\"currentColor\"/>\n",
              "    <text dy=\"1.25em\" style=\"font-size: 0.8em; letter-spacing: 1px\">\n",
              "        <textPath xlink:href=\"#arrow-32e643986f8044e4b456f6c6aa921f65-0-15\" class=\"displacy-label\" startOffset=\"50%\" side=\"left\" fill=\"currentColor\" text-anchor=\"middle\">pobj</textPath>\n",
              "    </text>\n",
              "    <path class=\"displacy-arrowhead\" d=\"M2845.0,354.0 L2853.0,342.0 2837.0,342.0\" fill=\"currentColor\"/>\n",
              "</g>\n",
              "</svg></span>"
            ],
            "text/plain": [
              "<IPython.core.display.HTML object>"
            ]
          },
          "metadata": {},
          "output_type": "display_data"
        }
      ],
      "source": [
        "# Dependencies between the tokens in a sentence:\n",
        "louis_doc = english_trf( \"Louis XVI and the royal family were brought to Paris and made prisoners within the Tuileries Palace.\" )\n",
        "spacy.displacy.render(louis_doc, style='dep', jupyter=True)   # jupyter=True is required in some environments, optional in others"
      ]
    },
    {
      "cell_type": "code",
      "execution_count": null,
      "metadata": {
        "colab": {
          "base_uri": "https://localhost:8080/",
          "height": 318
        },
        "id": "oEcZ_2TfMsek",
        "outputId": "9c0a1ea6-06ad-47a7-f011-6768b77593d1"
      },
      "outputs": [
        {
          "data": {
            "text/html": [
              "<span class=\"tex2jax_ignore\"><svg xmlns=\"http://www.w3.org/2000/svg\" xmlns:xlink=\"http://www.w3.org/1999/xlink\" xml:lang=\"en\" id=\"4b3ad47f691c4551b4397775c070470d-0\" class=\"displacy\" width=\"1495\" height=\"297.0\" direction=\"ltr\" style=\"max-width: none; height: 297.0px; color: #666666; background: #00000000; font-family: Arial; direction: ltr\">\n",
              "<text class=\"displacy-token\" fill=\"currentColor\" text-anchor=\"middle\" y=\"213.0\">\n",
              "    <tspan class=\"displacy-word\" fill=\"currentColor\" x=\"50\">Louis</tspan>\n",
              "    <tspan class=\"displacy-tag\" dy=\"2em\" fill=\"currentColor\" x=\"50\">PROPN</tspan>\n",
              "</text>\n",
              "\n",
              "<text class=\"displacy-token\" fill=\"currentColor\" text-anchor=\"middle\" y=\"213.0\">\n",
              "    <tspan class=\"displacy-word\" fill=\"currentColor\" x=\"135\">XVI</tspan>\n",
              "    <tspan class=\"displacy-tag\" dy=\"2em\" fill=\"currentColor\" x=\"135\">PROPN</tspan>\n",
              "</text>\n",
              "\n",
              "<text class=\"displacy-token\" fill=\"currentColor\" text-anchor=\"middle\" y=\"213.0\">\n",
              "    <tspan class=\"displacy-word\" fill=\"currentColor\" x=\"220\">and</tspan>\n",
              "    <tspan class=\"displacy-tag\" dy=\"2em\" fill=\"currentColor\" x=\"220\">CCONJ</tspan>\n",
              "</text>\n",
              "\n",
              "<text class=\"displacy-token\" fill=\"currentColor\" text-anchor=\"middle\" y=\"213.0\">\n",
              "    <tspan class=\"displacy-word\" fill=\"currentColor\" x=\"305\">the</tspan>\n",
              "    <tspan class=\"displacy-tag\" dy=\"2em\" fill=\"currentColor\" x=\"305\">DET</tspan>\n",
              "</text>\n",
              "\n",
              "<text class=\"displacy-token\" fill=\"currentColor\" text-anchor=\"middle\" y=\"213.0\">\n",
              "    <tspan class=\"displacy-word\" fill=\"currentColor\" x=\"390\">royal</tspan>\n",
              "    <tspan class=\"displacy-tag\" dy=\"2em\" fill=\"currentColor\" x=\"390\">ADJ</tspan>\n",
              "</text>\n",
              "\n",
              "<text class=\"displacy-token\" fill=\"currentColor\" text-anchor=\"middle\" y=\"213.0\">\n",
              "    <tspan class=\"displacy-word\" fill=\"currentColor\" x=\"475\">family</tspan>\n",
              "    <tspan class=\"displacy-tag\" dy=\"2em\" fill=\"currentColor\" x=\"475\">NOUN</tspan>\n",
              "</text>\n",
              "\n",
              "<text class=\"displacy-token\" fill=\"currentColor\" text-anchor=\"middle\" y=\"213.0\">\n",
              "    <tspan class=\"displacy-word\" fill=\"currentColor\" x=\"560\">were</tspan>\n",
              "    <tspan class=\"displacy-tag\" dy=\"2em\" fill=\"currentColor\" x=\"560\">AUX</tspan>\n",
              "</text>\n",
              "\n",
              "<text class=\"displacy-token\" fill=\"currentColor\" text-anchor=\"middle\" y=\"213.0\">\n",
              "    <tspan class=\"displacy-word\" fill=\"currentColor\" x=\"645\">brought</tspan>\n",
              "    <tspan class=\"displacy-tag\" dy=\"2em\" fill=\"currentColor\" x=\"645\">VERB</tspan>\n",
              "</text>\n",
              "\n",
              "<text class=\"displacy-token\" fill=\"currentColor\" text-anchor=\"middle\" y=\"213.0\">\n",
              "    <tspan class=\"displacy-word\" fill=\"currentColor\" x=\"730\">to</tspan>\n",
              "    <tspan class=\"displacy-tag\" dy=\"2em\" fill=\"currentColor\" x=\"730\">ADP</tspan>\n",
              "</text>\n",
              "\n",
              "<text class=\"displacy-token\" fill=\"currentColor\" text-anchor=\"middle\" y=\"213.0\">\n",
              "    <tspan class=\"displacy-word\" fill=\"currentColor\" x=\"815\">Paris</tspan>\n",
              "    <tspan class=\"displacy-tag\" dy=\"2em\" fill=\"currentColor\" x=\"815\">PROPN</tspan>\n",
              "</text>\n",
              "\n",
              "<text class=\"displacy-token\" fill=\"currentColor\" text-anchor=\"middle\" y=\"213.0\">\n",
              "    <tspan class=\"displacy-word\" fill=\"currentColor\" x=\"900\">and</tspan>\n",
              "    <tspan class=\"displacy-tag\" dy=\"2em\" fill=\"currentColor\" x=\"900\">CCONJ</tspan>\n",
              "</text>\n",
              "\n",
              "<text class=\"displacy-token\" fill=\"currentColor\" text-anchor=\"middle\" y=\"213.0\">\n",
              "    <tspan class=\"displacy-word\" fill=\"currentColor\" x=\"985\">made</tspan>\n",
              "    <tspan class=\"displacy-tag\" dy=\"2em\" fill=\"currentColor\" x=\"985\">VERB</tspan>\n",
              "</text>\n",
              "\n",
              "<text class=\"displacy-token\" fill=\"currentColor\" text-anchor=\"middle\" y=\"213.0\">\n",
              "    <tspan class=\"displacy-word\" fill=\"currentColor\" x=\"1070\">prisoners</tspan>\n",
              "    <tspan class=\"displacy-tag\" dy=\"2em\" fill=\"currentColor\" x=\"1070\">NOUN</tspan>\n",
              "</text>\n",
              "\n",
              "<text class=\"displacy-token\" fill=\"currentColor\" text-anchor=\"middle\" y=\"213.0\">\n",
              "    <tspan class=\"displacy-word\" fill=\"currentColor\" x=\"1155\">within</tspan>\n",
              "    <tspan class=\"displacy-tag\" dy=\"2em\" fill=\"currentColor\" x=\"1155\">ADP</tspan>\n",
              "</text>\n",
              "\n",
              "<text class=\"displacy-token\" fill=\"currentColor\" text-anchor=\"middle\" y=\"213.0\">\n",
              "    <tspan class=\"displacy-word\" fill=\"currentColor\" x=\"1240\">the</tspan>\n",
              "    <tspan class=\"displacy-tag\" dy=\"2em\" fill=\"currentColor\" x=\"1240\">DET</tspan>\n",
              "</text>\n",
              "\n",
              "<text class=\"displacy-token\" fill=\"currentColor\" text-anchor=\"middle\" y=\"213.0\">\n",
              "    <tspan class=\"displacy-word\" fill=\"currentColor\" x=\"1325\">Tuileries</tspan>\n",
              "    <tspan class=\"displacy-tag\" dy=\"2em\" fill=\"currentColor\" x=\"1325\">PROPN</tspan>\n",
              "</text>\n",
              "\n",
              "<text class=\"displacy-token\" fill=\"currentColor\" text-anchor=\"middle\" y=\"213.0\">\n",
              "    <tspan class=\"displacy-word\" fill=\"currentColor\" x=\"1410\">Palace.</tspan>\n",
              "    <tspan class=\"displacy-tag\" dy=\"2em\" fill=\"currentColor\" x=\"1410\">PROPN</tspan>\n",
              "</text>\n",
              "\n",
              "<g class=\"displacy-arrow\">\n",
              "    <path class=\"displacy-arc\" id=\"arrow-4b3ad47f691c4551b4397775c070470d-0-0\" stroke-width=\"1px\" d=\"M62,171.0 62,156.83333333333334 126.0,156.83333333333334 126.0,171.0\" fill=\"none\" stroke=\"currentColor\"/>\n",
              "    <text dy=\"1.25em\" style=\"font-size: 0.8em; letter-spacing: 1px\">\n",
              "        <textPath xlink:href=\"#arrow-4b3ad47f691c4551b4397775c070470d-0-0\" class=\"displacy-label\" startOffset=\"50%\" side=\"left\" fill=\"currentColor\" text-anchor=\"middle\">compound</textPath>\n",
              "    </text>\n",
              "    <path class=\"displacy-arrowhead\" d=\"M62,173.0 L58,165.0 66,165.0\" fill=\"currentColor\"/>\n",
              "</g>\n",
              "\n",
              "<g class=\"displacy-arrow\">\n",
              "    <path class=\"displacy-arc\" id=\"arrow-4b3ad47f691c4551b4397775c070470d-0-1\" stroke-width=\"1px\" d=\"M147,171.0 147,114.33333333333334 645.0,114.33333333333334 645.0,171.0\" fill=\"none\" stroke=\"currentColor\"/>\n",
              "    <text dy=\"1.25em\" style=\"font-size: 0.8em; letter-spacing: 1px\">\n",
              "        <textPath xlink:href=\"#arrow-4b3ad47f691c4551b4397775c070470d-0-1\" class=\"displacy-label\" startOffset=\"50%\" side=\"left\" fill=\"currentColor\" text-anchor=\"middle\">nsubjpass</textPath>\n",
              "    </text>\n",
              "    <path class=\"displacy-arrowhead\" d=\"M147,173.0 L143,165.0 151,165.0\" fill=\"currentColor\"/>\n",
              "</g>\n",
              "\n",
              "<g class=\"displacy-arrow\">\n",
              "    <path class=\"displacy-arc\" id=\"arrow-4b3ad47f691c4551b4397775c070470d-0-2\" stroke-width=\"1px\" d=\"M147,171.0 147,156.83333333333334 211.0,156.83333333333334 211.0,171.0\" fill=\"none\" stroke=\"currentColor\"/>\n",
              "    <text dy=\"1.25em\" style=\"font-size: 0.8em; letter-spacing: 1px\">\n",
              "        <textPath xlink:href=\"#arrow-4b3ad47f691c4551b4397775c070470d-0-2\" class=\"displacy-label\" startOffset=\"50%\" side=\"left\" fill=\"currentColor\" text-anchor=\"middle\">cc</textPath>\n",
              "    </text>\n",
              "    <path class=\"displacy-arrowhead\" d=\"M211.0,173.0 L215.0,165.0 207.0,165.0\" fill=\"currentColor\"/>\n",
              "</g>\n",
              "\n",
              "<g class=\"displacy-arrow\">\n",
              "    <path class=\"displacy-arc\" id=\"arrow-4b3ad47f691c4551b4397775c070470d-0-3\" stroke-width=\"1px\" d=\"M317,171.0 317,142.66666666666666 469.0,142.66666666666666 469.0,171.0\" fill=\"none\" stroke=\"currentColor\"/>\n",
              "    <text dy=\"1.25em\" style=\"font-size: 0.8em; letter-spacing: 1px\">\n",
              "        <textPath xlink:href=\"#arrow-4b3ad47f691c4551b4397775c070470d-0-3\" class=\"displacy-label\" startOffset=\"50%\" side=\"left\" fill=\"currentColor\" text-anchor=\"middle\">det</textPath>\n",
              "    </text>\n",
              "    <path class=\"displacy-arrowhead\" d=\"M317,173.0 L313,165.0 321,165.0\" fill=\"currentColor\"/>\n",
              "</g>\n",
              "\n",
              "<g class=\"displacy-arrow\">\n",
              "    <path class=\"displacy-arc\" id=\"arrow-4b3ad47f691c4551b4397775c070470d-0-4\" stroke-width=\"1px\" d=\"M402,171.0 402,156.83333333333334 466.0,156.83333333333334 466.0,171.0\" fill=\"none\" stroke=\"currentColor\"/>\n",
              "    <text dy=\"1.25em\" style=\"font-size: 0.8em; letter-spacing: 1px\">\n",
              "        <textPath xlink:href=\"#arrow-4b3ad47f691c4551b4397775c070470d-0-4\" class=\"displacy-label\" startOffset=\"50%\" side=\"left\" fill=\"currentColor\" text-anchor=\"middle\">amod</textPath>\n",
              "    </text>\n",
              "    <path class=\"displacy-arrowhead\" d=\"M402,173.0 L398,165.0 406,165.0\" fill=\"currentColor\"/>\n",
              "</g>\n",
              "\n",
              "<g class=\"displacy-arrow\">\n",
              "    <path class=\"displacy-arc\" id=\"arrow-4b3ad47f691c4551b4397775c070470d-0-5\" stroke-width=\"1px\" d=\"M147,171.0 147,128.5 472.0,128.5 472.0,171.0\" fill=\"none\" stroke=\"currentColor\"/>\n",
              "    <text dy=\"1.25em\" style=\"font-size: 0.8em; letter-spacing: 1px\">\n",
              "        <textPath xlink:href=\"#arrow-4b3ad47f691c4551b4397775c070470d-0-5\" class=\"displacy-label\" startOffset=\"50%\" side=\"left\" fill=\"currentColor\" text-anchor=\"middle\">conj</textPath>\n",
              "    </text>\n",
              "    <path class=\"displacy-arrowhead\" d=\"M472.0,173.0 L476.0,165.0 468.0,165.0\" fill=\"currentColor\"/>\n",
              "</g>\n",
              "\n",
              "<g class=\"displacy-arrow\">\n",
              "    <path class=\"displacy-arc\" id=\"arrow-4b3ad47f691c4551b4397775c070470d-0-6\" stroke-width=\"1px\" d=\"M572,171.0 572,156.83333333333334 636.0,156.83333333333334 636.0,171.0\" fill=\"none\" stroke=\"currentColor\"/>\n",
              "    <text dy=\"1.25em\" style=\"font-size: 0.8em; letter-spacing: 1px\">\n",
              "        <textPath xlink:href=\"#arrow-4b3ad47f691c4551b4397775c070470d-0-6\" class=\"displacy-label\" startOffset=\"50%\" side=\"left\" fill=\"currentColor\" text-anchor=\"middle\">auxpass</textPath>\n",
              "    </text>\n",
              "    <path class=\"displacy-arrowhead\" d=\"M572,173.0 L568,165.0 576,165.0\" fill=\"currentColor\"/>\n",
              "</g>\n",
              "\n",
              "<g class=\"displacy-arrow\">\n",
              "    <path class=\"displacy-arc\" id=\"arrow-4b3ad47f691c4551b4397775c070470d-0-7\" stroke-width=\"1px\" d=\"M657,171.0 657,156.83333333333334 721.0,156.83333333333334 721.0,171.0\" fill=\"none\" stroke=\"currentColor\"/>\n",
              "    <text dy=\"1.25em\" style=\"font-size: 0.8em; letter-spacing: 1px\">\n",
              "        <textPath xlink:href=\"#arrow-4b3ad47f691c4551b4397775c070470d-0-7\" class=\"displacy-label\" startOffset=\"50%\" side=\"left\" fill=\"currentColor\" text-anchor=\"middle\">prep</textPath>\n",
              "    </text>\n",
              "    <path class=\"displacy-arrowhead\" d=\"M721.0,173.0 L725.0,165.0 717.0,165.0\" fill=\"currentColor\"/>\n",
              "</g>\n",
              "\n",
              "<g class=\"displacy-arrow\">\n",
              "    <path class=\"displacy-arc\" id=\"arrow-4b3ad47f691c4551b4397775c070470d-0-8\" stroke-width=\"1px\" d=\"M742,171.0 742,156.83333333333334 806.0,156.83333333333334 806.0,171.0\" fill=\"none\" stroke=\"currentColor\"/>\n",
              "    <text dy=\"1.25em\" style=\"font-size: 0.8em; letter-spacing: 1px\">\n",
              "        <textPath xlink:href=\"#arrow-4b3ad47f691c4551b4397775c070470d-0-8\" class=\"displacy-label\" startOffset=\"50%\" side=\"left\" fill=\"currentColor\" text-anchor=\"middle\">pobj</textPath>\n",
              "    </text>\n",
              "    <path class=\"displacy-arrowhead\" d=\"M806.0,173.0 L810.0,165.0 802.0,165.0\" fill=\"currentColor\"/>\n",
              "</g>\n",
              "\n",
              "<g class=\"displacy-arrow\">\n",
              "    <path class=\"displacy-arc\" id=\"arrow-4b3ad47f691c4551b4397775c070470d-0-9\" stroke-width=\"1px\" d=\"M657,171.0 657,142.66666666666666 894.0,142.66666666666666 894.0,171.0\" fill=\"none\" stroke=\"currentColor\"/>\n",
              "    <text dy=\"1.25em\" style=\"font-size: 0.8em; letter-spacing: 1px\">\n",
              "        <textPath xlink:href=\"#arrow-4b3ad47f691c4551b4397775c070470d-0-9\" class=\"displacy-label\" startOffset=\"50%\" side=\"left\" fill=\"currentColor\" text-anchor=\"middle\">cc</textPath>\n",
              "    </text>\n",
              "    <path class=\"displacy-arrowhead\" d=\"M894.0,173.0 L898.0,165.0 890.0,165.0\" fill=\"currentColor\"/>\n",
              "</g>\n",
              "\n",
              "<g class=\"displacy-arrow\">\n",
              "    <path class=\"displacy-arc\" id=\"arrow-4b3ad47f691c4551b4397775c070470d-0-10\" stroke-width=\"1px\" d=\"M657,171.0 657,128.5 982.0,128.5 982.0,171.0\" fill=\"none\" stroke=\"currentColor\"/>\n",
              "    <text dy=\"1.25em\" style=\"font-size: 0.8em; letter-spacing: 1px\">\n",
              "        <textPath xlink:href=\"#arrow-4b3ad47f691c4551b4397775c070470d-0-10\" class=\"displacy-label\" startOffset=\"50%\" side=\"left\" fill=\"currentColor\" text-anchor=\"middle\">conj</textPath>\n",
              "    </text>\n",
              "    <path class=\"displacy-arrowhead\" d=\"M982.0,173.0 L986.0,165.0 978.0,165.0\" fill=\"currentColor\"/>\n",
              "</g>\n",
              "\n",
              "<g class=\"displacy-arrow\">\n",
              "    <path class=\"displacy-arc\" id=\"arrow-4b3ad47f691c4551b4397775c070470d-0-11\" stroke-width=\"1px\" d=\"M997,171.0 997,156.83333333333334 1061.0,156.83333333333334 1061.0,171.0\" fill=\"none\" stroke=\"currentColor\"/>\n",
              "    <text dy=\"1.25em\" style=\"font-size: 0.8em; letter-spacing: 1px\">\n",
              "        <textPath xlink:href=\"#arrow-4b3ad47f691c4551b4397775c070470d-0-11\" class=\"displacy-label\" startOffset=\"50%\" side=\"left\" fill=\"currentColor\" text-anchor=\"middle\">oprd</textPath>\n",
              "    </text>\n",
              "    <path class=\"displacy-arrowhead\" d=\"M1061.0,173.0 L1065.0,165.0 1057.0,165.0\" fill=\"currentColor\"/>\n",
              "</g>\n",
              "\n",
              "<g class=\"displacy-arrow\">\n",
              "    <path class=\"displacy-arc\" id=\"arrow-4b3ad47f691c4551b4397775c070470d-0-12\" stroke-width=\"1px\" d=\"M997,171.0 997,142.66666666666666 1149.0,142.66666666666666 1149.0,171.0\" fill=\"none\" stroke=\"currentColor\"/>\n",
              "    <text dy=\"1.25em\" style=\"font-size: 0.8em; letter-spacing: 1px\">\n",
              "        <textPath xlink:href=\"#arrow-4b3ad47f691c4551b4397775c070470d-0-12\" class=\"displacy-label\" startOffset=\"50%\" side=\"left\" fill=\"currentColor\" text-anchor=\"middle\">prep</textPath>\n",
              "    </text>\n",
              "    <path class=\"displacy-arrowhead\" d=\"M1149.0,173.0 L1153.0,165.0 1145.0,165.0\" fill=\"currentColor\"/>\n",
              "</g>\n",
              "\n",
              "<g class=\"displacy-arrow\">\n",
              "    <path class=\"displacy-arc\" id=\"arrow-4b3ad47f691c4551b4397775c070470d-0-13\" stroke-width=\"1px\" d=\"M1252,171.0 1252,142.66666666666666 1404.0,142.66666666666666 1404.0,171.0\" fill=\"none\" stroke=\"currentColor\"/>\n",
              "    <text dy=\"1.25em\" style=\"font-size: 0.8em; letter-spacing: 1px\">\n",
              "        <textPath xlink:href=\"#arrow-4b3ad47f691c4551b4397775c070470d-0-13\" class=\"displacy-label\" startOffset=\"50%\" side=\"left\" fill=\"currentColor\" text-anchor=\"middle\">det</textPath>\n",
              "    </text>\n",
              "    <path class=\"displacy-arrowhead\" d=\"M1252,173.0 L1248,165.0 1256,165.0\" fill=\"currentColor\"/>\n",
              "</g>\n",
              "\n",
              "<g class=\"displacy-arrow\">\n",
              "    <path class=\"displacy-arc\" id=\"arrow-4b3ad47f691c4551b4397775c070470d-0-14\" stroke-width=\"1px\" d=\"M1337,171.0 1337,156.83333333333334 1401.0,156.83333333333334 1401.0,171.0\" fill=\"none\" stroke=\"currentColor\"/>\n",
              "    <text dy=\"1.25em\" style=\"font-size: 0.8em; letter-spacing: 1px\">\n",
              "        <textPath xlink:href=\"#arrow-4b3ad47f691c4551b4397775c070470d-0-14\" class=\"displacy-label\" startOffset=\"50%\" side=\"left\" fill=\"currentColor\" text-anchor=\"middle\">compound</textPath>\n",
              "    </text>\n",
              "    <path class=\"displacy-arrowhead\" d=\"M1337,173.0 L1333,165.0 1341,165.0\" fill=\"currentColor\"/>\n",
              "</g>\n",
              "\n",
              "<g class=\"displacy-arrow\">\n",
              "    <path class=\"displacy-arc\" id=\"arrow-4b3ad47f691c4551b4397775c070470d-0-15\" stroke-width=\"1px\" d=\"M1167,171.0 1167,128.5 1407.0,128.5 1407.0,171.0\" fill=\"none\" stroke=\"currentColor\"/>\n",
              "    <text dy=\"1.25em\" style=\"font-size: 0.8em; letter-spacing: 1px\">\n",
              "        <textPath xlink:href=\"#arrow-4b3ad47f691c4551b4397775c070470d-0-15\" class=\"displacy-label\" startOffset=\"50%\" side=\"left\" fill=\"currentColor\" text-anchor=\"middle\">pobj</textPath>\n",
              "    </text>\n",
              "    <path class=\"displacy-arrowhead\" d=\"M1407.0,173.0 L1411.0,165.0 1403.0,165.0\" fill=\"currentColor\"/>\n",
              "</g>\n",
              "</svg></span>"
            ],
            "text/plain": [
              "<IPython.core.display.HTML object>"
            ]
          },
          "metadata": {},
          "output_type": "display_data"
        }
      ],
      "source": [
        "# You can get it a litte more compact, and do other styling, like\n",
        "spacy.displacy.render(louis_doc, style='dep', options={'compact':True, 'bg':'#00000000', 'color':'#666666', 'distance':85, 'word_spacing':42, 'arrow_stroke':1}, jupyter=True)"
      ]
    },
    {
      "attachments": {},
      "cell_type": "markdown",
      "metadata": {
        "id": "Af84RatRW2p8"
      },
      "source": [
        "# Slightly less basic"
      ]
    },
    {
      "attachments": {},
      "cell_type": "markdown",
      "metadata": {
        "id": "xWwcIzGnMsel"
      },
      "source": [
        "## Extracting patterns with rule-based matching"
      ]
    },
    {
      "cell_type": "code",
      "execution_count": null,
      "metadata": {
        "colab": {
          "base_uri": "https://localhost:8080/"
        },
        "id": "XUZtIYIPMsem",
        "outputId": "8f9bb340-5510-4fa0-b434-7f8b0d88e5de"
      },
      "outputs": [
        {
          "name": "stdout",
          "output_type": "stream",
          "text": [
            "Revolution names\n",
            "-Revolution names\n",
            "pre-Revolution names\n",
            "constitutional monarch\n",
            "first railway\n",
            "new period\n",
            "massive migration\n",
            "popular uprising\n",
            "public works\n",
            "gigantic public works\n",
            "new boulevards\n",
            "wide new boulevards\n",
            "new opera\n",
            "central market\n",
            "new aqueducts\n"
          ]
        }
      ],
      "source": [
        "from spacy.matcher import Matcher\n",
        "\n",
        "# Look for   one or more adjectives  before  a noun or proper noun\n",
        "an_pattern = [\n",
        "    [ {\"POS\": \"ADJ\", \"OP\": \"+\"},   {\"POS\": {\"IN\":[\"NOUN\",\"PROPN\"]}} ],\n",
        "    # you can have more rules in a matcher\n",
        "]\n",
        "matcher = Matcher(english_trf.vocab)\n",
        "matcher.add(\"adjective-noun\", an_pattern)\n",
        "matches = matcher( paris_doc )\n",
        "for match_id, start_i, end_i in matches:\n",
        "    print( paris_doc[ start_i : end_i ] ) # from the indices, print the described span \n",
        "\n",
        "# Notes: \n",
        "# - you can express more complex types of patterns, see https://spacy.io/api/matcher#patterns\n",
        "# - You could extend this to more complex tasks, like maybe rule-based phrase and named entity extraction.\n",
        "#   - ...though you might base that on more specific existing code like PhraseMatcher and EntityRuler,\n",
        "#     which may work faster and/or annotate automatically.\n",
        "#   - and in the case of NER would probaly still be less effective than existing trained NER model components\n"
      ]
    },
    {
      "attachments": {},
      "cell_type": "markdown",
      "metadata": {
        "id": "aDinb2pLMseq"
      },
      "source": [
        "##  Inventing your own functions to apply to spacy"
      ]
    },
    {
      "cell_type": "code",
      "execution_count": null,
      "metadata": {
        "colab": {
          "base_uri": "https://localhost:8080/"
        },
        "id": "ISTrSQV8Mses",
        "outputId": "e722fefc-694d-4c86-e50a-f0b9850aa568"
      },
      "outputs": [
        {
          "name": "stdout",
          "output_type": "stream",
          "text": [
            "[During the Restoration, the bridges and squares of Paris were returned to their pre-Revolution names; the July Revolution in 1830  (commemorated by the July Column on the Place de la Bastille) brought a constitutional monarch, Louis Philippe I, to power.]\n",
            "Complexity: 4.3\n",
            "\n",
            "[The first railway line to Paris opened in 1837, beginning a new period of massive migration from the provinces to the city.]\n",
            "Complexity: 2.4\n",
            "\n",
            "[Louis-Philippe was overthrown by a popular uprising in the streets of Paris in 1848.]\n",
            "Complexity: 2.5\n",
            "\n",
            "[His successor, Napoleon III,  alongside the newly appointed prefect of the Seine, Georges-Eugène Haussmann, launched a gigantic public works project to  build wide new boulevards, a new opera house, a central market, new aqueducts, sewers and parks, including the Bois de Boulogne  and Bois de Vincennes.]\n",
            "Complexity: 4.4\n",
            "\n"
          ]
        }
      ],
      "source": [
        "def complexity( span ):\n",
        "    ''' Takes a parsed spacy sentence, and estimates its complexity.\n",
        "\n",
        "        Currently uses _only_ the average distance of the dependencies, which is decent for how basic it is. \n",
        "        Consider e.g.\n",
        "        - long sentences are often more complex, but not proportional to their length\n",
        "          They might, say, separate independent clauses.\n",
        "          They become harder to parse e.g. if there are references to something further away.\n",
        "        - parenthetical sentences will lengthen references across them\n",
        "        - lists and flat compounds will drag the complexity down\n",
        "        which all seem to make basic sense.\n",
        "\n",
        "        We don't even really need normalization, in that the units is 'token distance' (though we should take more care across PUNCT and such)\n",
        "\n",
        "        Downsides include that spacy seems to assign some dependencies just because it needs to, not necessarily because they are linguistically sensible.\n",
        "        Also, we should probably count most named entities as a single thing, not the amount of tokens in them\n",
        "    '''\n",
        "    # this idea happens to be easy to implement, because every token has a relation .head, and every token has a position\n",
        "    dists = []\n",
        "    for tok in span:\n",
        "        dist = tok.head.i - tok.i\n",
        "        dists.append( dist ) \n",
        "    abs_dists = list( abs(d)  for d in dists )\n",
        "    avg_dist = float(sum(abs_dists)) / len(abs_dists)\n",
        "    return avg_dist\n",
        "\n",
        "\n",
        "for sent in english_trf( paris_doc ).sents:\n",
        "    print('[%s]\\nComplexity: %.1f\\n'%(sent.text.replace('\\n',' ').strip(), complexity(sent) ) )"
      ]
    },
    {
      "attachments": {},
      "cell_type": "markdown",
      "metadata": {
        "id": "r32o_hmgMses"
      },
      "source": [
        "## Some specialized models\n",
        "\n",
        "Take a look around existing models.\n",
        "There are sometimes readymade models that help do specific tasks, and then possibly _only_ those tasks.\n",
        "\n",
        "Say you have a text that you know contains multiple languages, and you want to feed each to a parser for that language:"
      ]
    },
    {
      "attachments": {},
      "cell_type": "markdown",
      "metadata": {
        "id": "3Qt3KKiCMset"
      },
      "source": [
        "### Language detection\n",
        "useful to take multiple languages in one piece of text, and be able to feed it to the right nlp object (which you would still need to have manually loaded first, so this probably makes the most sense if you want to work in a small pre-set number of languges).\n",
        "\n",
        "There is a [spacy_fastlang](https://pypi.org/project/spacy-fastlang/) library (which depends on the [fasttext](https://fasttext.cc/) library) that can do that for you.\n",
        "\n",
        "The below uses our own helper function called `detect_language()`, which is a handful of lines mostly jut doing the boilerplate of \"create model, stick fastlang on it, run it, and report the best-scoring language and (our certainty it's correct)\""
      ]
    },
    {
      "cell_type": "code",
      "execution_count": null,
      "metadata": {
        "id": "sjJflUfiMset"
      },
      "outputs": [],
      "source": [
        "%pip install --quiet spacy_fastlang"
      ]
    },
    {
      "cell_type": "code",
      "execution_count": null,
      "metadata": {
        "colab": {
          "base_uri": "https://localhost:8080/"
        },
        "id": "z5_mzJFjMseu",
        "outputId": "f72454be-fd44-4a2a-92ac-f41949c19236"
      },
      "outputs": [
        {
          "name": "stdout",
          "output_type": "stream",
          "text": [
            "LANGUAGE DETECTION\n",
            "    en (certainty: 0.73) for  'I am cheese'\n",
            "    nl (certainty: 0.53) for  'Ik ben kaas'\n",
            "    fr (certainty: 1.00) for  'Je suis fromage'\n",
            "    de (certainty: 1.00) for  'Ich bin Käse'\n",
            "    af (certainty: 0.66) for  'Ek is kaas'\n",
            "    id (certainty: 0.58) for  'Saya keju'\n",
            "    fi (certainty: 0.91) for  'Olen juusto'\n",
            "    tr (certainty: 0.29) for  'ben peynirim'\n"
          ]
        }
      ],
      "source": [
        "print(\"LANGUAGE DETECTION\")\n",
        "for example in (\"I am cheese\", \"Ik ben kaas\", \"Je suis fromage\", \"Ich bin Käse\", \"Ek is kaas\", \"Saya keju\", \"Olen juusto\", \"ben peynirim\"):\n",
        "    lang, score = wetsuite.helpers.spacy.detect_language(example)\n",
        "    print( \"    %s (certainty: %.2f) for  %r\"%( lang, score, example ) )"
      ]
    },
    {
      "attachments": {},
      "cell_type": "markdown",
      "metadata": {
        "id": "14hkvLJdMsev"
      },
      "source": [
        "### Sentence splitting\n",
        "\n",
        "Some models use rule based sentence splitting that happens to be... unpredictable and not always great.\n",
        "For one example:"
      ]
    },
    {
      "cell_type": "code",
      "execution_count": 8,
      "metadata": {},
      "outputs": [
        {
          "data": {
            "text/html": [
              "Wario Land <span style=\"color:red\">//</span> 4 ( Japans : ワリオランドアドバンス; <span style=\"color:red\">//</span> Wario Land Advance ) is een platformspel, uitgebracht voor de Game Boy Advance in Europa op 16 november 2001. <span style=\"color:red\">//</span> Wario Land 4 ( Japans : ワリオランドアドバンス; <span style=\"color:red\">//</span> Wario Land Advance ) is een platformspel, uitgebracht voor de Game Boy Advance in Europa op 16 november 2001."
            ],
            "text/plain": [
              "<IPython.core.display.HTML object>"
            ]
          },
          "metadata": {},
          "output_type": "display_data"
        },
        {
          "data": {
            "text/html": [
              "Wario Land 4 is een platformspel, uitgebracht voor de Game Boy Advance in Europa op 16 november 2001. <span style=\"color:red\">//</span> Wario Land 4 is een platformspel, uitgebracht voor de Game Boy Advance in Europa op 16 november 2001."
            ],
            "text/plain": [
              "<IPython.core.display.HTML object>"
            ]
          },
          "metadata": {},
          "output_type": "display_data"
        },
        {
          "data": {
            "text/html": [
              "Land 4 is een platformspel, uitgebracht voor de Game Boy Advance in Europa op 16 november 2001. <span style=\"color:red\">//</span> Land 4 is een platformspel, uitgebracht voor de Game Boy Advance in Europa op 16 november 2001."
            ],
            "text/plain": [
              "<IPython.core.display.HTML object>"
            ]
          },
          "metadata": {},
          "output_type": "display_data"
        }
      ],
      "source": [
        "dutch = spacy.load('nl_core_news_lg')\n",
        "\n",
        "from IPython.display import HTML  # this uses HTML output to mark the split unambiguously with color. A little overkill, but clearer.\n",
        "splitter = ' <span style=\"color:red\">//</span> '\n",
        "\n",
        "for txt in (\n",
        "        'Wario Land 4 ( Japans : ワリオランドアドバンス; Wario Land Advance ) is een platformspel, uitgebracht voor de Game Boy Advance in Europa op 16 november 2001.',\n",
        "        'Wario Land 4 is een platformspel, uitgebracht voor de Game Boy Advance in Europa op 16 november 2001.',\n",
        "        #'Wario 4 is een platformspel, uitgebracht voor de Game Boy Advance in Europa op 16 november 2001.',\n",
        "        'Land 4 is een platformspel, uitgebracht voor de Game Boy Advance in Europa op 16 november 2001.',\n",
        "    ):\n",
        "    display( HTML( splitter.join( s.text for s in dutch(txt+' '+txt).sents) ) )\n"
      ]
    },
    {
      "attachments": {},
      "cell_type": "markdown",
      "metadata": {},
      "source": [
        "I have no idea why it does that and why it seems to vary so much.  I just know we can get better.\n",
        "\n",
        "For example, the [xx_sent_ud_sm](https://spacy.io/models/xx#xx_sent_ud_sm) model is trained on multiple languages. \n",
        "\n",
        "It seems to fare a little better, and even when it's not, it seems more of a known quantity than 'whatever the model you use today happens to do'."
      ]
    },
    {
      "cell_type": "code",
      "execution_count": null,
      "metadata": {
        "id": "1XuQCOHeMsew"
      },
      "outputs": [],
      "source": [
        "# !python3 -m spacy download xx_sent_ud_sm"
      ]
    },
    {
      "cell_type": "code",
      "execution_count": 14,
      "metadata": {
        "colab": {
          "base_uri": "https://localhost:8080/"
        },
        "id": "pxLMnQ7yMsey",
        "outputId": "06b9bfc3-8e79-4ac8-80df-a3cfc550f024"
      },
      "outputs": [
        {
          "name": "stdout",
          "output_type": "stream",
          "text": [
            "SENTENCE SPLITTING\n",
            "    [fr] C'est n'est pas une pipe.\n",
            "    [en] A capital after Mr. Abbreviation might throw things off.\n",
            "    [en] (Also) weird sentence starts could.\n",
            "    [en] As can ellipses... as you can imagine.\n",
            "    [en] As could \"Things we quote?\"\n",
            "    [en] ...as they are embedded sentences and what comes after is unknown.\n",
            "    [nl] (en die laatste zou anders werken met een komma)\n"
          ]
        }
      ],
      "source": [
        "print(\"SENTENCE SPLITTING\")\n",
        "split_doc = wetsuite.helpers.spacy.sentence_split(\"\"\"C'est n'est pas une pipe. A capital after Mr. Abbreviation might throw things off. (Also) weird sentence starts could. \n",
        "     As can ellipses... as you can imagine. As could \"Things we quote?\" ...as they are embedded sentences and what comes after is unknown. (en die laatste zou anders werken met een komma)\"\"\") \n",
        "\n",
        "# add language detection, as per our initial plan\n",
        "for sent in split_doc.sents: \n",
        "    text = sent.text.strip()\n",
        "    print('    [%s] %s'%( wetsuite.helpers.spacy.detect_language(text)[0], text ) )   "
      ]
    }
  ],
  "metadata": {
    "colab": {
      "include_colab_link": true,
      "provenance": []
    },
    "kernelspec": {
      "display_name": "Python 3",
      "language": "python",
      "name": "python3"
    },
    "language_info": {
      "codemirror_mode": {
        "name": "ipython",
        "version": 3
      },
      "file_extension": ".py",
      "mimetype": "text/x-python",
      "name": "python",
      "nbconvert_exporter": "python",
      "pygments_lexer": "ipython3",
      "version": "3.8.10"
    },
    "vscode": {
      "interpreter": {
        "hash": "31f2aee4e71d21fbe5cf8b01ff0e069b9275f58929596ceb00d14d90e3e16cd6"
      }
    }
  },
  "nbformat": 4,
  "nbformat_minor": 0
}
