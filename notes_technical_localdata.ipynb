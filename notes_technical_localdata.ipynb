{
  "cells": [
    {
      "cell_type": "markdown",
      "metadata": {},
      "source": [
        "<a href=\"https://colab.research.google.com/github/knobs-dials/wetsuite-dev/blob/main/notebooks/intermediate/technical_localdata.ipynb\" target=\"_parent\"><img src=\"https://colab.research.google.com/assets/colab-badge.svg\" alt=\"Open In Colab\"/></a>"
      ]
    },
    {
      "attachments": {},
      "cell_type": "markdown",
      "metadata": {
        "id": "khZ8mI-weajL"
      },
      "source": [
        "## Purpose of this notebook\n",
        "\n",
        "An introduction to storing collections of things in the localdata module, mostly the LocalKV class, that we provide."
      ]
    },
    {
      "cell_type": "markdown",
      "metadata": {},
      "source": [
        "## tl;dr for the programmers\n",
        "\n",
        "It's a key-value store that persists in a file, with some self-enforced type checking. \n",
        "Try not to do read and write concurrently."
      ]
    },
    {
      "cell_type": "code",
      "execution_count": 12,
      "metadata": {},
      "outputs": [
        {
          "data": {
            "text/plain": [
              "[('foo', 'bar')]"
            ]
          },
          "metadata": {},
          "output_type": "display_data"
        },
        {
          "data": {
            "text/plain": [
              "[('http://example.com',\n",
              "  b'<!doctype html>\\n<html>\\n<head>\\n    <title>Example Domain</title>\\n\\n    <meta charset=\"utf-8\" />\\n    <meta http-equiv=\"Content-type\" content=\"text/html; charset=utf-8\" />\\n    <meta name=\"viewport\" content=\"width=device-width, initial-scale=1\" />\\n    <style type=\"text/css\">\\n    body {\\n        background-color: #f0f0f2;\\n        margin: 0;\\n        padding: 0;\\n        font-family: -apple-system, system-ui, BlinkMacSystemFont, \"Segoe UI\", \"Open Sans\", \"Helvetica Neue\", Helvetica, Arial, sans-serif;\\n        \\n    }\\n    div {\\n        width: 600px;\\n        margin: 5em auto;\\n        padding: 2em;\\n        background-color: #fdfdff;\\n        border-radius: 0.5em;\\n        box-shadow: 2px 3px 7px 2px rgba(0,0,0,0.02);\\n    }\\n    a:link, a:visited {\\n        color: #38488f;\\n        text-decoration: none;\\n    }\\n    @media (max-width: 700px) {\\n        div {\\n            margin: 0 auto;\\n            width: auto;\\n        }\\n    }\\n    </style>    \\n</head>\\n\\n<body>\\n<div>\\n    <h1>Example Domain</h1>\\n    <p>This domain is for use in illustrative examples in documents. You may use this\\n    domain in literature without prior coordination or asking for permission.</p>\\n    <p><a href=\"https://www.iana.org/domains/example\">More information...</a></p>\\n</div>\\n</body>\\n</html>\\n')]"
            ]
          },
          "metadata": {},
          "output_type": "display_data"
        },
        {
          "data": {
            "text/plain": [
              "[('foo', {'bar': 1})]"
            ]
          },
          "metadata": {},
          "output_type": "display_data"
        }
      ],
      "source": [
        "import wetsuite.helpers.localdata\n",
        "\n",
        "# You can open one like:\n",
        "mystore = wetsuite.helpers.localdata.LocalKV('example_deleteme.db', str,str)\n",
        "# and then use it like:\n",
        "mystore.put('foo', 'bar')\n",
        "mystore.get('foo')\n",
        "#mystore.delete('foo')\n",
        "display( list( mystore.items()) )     # Gives [('foo', 'bar')]\n",
        "\n",
        "\n",
        "# There is a helper that lets you do HTTP fetches into a str-to-bytes store, like:\n",
        "fetch_store = wetsuite.helpers.localdata.LocalKV('fetch_deleteme.db', str,bytes)\n",
        "wetsuite.helpers.localdata.cached_fetch(fetch_store, 'http://example.com')\n",
        "display( list(fetch_store.items()))   # Gives [('http://example.com', b'<!doctype html>\\n<html>...\n",
        "\n",
        "\n",
        "# There is also a variant that lets you store python structures (of types that msgpack can encode)\n",
        "d_store = wetsuite.helpers.localdata.MsgpackKV('dicts_deleteme.db', str)\n",
        "d_store.put('foo', {'bar':1})\n",
        "display( list(d_store.items()))       # Gives [('foo', {'bar': 1})]"
      ]
    },
    {
      "cell_type": "markdown",
      "metadata": {},
      "source": [
        "## The longer introduction\n",
        "\n",
        "**Why?**\n",
        "\n",
        "Datasets that consist of files that someone cureated are\n",
        "nicely portable, but not the fastest to deal with in terms of writing code (consider also filename limits) _or_ opening all that all the time.\n",
        "More project than you'ld think float on \"flat collection of things\", whether that's files or S3 buckets.\n",
        "\n",
        "\n",
        "Creating intermediate data (also e.g. to avoid double work) has similar bookkeeping and efficiency issues (have enough files and just walking through them takes minutes, before you've started any work).\n",
        "\n",
        "You can do all that in just files, and if you're comfortable with that, have at it,\n",
        "but there is clunkiness and inefficiency you cannot avoid.\n",
        "\n",
        "\n",
        "On the other end you can have a structured database. \n",
        "They may be efficient and convenient, but only aftter a lot of up-front work - data design, installing it, etc.\n",
        "\n",
        "We might like an inbetween.\n"
      ]
    },
    {
      "cell_type": "markdown",
      "metadata": {},
      "source": [
        "***We've had computers for decades. Isn't this a solved problem?***\n",
        "\n",
        "For a good part, yes -- in different ways in different fields and to different degrees.\n",
        "\n",
        "Say, HDF5 is a great way to deal with large amounts of structured numberic data.\n",
        "\n",
        "More recently, Arrow is a file format that is quick to read, and reasonable to parallelize.\n",
        "...but not so much to write.\n",
        "\n",
        "\n",
        "Also, neither is _quite_ for text or for schemaless data.\n",
        "\n",
        "Also, they require a library, though not a seprate service, which would be okay if they check all other boxes - but they don't."
      ]
    },
    {
      "cell_type": "markdown",
      "metadata": {},
      "source": [
        "***At the risk of committing a \"not invented here\", maybe we'll roll our own.  What are our wishes?***\n",
        "\n",
        "It would be useful to have a mix of\n",
        "- saving things to disk, so that it sticks around\n",
        "- easy to use - loading and saving in a few lines of code at most\n",
        "- easy to find specific items you know you have\n",
        "- allows storing text, arbitrary files (probably as bytestrings), and _perhaps_ more\n",
        "- working with moderately large data\n",
        "    - allows iteration of large data (without loading all in RAM)\n",
        "    - allows _reasonably_ fast lookup of arbitrary items (without loading all in RAM or scanning the entire file)\n",
        "- preferably not requiring a library you need to install, and/or a database you need to install (both potentially requiring an admin)\n",
        "\n",
        "\n",
        "***Do we need all that?***\n",
        "\n",
        "No. \n",
        "\n",
        "More specifically, only sometimes, \n",
        "yet if we present a single thing for multiple needs, we want to check more boxes.\n",
        "\n",
        "So we made something that fits both \"can store intermediate data\" and \"can use to distribute datasets\" description.\n",
        "\n",
        "(It's a thin wrapper around sqlite3 -- but ideally you don't need to know about that. It's mentioned because this is part of the python3 standard library, meaning that if you use python3 - and you very likely do -  you need no further install to use this).\n",
        "\n",
        "There are still plenty of limitations. \n",
        "\n",
        "In particular, you can't access things concurrently (yes, WAL allows more concurrency, but it's less portable)."
      ]
    },
    {
      "cell_type": "code",
      "execution_count": 1,
      "metadata": {},
      "outputs": [],
      "source": [
        "import pprint, datetime\n",
        "import wetsuite.helpers.localdata"
      ]
    },
    {
      "cell_type": "markdown",
      "metadata": {},
      "source": [
        "### basic key-value use\n",
        "\n",
        "Not very useful yet, but a minimal example:"
      ]
    },
    {
      "cell_type": "code",
      "execution_count": 2,
      "metadata": {},
      "outputs": [],
      "source": [
        "# given that we open a store like:\n",
        "mystore = wetsuite.helpers.localdata.LocalKV('mystore.db', key_type=str,value_type=str)   # we tell it the keys should be string values, and so should the values\n",
        "\n",
        "# we can do:\n",
        "mystore.put('fish', 'one')\n",
        "mystore.put('fork', 'test')\n",
        "mystore.get('fish')\n",
        "mystore.delete('fish')"
      ]
    },
    {
      "cell_type": "code",
      "execution_count": 3,
      "metadata": {},
      "outputs": [
        {
          "name": "stdout",
          "output_type": "stream",
          "text": [
            "keys:                     ['a', 'fork']\n",
            "values:                   ['b', 'test']\n",
            "items:                    [('a', 'b'), ('fork', 'test')]\n",
            "len:                      2\n",
            "\"fork\" is a present key:  True\n"
          ]
        }
      ],
      "source": [
        "# There are also some functions like those present on python dicts, like\n",
        "print( 'keys:                    ', list(mystore.keys())    )   # list() because we we actually get a view   (much like python 3 dict behaviour)\n",
        "print( 'values:                  ', list(mystore.values())  ) \n",
        "print( 'items:                   ', list(mystore.items())   )\n",
        "print( 'len:                     ', len(mystore)      )\n",
        "print( '\"fork\" is a present key: ', ('fork' in mystore) )       # via __contains__()"
      ]
    },
    {
      "cell_type": "markdown",
      "metadata": {},
      "source": [
        "## Why this can be useful for files, and downloading\n",
        "\n",
        "Say you download a bunch of webpages, or gigabytes of PDFs. \n",
        "\n",
        "Yes, storing that into separate files is perfectly functional. \n",
        "The filesystem _is_ a simple database, after all.\n",
        "\n",
        "And it checks _most_ of the boxes mentioned above - except ease of use / few lines of code,\n",
        "because there is a bunch of boilerplate to write each use.\n",
        "\n",
        "And if you start doing this seriously, you will need to start thinking about \n",
        "- _not_ hardcoding paths of where you've actually put it,\n",
        "- what you name each on the filesystem (because most filesystems won't allow filenames longer than 255, and many URLs are),\n",
        "- finding specific items, based on the renaming you did, or maybe based on creating your own index\n",
        "and more such details.\n",
        "\n",
        "Sometimes none of that is hard, things just work. \n",
        "And being able to directly open the files for inspection is great.\n",
        "\n",
        "Yet in other cases all those details means this becomes a messy amount of extra work.\n",
        "And maybe you'll have to do that for each project, or each dataset.\n",
        "\n",
        "\n",
        "So we offer a disk-backed [key-value store](https://en.wikipedia.org/wiki/Key%E2%80%93value_database)\n",
        "(meaning each unique key is associated with a value - and no more structure than that)\n",
        "that lets you easily persist certain kinds of data, from relatively brief code.\n",
        "\n",
        "It's fairly minimal, but that's part of the point. "
      ]
    },
    {
      "attachments": {},
      "cell_type": "markdown",
      "metadata": {},
      "source": [
        "### Downloading into a store\n",
        "\n",
        "While collecting data online, we tend to download a multitude of items.\n",
        "\n",
        "If you have a bunch of URLs, want to fetch the according documents,\n",
        "maybe without putting each into \n",
        "and want to cache locally to avoid re-fetching on each run of a script,\n",
        "then our `cached_fetch( store, url )` can help:\n",
        "\n",
        "If we have previously fetched that URL, we can return the stored copy. If we did not, we fetch it, save it, then return it.\n",
        "<!-- (...assuming you don't need auth or other session state, and assuming you don't need them removed based on time and/or cacheing rules. We may fix some of that later) -->"
      ]
    },
    {
      "cell_type": "code",
      "execution_count": 4,
      "metadata": {},
      "outputs": [
        {
          "name": "stdout",
          "output_type": "stream",
          "text": [
            "Came from cache: True\n",
            "\n",
            "<!doctype html>\n",
            "<html>\n",
            "<head>\n",
            "    <title>Example Domain</title>\n",
            "\n",
            "    <meta charset=\"utf-8\" />\n",
            "    <meta http-equiv=\"Content-type\" content=\"text/html; charset=utf-8\" />\n",
            "    <meta name=\"viewport\" content=\"width=device-width, initial-scale=1\" />\n",
            "    <style type=\"text/css\">\n",
            "    body {\n",
            "        background-color: #f0f0f2;\n",
            "        margin: 0;\n",
            "        padding: 0;\n",
            "        font-family: -apple-system, system-ui, BlinkMacSystemFont, \"Segoe UI\", \"Open Sans\", \"Helvetica Neue\", Helvetica, Arial, sans-serif;\n",
            "        \n",
            "    }\n",
            "    div {\n",
            "        width: 600px;\n",
            "        margin: 5em auto;\n",
            "        padding: 2em;\n",
            "        background-color: #fdfdff;\n",
            "        border-radius: 0.5em;\n",
            "        box-shadow: 2px 3px 7px 2px rgba(0,0,0,0.02);\n",
            "    }\n",
            "    a:link, a:visited {\n",
            "        color: #38488f;\n",
            "        text-decoration: none;\n",
            "    }\n",
            "    @media (max-width: 700px) {\n",
            "        div {\n",
            "            margin: 0 auto;\n",
            "            width: auto;\n",
            "        }\n",
            "    }\n",
            "    </style>    \n",
            "</head>\n",
            "\n",
            "<body>\n",
            "<div>\n",
            "    <h1>Example Domain</h1>\n",
            "    <p>This domain is for use in illustrative examples in documents. You may use this\n",
            "    domain in literature without prior coordination or asking for permission.</p>\n",
            "    <p><a href=\"https://www.iana.org/domains/example\">More information...</a></p>\n",
            "</div>\n",
            "</body>\n",
            "</html>\n",
            "\n"
          ]
        }
      ],
      "source": [
        "download_store = wetsuite.helpers.localdata.LocalKV('download_store.db', key_type=str, value_type=bytes)  # values should be bytes, because cached_fetch stores downloads while still in bytestring form\n",
        "\n",
        "page_bytes, came_from_cache = wetsuite.helpers.localdata.cached_fetch( download_store, 'http://example.com/' )\n",
        "print( f'Came from cache: {came_from_cache}\\n' )\n",
        "print( page_bytes.decode('u8') )"
      ]
    },
    {
      "cell_type": "markdown",
      "metadata": {},
      "source": [
        "## On the name / path you want it to open\n",
        "\n",
        "tl;dr:\n",
        "- a bare filename means you get the same store each time, no matter what, in your homedir.\n",
        "- anything else, that looks absolute (or relative) gets handed through as-is."
      ]
    },
    {
      "cell_type": "markdown",
      "metadata": {},
      "source": [
        "For context, handing a pathless base name to bare sqlite would just put it in the current directory.\n",
        "\n",
        "The `cwd` isn't always where you think, so this is likely to sprinkle databases all over the place.\n",
        "This is a fairly confusion/mistake around sqlite - and files in general.\n",
        "\n",
        "Yo make it a little more controlled where things go, and avoid you you focusing on the not-very-portable workaround of using absolute paths, LocalKV and derived constructors will...\n",
        "- Given a **bare name**, e.g. `extracted.db`, returns an absolute path \n",
        "    within a \"this is where wetsuite keeps its stores directory\" within your user profile,\n",
        "    e.g. /home/myuser/.wetsuite/stores/extracted.db or C:\\Users\\myuser\\AppData\\Roaming\\.wetsuite\\stores\\extracted.db\n",
        "    Most of the point is that handing in the same name will lead to opening the same store, regardless of details.\n",
        "\n",
        "- given `:memory:` will create a memory-only store, not backed by disk\n",
        "\n",
        "- given an **absolute path**, will pass that through, and do what you expect\n",
        "  - this is not very portable if you do it directly\n",
        "  - ...yet this behaviour is useful in other ways: if you actually _wanted_ it in the current directory, instead of this function \n",
        "    consider something like  `os.path.abspath('mystore.db')`\n",
        "\n",
        "- given a **relative path**, it will pass that through -- which will open it relative to the current directory\n",
        "\n",
        "This is actually a description of what `wetsuite.helpers.localstore.resolve_path()` does. \n",
        "That helper just happens to be called in each constructor.\n"
      ]
    },
    {
      "cell_type": "code",
      "execution_count": null,
      "metadata": {},
      "outputs": [],
      "source": [
        "print( wetsuite.helpers.localdata.resolve_path('test.db') )\n",
        "print( wetsuite.helpers.localdata.resolve_path('rel/test.db') )\n",
        "print( wetsuite.helpers.localdata.resolve_path('/tmp/abs/test.db') )\n",
        "print( wetsuite.helpers.localdata.resolve_path(':memory:') )"
      ]
    },
    {
      "cell_type": "code",
      "execution_count": null,
      "metadata": {},
      "outputs": [],
      "source": [
        "# The KV functions also call this internally, so you can also see that it _actually_ put it there:\n",
        "store = wetsuite.helpers.localdata.LocalKV('deleteme.db', key_type=str, value_type=str)\n",
        "store.path"
      ]
    },
    {
      "attachments": {},
      "cell_type": "markdown",
      "metadata": {},
      "source": [
        "## Note on typing\n",
        "\n",
        "What types of python objects could we store in there? \n",
        "\n",
        "So, sqlite3 is a [DB-API](https://peps.python.org/pep-0249/)-like thing, \n",
        "so in theory we could hand in various python types - but will they be that same type once they are stored and fetched out again?\n",
        "\n",
        "Let's find out."
      ]
    },
    {
      "cell_type": "code",
      "execution_count": 5,
      "metadata": {},
      "outputs": [
        {
          "name": "stdout",
          "output_type": "stream",
          "text": [
            "[('five', '2023-11-05 12:59:03.691843'),\n",
            " ('four', b'4'),\n",
            " ('one', '1'),\n",
            " ('three', '3'),\n",
            " ('two', '2.2')]\n"
          ]
        }
      ],
      "source": [
        "typestore = wetsuite.helpers.localdata.LocalKV('typetest.db', str,None)   # keys:strings,   values: not checking so it does whatever sqlite decides\n",
        "\n",
        "typestore.put('one', 1)\n",
        "typestore.put('two', 2.2)\n",
        "typestore.put('three', '3')\n",
        "typestore.put('four', b'4')\n",
        "typestore.put('five', datetime.datetime.now())\n",
        "\n",
        "pprint.pprint( list( typestore.items() ) )"
      ]
    },
    {
      "attachments": {},
      "cell_type": "markdown",
      "metadata": {},
      "source": [
        "If you peek into the database from a shell using `sqlite3 typetst.db`, then `SELECT key, value, typeof(value) FROM kv`,  it is revealed that's all `text` except for one `blob`\n",
        "\n",
        "tl;dr for the users: \n",
        "- Whenever your use is served by storing only `bytes` (e.g. for downloaded files) or `str` (any text), sticking to that keeps things simple\n",
        "- We can do more, but that gets confusing  (see the rest of this cell why)\n",
        "- If you want to store more complex things, particularly nested python data structures, see the rest of this notebook\n",
        "\n",
        "\n",
        "To the programmers: \n",
        "- SQLite is [dynamically typed](https://en.wikipedia.org/wiki/Dynamic_typing), so will\n",
        "  - store whatever type it decides to store, without adhering to the type you have declared for the column\n",
        "    - and your language's sqlite library may have a say in that too\n",
        "  - return the type that got stored, without converting\n",
        "    - and your language's sqlite library may have a say in that too\n",
        "\n",
        "- python's sqlite3 library already seems to help [coercing](https://en.wikipedia.org/wiki/Type_conversion) -- _roughly_: to `str` unless it's `bytes`\n",
        "\n",
        "This combination makes it easy to mix things and confuse yourself.\n",
        "\n",
        "\n",
        "That potential confision is why, when opening a store, \n",
        "we ask you to decide up front what type to put in, \n",
        "and why it actively checks, as a sanity check that _we_, \n",
        "the programmer, are actually being consistent.\n",
        "\n",
        "(You _can_ disable that checking by handing in None for both.)"
      ]
    },
    {
      "cell_type": "markdown",
      "metadata": {},
      "source": [
        "Caveat: the types it checks aren't stored (yet?),\n",
        "so you better be consistent about opening the same store with the same type checking later."
      ]
    },
    {
      "attachments": {},
      "cell_type": "markdown",
      "metadata": {},
      "source": [
        "# Serializing more complex data.\n",
        "\n",
        "\n",
        "You will often end up creating structured data, at first in the form of lists and such.\n",
        ": Writing as CSV works until you need commas, which tends to be too soon\n",
        ": writing TSV works until your data accidentally contains tabs. CSV and TSV are common because they're just so easy to read and write and work well enough.\n",
        "\n",
        "And then you may want a bit of nested types and/or mixed types e.g. lists, dicts; of ints, of floats, strings, bytes.\n",
        "\n",
        "\n",
        "Writing JSON files is a good option actually, also because it has become and informal standard for a lot of interchange.\n",
        "One-JSON-thing-per line files (often called JSONL, sometims NDJSON, LDJSON) also avoid the many-file problem.\n",
        "I would generally recommend this for portable interchange, when you want other people to pick up your data.\n",
        "\n",
        "\n",
        "SQLite has no reason to natively understand whatever python is doing, so if we want it to later return what we handed in, then it is up to our middle later to pack it into something that does that, and unpack it on use.\n",
        "\n",
        "Options include.\n",
        "- Python's pickle - stores [more than just the primitives](https://docs.python.org/3/library/pickle.html#what-can-be-pickled-and-unpickled), though has some security concerns\n",
        "- JSON - a common interchange format, though it doesn't have a type for `date`/`datetime`\n",
        "- MsgPack - faster than JSON, though doesn't do datetime out of the box either\n",
        "\n",
        "Each has their own advantages and drawbacks. \n",
        "\n",
        "We chose to focus on `msgpack`, so there is a `MsgpackKV`, which handles the same as LocalKV but with that mentioned extra handling (implementation-wise, they just add an encode on `put()`, and decode on `get()`). \n",
        "Consider:"
      ]
    },
    {
      "cell_type": "code",
      "execution_count": 6,
      "metadata": {},
      "outputs": [
        {
          "name": "stdout",
          "output_type": "stream",
          "text": [
            "{'a': ['b']}\n"
          ]
        },
        {
          "data": {
            "text/plain": [
              "dict"
            ]
          },
          "execution_count": 6,
          "metadata": {},
          "output_type": "execute_result"
        }
      ],
      "source": [
        "msgpack_store = wetsuite.helpers.localdata.MsgpackKV('msgpacktest.db')\n",
        "msgpack_store.put('one', {'a':['b']})\n",
        "print( msgpack_store.get('one') )\n",
        "type( msgpack_store.get('one') ) # the type of what comes out is...   (mostly to point out it's not that as text)"
      ]
    },
    {
      "cell_type": "markdown",
      "metadata": {},
      "source": []
    },
    {
      "cell_type": "code",
      "execution_count": 21,
      "metadata": {},
      "outputs": [
        {
          "name": "stdout",
          "output_type": "stream",
          "text": [
            "one:str  {'a': ['b']}:dict\n",
            "two:str  three:str\n"
          ]
        }
      ],
      "source": [
        "# ...and yes, you _could_ just use that always, even for more primitive types.\n",
        "#   but maybe don't do that unless you're fine with mixing types in the way that LocalKV prevents\n",
        "msgpack_store.put('two', 'three')\n",
        "type( msgpack_store.get('two') )\n",
        "\n",
        "for k, v in msgpack_store.items():\n",
        "    print( '%s:%s  %s:%s'%(k, type(k).__name__, v,type(v).__name__) )\n"
      ]
    },
    {
      "cell_type": "markdown",
      "metadata": {},
      "source": [
        "# More notes"
      ]
    },
    {
      "attachments": {},
      "cell_type": "markdown",
      "metadata": {},
      "source": [
        "## Limitations\n",
        "\n",
        "...you should probably not be using this expecting speed or parallelism.\n",
        "\n",
        "We default to commit immediately (what we call autocommit), so for small things are limited by IOPS. \n",
        "You can put() with commit=False and eventually commit(), which on bulk inserts is much faster,\n",
        "but it's slightly riskier in that if that borks, you may have to do some manual cleanup.\n",
        "\n",
        "Parallelism is limited, because sqlite's is - multiple processes can read, but only one can write."
      ]
    },
    {
      "cell_type": "markdown",
      "metadata": {},
      "source": [
        "Also, assume this This is basically an append-only database.\n",
        "If you remove items, assume it will fragment and that the file stays large,\n",
        "until you do a vacuum, which basically rewrites the entire file."
      ]
    },
    {
      "cell_type": "markdown",
      "metadata": {},
      "source": [
        "## Minimal syntax hackery\n",
        "If you want to store something, you always use `put()`. If you want to getch something, use `get()`.\n",
        "\n",
        "Sure, we could save you a few keystrokes by making it act like a dict,\n",
        "but that starts to be a leaky abstraction particularly once we get to storing more complex values -\n",
        "if you expected ORM-like behaviour where altering those might get mirrored in the database, that often wouldn't work and arguably shouldn't (for hard-to-explain reasons). \n",
        "\n",
        "So we make you do it, to keep things clear. "
      ]
    }
  ],
  "metadata": {
    "colab": {
      "include_colab_link": true,
      "provenance": []
    },
    "kernelspec": {
      "display_name": "Python 3",
      "language": "python",
      "name": "python3"
    },
    "language_info": {
      "codemirror_mode": {
        "name": "ipython",
        "version": 3
      },
      "file_extension": ".py",
      "mimetype": "text/x-python",
      "name": "python",
      "nbconvert_exporter": "python",
      "pygments_lexer": "ipython3",
      "version": "3.8.10"
    },
    "vscode": {
      "interpreter": {
        "hash": "31f2aee4e71d21fbe5cf8b01ff0e069b9275f58929596ceb00d14d90e3e16cd6"
      }
    }
  },
  "nbformat": 4,
  "nbformat_minor": 0
}
